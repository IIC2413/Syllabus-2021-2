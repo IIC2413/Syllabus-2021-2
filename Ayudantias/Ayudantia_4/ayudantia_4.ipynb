{
  "nbformat": 4,
  "nbformat_minor": 5,
  "metadata": {
    "kernelspec": {
      "name": "python3",
      "display_name": "Python 3.9.6 64-bit"
    },
    "language_info": {
      "codemirror_mode": {
        "name": "ipython",
        "version": 3
      },
      "file_extension": ".py",
      "mimetype": "text/x-python",
      "name": "python",
      "nbconvert_exporter": "python",
      "pygments_lexer": "ipython3",
      "version": "3.9.6"
    },
    "interpreter": {
      "hash": "00d0da2beda986aec30816e4cd7fb4d22aa303e0c7be1e29f09be47940c81e46"
    },
    "colab": {
      "name": "ayudantia_c2.ipynb",
      "provenance": [],
      "collapsed_sections": []
    }
  },
  "cells": [
    {
      "cell_type": "markdown",
      "metadata": {
        "id": "197A0TNUXUy6"
      },
      "source": [
        "# Ayudantía Control 2\n",
        "\n",
        "Miguel Martínez"
      ],
      "id": "197A0TNUXUy6"
    },
    {
      "cell_type": "markdown",
      "metadata": {
        "id": "K03RlMkAXUy8"
      },
      "source": [
        "## Esquema"
      ],
      "id": "K03RlMkAXUy8"
    },
    {
      "cell_type": "markdown",
      "metadata": {
        "id": "JQhQ9g30XUy8"
      },
      "source": [
        "### Stores\n",
        "\n",
        "`id`: <tt>int primary key</tt> \\\n",
        "`email`: <tt>varchar not null</tt> \\\n",
        "`name`: <tt>varchar not null</tt> \\\n",
        "`created_at`: <tt>date not null</tt> \n",
        "\n",
        "### Products\n",
        "\n",
        "`id`: <tt>int primary key</tt>\\\n",
        "`name`: <tt>varchar not null</tt>\\\n",
        "`store_id`: <tt>int not null, foreign key from `Stores`</tt>\\\n",
        "`row_order`: <tt>int</tt>\\\n",
        "`created_at`: <tt>date not null</tt>\n",
        "\n",
        "### Variants\n",
        "\n",
        "`id`: <tt>int primary key</tt>\\\n",
        "`product_id`: <tt>int not null, foreign key from `Products`</tt>\\\n",
        "`is_master`: <tt>varchar not null, 'True' or 'False'</tt>\\\n",
        "`price`: <tt>int not null</tt>\\\n",
        "`quantity`: <tt>int not null</tt>\\\n",
        "`name_suffix`: <tt>varchar not null</tt>\\\n",
        "`created_at`: <tt>date not null</tt>\n",
        "\n",
        "### Bills\n",
        "\n",
        "`id`: <tt>int primary key</tt>\\\n",
        "`email`: <tt>varchar not null</tt>\\\n",
        "`address`: <tt>varchar not null</tt>\\\n",
        "`store_id`: <tt>int not null, foreign key from `Stores`</tt>\\\n",
        "`status`: <tt>varchar not null</tt>\\\n",
        "`created_at`: <tt>date not null</tt>\n",
        "\n",
        "### BillVariants\n",
        "\n",
        "`id`: <tt>int primary key</tt>\\\n",
        "`bill_id`: <tt>int not null, foreign key from `Bills`</tt>\\\n",
        "`quantity`: <tt>int not null</tt>\\\n",
        "`price`: <tt>int not null</tt>\\\n",
        "`variant_id`: <tt>int not null, foreign key from `Variants`</tt>\\\n",
        "`discount_rate`: <tt>int default(0)</tt>\\\n",
        "`created_at`: <tt>date not null</tt>\n"
      ],
      "id": "JQhQ9g30XUy8"
    },
    {
      "cell_type": "markdown",
      "metadata": {
        "id": "j4-xgmzuXUy9"
      },
      "source": [
        "## Setup"
      ],
      "id": "j4-xgmzuXUy9"
    },
    {
      "cell_type": "code",
      "metadata": {
        "id": "nwXBTShUXUy9"
      },
      "source": [
        "%load_ext sql"
      ],
      "id": "nwXBTShUXUy9",
      "execution_count": null,
      "outputs": []
    },
    {
      "cell_type": "code",
      "metadata": {
        "id": "oI5jjwv1XUy_"
      },
      "source": [
        "%sql sqlite:///tu_shop_mini.db"
      ],
      "id": "oI5jjwv1XUy_",
      "execution_count": null,
      "outputs": []
    },
    {
      "cell_type": "code",
      "metadata": {
        "id": "TGhEsUWbXUy_"
      },
      "source": [
        "%sql SELECT COUNT(*) FROM Bills;"
      ],
      "id": "TGhEsUWbXUy_",
      "execution_count": null,
      "outputs": []
    },
    {
      "cell_type": "code",
      "metadata": {
        "id": "rzjpUdtIXUy_"
      },
      "source": [
        "%%sql\n",
        "SELECT * FROM Products\n",
        "LIMIT 1;"
      ],
      "id": "rzjpUdtIXUy_",
      "execution_count": null,
      "outputs": []
    },
    {
      "cell_type": "markdown",
      "metadata": {
        "id": "roZ2olZtXUy_"
      },
      "source": [
        "## Consultas"
      ],
      "id": "roZ2olZtXUy_"
    },
    {
      "cell_type": "markdown",
      "metadata": {
        "id": "RfNlf68FjUMf"
      },
      "source": [
        "1. Los nombres de productos que sean vendidos por la tienda `tío zetamart` y la tienda `pc_faketory`. Un producto se considerará igual a otro si ambos tienen el mismo nombre."
      ],
      "id": "RfNlf68FjUMf"
    },
    {
      "cell_type": "code",
      "metadata": {
        "id": "5Gd5OP6-jUUJ"
      },
      "source": [
        "%%sql\n",
        "SELECT Products.name\n",
        "FROM Products, Stores\n",
        "WHERE Products.store_id = Stores.id AND Stores.name = 'tío zetamart'\n",
        "INTERSECT\n",
        "SELECT Products.name\n",
        "FROM Products, Stores\n",
        "WHERE Products.store_id = Stores.id AND Stores.name = 'pc_faketory'"
      ],
      "id": "5Gd5OP6-jUUJ",
      "execution_count": null,
      "outputs": []
    },
    {
      "cell_type": "markdown",
      "metadata": {
        "id": "RZkEsbesjGPP"
      },
      "source": [
        "2. La cantidad de unidades vendidas de cada producto en cada tienda."
      ],
      "id": "RZkEsbesjGPP"
    },
    {
      "cell_type": "code",
      "metadata": {
        "id": "NINLotJ_jGVN"
      },
      "source": [
        "%%sql\n",
        "SELECT Stores.name, Products.name, SUM(BillVariants.quantity)\n",
        "FROM Stores, Products, Billvariants, Variants\n",
        "WHERE Stores.id = Products.store_id\n",
        "AND Variants.product_id = Products.id\n",
        "AND BillVariants.variant_id = Variants.id\n",
        "GROUP BY Stores.id, Products.id"
      ],
      "id": "NINLotJ_jGVN",
      "execution_count": null,
      "outputs": []
    },
    {
      "cell_type": "markdown",
      "metadata": {
        "id": "1WQD_b7oiTbQ"
      },
      "source": [
        "3. El valor de las ventas de cada tienda en marzo, ordenadas por ventas."
      ],
      "id": "1WQD_b7oiTbQ"
    },
    {
      "cell_type": "code",
      "metadata": {
        "id": "Skdl53XpiTie"
      },
      "source": [
        "%%sql\n",
        "SELECT Stores.name, SUM(BillVariants.quantity * BillVariants.price * ((100 - BillVariants.discount_rate)*1.0/100)) as ventas\n",
        "FROM Stores, Products, Variants, BillVariants\n",
        "WHERE Stores.id = Products.store_id\n",
        "AND Variants.product_id = Products.id\n",
        "AND BillVariants.variant_id = Variants.id\n",
        "AND BillVariants.created_at BETWEEN '2021-03-01' AND '2021-04-01'\n",
        "GROUP BY Stores.id\n",
        "ORDER BY ventas"
      ],
      "id": "Skdl53XpiTie",
      "execution_count": null,
      "outputs": []
    },
    {
      "cell_type": "markdown",
      "metadata": {
        "id": "u3K_1R7YhwyA"
      },
      "source": [
        "4. Los *ids* de las variantes que no han tenido ninguna venta en marzo y tienen stock disponible."
      ],
      "id": "u3K_1R7YhwyA"
    },
    {
      "cell_type": "code",
      "metadata": {
        "id": "Qu3R_rFAhw8G"
      },
      "source": [
        "%%sql\n",
        "SELECT Variants.id\n",
        "FROM Variants\n",
        "WHERE Variants.quantity > 0\n",
        "EXCEPT\n",
        "SELECT Variants.id\n",
        "FROM Variants, BillVariants\n",
        "WHERE Variants.id = BillVariants.variant_id\n",
        "AND BillVariants.created_at BETWEEN '2021-03-01' AND '2021-04-01'"
      ],
      "id": "Qu3R_rFAhw8G",
      "execution_count": null,
      "outputs": []
    },
    {
      "cell_type": "markdown",
      "metadata": {
        "id": "4QIQyA1qXUzA"
      },
      "source": [
        "5. El nombre y precio de la variante con el precio más caro."
      ],
      "id": "4QIQyA1qXUzA"
    },
    {
      "cell_type": "code",
      "metadata": {
        "id": "84L5dH6aXUzA"
      },
      "source": [
        "%%sql\n",
        "SELECT (Products.name || ' ' || Variants.name_suffix) as full_name, Variants.price\n",
        "FROM Products, Variants\n",
        "WHERE Products.id = Variants.product_id\n",
        "AND Variants.price = (SELECT MAX(Variants.price) FROM Variants)"
      ],
      "id": "84L5dH6aXUzA",
      "execution_count": null,
      "outputs": []
    },
    {
      "cell_type": "markdown",
      "metadata": {
        "id": "t9H4iaFoXUzA"
      },
      "source": [
        "6. El valor promedio de venta de cada tienda en marzo."
      ],
      "id": "t9H4iaFoXUzA"
    },
    {
      "cell_type": "code",
      "metadata": {
        "id": "e2AwGXjiXUzB"
      },
      "source": [
        "%%sql\n",
        "SELECT Stores.name, AVG(ventas_marzo.ventas)\n",
        "  FROM Stores JOIN ( SELECT Stores.id as store_id, SUM(BillVariants.quantity * BillVariants.price * ((100 - BillVariants.discount_rate)*1.0/100)) as ventas\n",
        "  FROM Stores, Products, Variants, BillVariants\n",
        "  WHERE Stores.id = Products.store_id\n",
        "  AND Variants.product_id = Products.id\n",
        "  AND BillVariants.variant_id = Variants.id\n",
        "  AND BillVariants.created_at BETWEEN '2021-03-01' AND '2021-04-01'\n",
        "  GROUP BY Stores.id\n",
        "  ) as ventas_marzo\n",
        "  WHERE Stores.id = ventas_marzo.store_id\n",
        "GROUP BY Stores.id"
      ],
      "id": "e2AwGXjiXUzB",
      "execution_count": null,
      "outputs": []
    },
    {
      "cell_type": "markdown",
      "metadata": {
        "id": "yOEgLpfDXUzB"
      },
      "source": [
        "7. El porcentaje del total de clientes que fueron recurrentes en el mes de abril. Se consideran recurrentes a aquellos que hayan comprado alguna vez antes de comprar en abril. Los clientes se identifican por el mail."
      ],
      "id": "yOEgLpfDXUzB"
    },
    {
      "cell_type": "code",
      "metadata": {
        "id": "hNcDU5HFXUzB"
      },
      "source": [
        "%%sql\n",
        "Select COUNT(DISTINCT clientes_abril.email)*1.0/COUNT(DISTINCT Bills.email)*100 as porcentaje\n",
        "FROM Bills LEFT OUTER JOIN (\n",
        "  SELECT Bills.email\n",
        "  FROM Bills\n",
        "  WHERE Bills.created_at < '2021-04-01'\n",
        ") as clientes_abril\n",
        "ON Bills.email = clientes_abril.email\n",
        "AND Bills.created_at > '2021-04-01'"
      ],
      "id": "hNcDU5HFXUzB",
      "execution_count": null,
      "outputs": []
    },
    {
      "cell_type": "markdown",
      "metadata": {
        "id": "KwgcEf7dXUzC"
      },
      "source": [
        "8. La cantidad de días en promedio que han pasado desde que se creó cada venta, agrupada por <tt>status</tt>.\n",
        "\n",
        "\n",
        "\n",
        "*   `DATE(SUBSTR(column, 0, 11))` retorna una `DATE` de sqlite a partir de una columna de fecha de nuestra base de datos.\n",
        "*   `DATE('now')` retorna un objeto `DATE` de sqlite con la fecha de hoy.\n",
        "*   La función `JULIANDAY(date)` retorna los días que han pasado entre `date` y una fecha constante muy en el pasado.\n",
        "\n"
      ],
      "id": "KwgcEf7dXUzC"
    },
    {
      "cell_type": "code",
      "metadata": {
        "id": "svzhH6m4XUzC"
      },
      "source": [
        "%%sql\n",
        "SELECT Bills.status, AVG(JULIANDAY(DATE('now')) - JULIANDAY(DATE(SUBSTR(Bills.created_at, 0, 11)))) AS average_diff\n",
        "FROM Bills\n",
        "GROUP BY Bills.status"
      ],
      "id": "svzhH6m4XUzC",
      "execution_count": null,
      "outputs": []
    },
    {
      "cell_type": "markdown",
      "metadata": {
        "id": "Ngw16wRwXUzC"
      },
      "source": [
        "9. El nombre de la tienda que más ventas hizo en abril, junto con la cantidad de ventas."
      ],
      "id": "Ngw16wRwXUzC"
    },
    {
      "cell_type": "markdown",
      "metadata": {
        "id": "Cxu_3jdBerAD"
      },
      "source": [
        "Sin `LIMIT`"
      ],
      "id": "Cxu_3jdBerAD"
    },
    {
      "cell_type": "code",
      "metadata": {
        "id": "pLt3T7vnerUz"
      },
      "source": [
        "%%sql\n",
        "SELECT Stores.name, COUNT(Bills.id) as numero_ventas\n",
        "FROM Stores, Bills\n",
        "WHERE Stores.id = Bills.store_id\n",
        "AND Bills.created_at BETWEEN '2021-04-01' AND '2021-05-01'\n",
        "GROUP BY Stores.id\n",
        "HAVING numero_ventas = (SELECT MAX(aux.total_bills)\n",
        "  FROM (\n",
        "    SELECT COUNT(Bills.id) as total_bills\n",
        "    FROM Stores JOIN Bills\n",
        "    ON Stores.id = Bills.store_id\n",
        "    WHERE Bills.created_at BETWEEN '2021-04-01' AND '2021-05-01'\n",
        "    GROUP BY Stores.id\n",
        "  ) as aux\n",
        ");"
      ],
      "id": "pLt3T7vnerUz",
      "execution_count": null,
      "outputs": []
    },
    {
      "cell_type": "markdown",
      "metadata": {
        "id": "5o3m3jjoerhJ"
      },
      "source": [
        "Con `LIMIT`"
      ],
      "id": "5o3m3jjoerhJ"
    },
    {
      "cell_type": "code",
      "metadata": {
        "id": "W_Y7c5I-XUzD"
      },
      "source": [
        "%%sql\n",
        "SELECT  Stores.name, COUNT(bills.id) as sales_count\n",
        "FROM Stores JOIN Bills\n",
        "ON Stores.id = Bills.store_id\n",
        "WHERE Bills.created_at BETWEEN '2021-04-01' AND '2021-05-01'\n",
        "GROUP BY Stores.id\n",
        "ORDER BY sales_count DESC\n",
        "LIMIT 5"
      ],
      "id": "W_Y7c5I-XUzD",
      "execution_count": null,
      "outputs": []
    }
  ]
}