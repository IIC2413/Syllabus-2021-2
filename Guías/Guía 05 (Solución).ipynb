{
  "nbformat": 4,
  "nbformat_minor": 0,
  "metadata": {
    "colab": {
      "name": "Guía 5",
      "provenance": [],
      "collapsed_sections": []
    },
    "kernelspec": {
      "display_name": "Python 3",
      "name": "python3"
    }
  },
  "cells": [
    {
      "cell_type": "markdown",
      "metadata": {
        "id": "vMe_cruNz0t3"
      },
      "source": [
        "#Guía 5: Índices\n",
        "\n",
        "Se cuenta con varias tablas que son instancias del siguiente esquema abstracto:\n",
        "\n",
        "* $\\color{green}{\\textbf{pelicula}}(\\color{blue}{\\underline{\\text{nombre}}}, \\color{blue}{\\underline{\\text{anho}}}, \\color{blue}{\\text{calificacion}}, \\color{blue}{\\text{votos}})$ \n",
        "* $\\color{green}{\\textbf{actor}}(\\color{blue}{\\underline{\\text{nombre}}}, \\color{blue}{\\text{genero}})$\n",
        "* $\\color{green}{\\textbf{personaje}}(\\color{blue}{\\underline{\\text{p_nombre}}}, \\color{blue}{\\underline{\\text{p_anho}}},  \\color{blue}{\\underline{\\text{a_nombre}}}, \\color{blue}{\\text{personaje}})$\n",
        "\n",
        "La tabla $\\color{green}{\\textbf{personaje}}$ usa llaves foráneas que hacen referencia a las tablas de $\\color{green}{\\textbf{actor}}(\\color{blue}{\\underline{\\text{a_nombre}}})$ y $\\color{green}{\\textbf{pelicula}}(\\color{blue}{\\underline{\\text{p_nombre}}}, \\color{blue}{\\underline{\\text{p_anho}}})$.\n",
        "\n",
        "Para iniciar el servidor virtual, instalar la base de datos postgres, y descargar los datos e importarlos, debe correr el siguiente bloque:\n",
        "\n"
      ]
    },
    {
      "cell_type": "code",
      "metadata": {
        "colab": {
          "base_uri": "https://localhost:8080/"
        },
        "id": "xN9MrCqDyMym",
        "outputId": "6ac1d02b-3d51-40bd-89e2-ad63e49c75b9"
      },
      "source": [
        "# install\n",
        "!apt update\n",
        "!apt install postgresql postgresql-contrib &>log\n",
        "!service postgresql start\n",
        "!sudo -u postgres psql -c \"CREATE USER root WITH SUPERUSER\"\n",
        "# set connection\n",
        "%load_ext sql\n",
        "%config SqlMagic.feedback=False \n",
        "%config SqlMagic.autopandas=True\n",
        "%sql postgresql+psycopg2://@/postgres\n",
        "!pip install gdown\n",
        "!gdown https://drive.google.com/uc?id=1tyY6baamCXrweBqu2MGJC_fOJMaV_6j7\n",
        "!gdown https://drive.google.com/uc?id=1ffipzThl9AWghHu0bfTKY-YMIsXdZGw_\n",
        "!sudo -u postgres psql -c \"CREATE SCHEMA g\"\n",
        "!sudo -u postgres psql -c \"CREATE SCHEMA gi\"\n",
        "!psql postgres < /content/guia5.sql\n",
        "!psql postgres < /content/guia5i.sql"
      ],
      "execution_count": 1,
      "outputs": [
        {
          "output_type": "stream",
          "name": "stdout",
          "text": [
            "Get:1 https://cloud.r-project.org/bin/linux/ubuntu bionic-cran40/ InRelease [3,626 B]\n",
            "Ign:2 https://developer.download.nvidia.com/compute/cuda/repos/ubuntu1804/x86_64  InRelease\n",
            "Get:3 https://cloud.r-project.org/bin/linux/ubuntu bionic-cran40/ Packages [68.5 kB]\n",
            "Get:4 http://security.ubuntu.com/ubuntu bionic-security InRelease [88.7 kB]\n",
            "Ign:5 https://developer.download.nvidia.com/compute/machine-learning/repos/ubuntu1804/x86_64  InRelease\n",
            "Get:6 http://ppa.launchpad.net/c2d4u.team/c2d4u4.0+/ubuntu bionic InRelease [15.9 kB]\n",
            "Hit:7 https://developer.download.nvidia.com/compute/cuda/repos/ubuntu1804/x86_64  Release\n",
            "Hit:8 https://developer.download.nvidia.com/compute/machine-learning/repos/ubuntu1804/x86_64  Release\n",
            "Hit:10 http://archive.ubuntu.com/ubuntu bionic InRelease\n",
            "Get:12 http://archive.ubuntu.com/ubuntu bionic-updates InRelease [88.7 kB]\n",
            "Hit:13 http://ppa.launchpad.net/cran/libgit2/ubuntu bionic InRelease\n",
            "Hit:14 http://ppa.launchpad.net/deadsnakes/ppa/ubuntu bionic InRelease\n",
            "Get:15 http://security.ubuntu.com/ubuntu bionic-security/main amd64 Packages [2,365 kB]\n",
            "Get:16 http://archive.ubuntu.com/ubuntu bionic-backports InRelease [74.6 kB]\n",
            "Get:17 http://ppa.launchpad.net/graphics-drivers/ppa/ubuntu bionic InRelease [21.3 kB]\n",
            "Get:18 http://archive.ubuntu.com/ubuntu bionic-updates/restricted amd64 Packages [638 kB]\n",
            "Get:19 http://ppa.launchpad.net/c2d4u.team/c2d4u4.0+/ubuntu bionic/main Sources [1,802 kB]\n",
            "Get:20 http://archive.ubuntu.com/ubuntu bionic-updates/main amd64 Packages [2,800 kB]\n",
            "Get:21 http://security.ubuntu.com/ubuntu bionic-security/universe amd64 Packages [1,429 kB]\n",
            "Get:22 http://security.ubuntu.com/ubuntu bionic-security/restricted amd64 Packages [606 kB]\n",
            "Get:23 http://archive.ubuntu.com/ubuntu bionic-updates/universe amd64 Packages [2,208 kB]\n",
            "Get:24 http://ppa.launchpad.net/c2d4u.team/c2d4u4.0+/ubuntu bionic/main amd64 Packages [922 kB]\n",
            "Get:25 http://ppa.launchpad.net/graphics-drivers/ppa/ubuntu bionic/main amd64 Packages [42.0 kB]\n",
            "Fetched 13.2 MB in 7s (1,838 kB/s)\n",
            "Reading package lists... Done\n",
            "Building dependency tree       \n",
            "Reading state information... Done\n",
            "80 packages can be upgraded. Run 'apt list --upgradable' to see them.\n",
            " * Starting PostgreSQL 10 database server\n",
            "   ...done.\n",
            "CREATE ROLE\n"
          ]
        },
        {
          "output_type": "stream",
          "name": "stderr",
          "text": [
            "/usr/local/lib/python3.7/dist-packages/psycopg2/__init__.py:144: UserWarning: The psycopg2 wheel package will be renamed from release 2.8; in order to keep installing from binary please use \"pip install psycopg2-binary\" instead. For details see: <http://initd.org/psycopg/docs/install.html#binary-install-from-pypi>.\n",
            "  \"\"\")\n"
          ]
        },
        {
          "output_type": "stream",
          "name": "stdout",
          "text": [
            "Requirement already satisfied: gdown in /usr/local/lib/python3.7/dist-packages (3.6.4)\n",
            "Requirement already satisfied: requests in /usr/local/lib/python3.7/dist-packages (from gdown) (2.23.0)\n",
            "Requirement already satisfied: six in /usr/local/lib/python3.7/dist-packages (from gdown) (1.15.0)\n",
            "Requirement already satisfied: tqdm in /usr/local/lib/python3.7/dist-packages (from gdown) (4.62.3)\n",
            "Requirement already satisfied: urllib3!=1.25.0,!=1.25.1,<1.26,>=1.21.1 in /usr/local/lib/python3.7/dist-packages (from requests->gdown) (1.24.3)\n",
            "Requirement already satisfied: certifi>=2017.4.17 in /usr/local/lib/python3.7/dist-packages (from requests->gdown) (2021.5.30)\n",
            "Requirement already satisfied: idna<3,>=2.5 in /usr/local/lib/python3.7/dist-packages (from requests->gdown) (2.10)\n",
            "Requirement already satisfied: chardet<4,>=3.0.2 in /usr/local/lib/python3.7/dist-packages (from requests->gdown) (3.0.4)\n",
            "Downloading...\n",
            "From: https://drive.google.com/uc?id=1tyY6baamCXrweBqu2MGJC_fOJMaV_6j7\n",
            "To: /content/guia5.sql\n",
            "211MB [00:01, 107MB/s]\n",
            "Downloading...\n",
            "From: https://drive.google.com/uc?id=1ffipzThl9AWghHu0bfTKY-YMIsXdZGw_\n",
            "To: /content/guia5i.sql\n",
            "211MB [00:02, 71.1MB/s]\n",
            "CREATE SCHEMA\n",
            "CREATE SCHEMA\n",
            "SET\n",
            "SET\n",
            "SET\n",
            "SET\n",
            "SET\n",
            " set_config \n",
            "------------\n",
            " \n",
            "(1 row)\n",
            "\n",
            "SET\n",
            "SET\n",
            "SET\n",
            "SET\n",
            "ERROR:  schema \"g\" already exists\n",
            "ALTER SCHEMA\n",
            "SET\n",
            "SET\n",
            "CREATE TABLE\n",
            "ALTER TABLE\n",
            "CREATE TABLE\n",
            "ALTER TABLE\n",
            "CREATE TABLE\n",
            "ALTER TABLE\n",
            "CREATE TABLE\n",
            "ALTER TABLE\n",
            "CREATE TABLE\n",
            "ALTER TABLE\n",
            "CREATE TABLE\n",
            "ALTER TABLE\n",
            "CREATE TABLE\n",
            "ALTER TABLE\n",
            "CREATE TABLE\n",
            "ALTER TABLE\n",
            "CREATE TABLE\n",
            "ALTER TABLE\n",
            "COPY 856421\n",
            "COPY 440234\n",
            "COPY 197219\n",
            "COPY 72696\n",
            "COPY 22490\n",
            "COPY 6401\n",
            "COPY 2170526\n",
            "COPY 944964\n",
            "COPY 372367\n",
            "ALTER TABLE\n",
            "ALTER TABLE\n",
            "ALTER TABLE\n",
            "ALTER TABLE\n",
            "ALTER TABLE\n",
            "ALTER TABLE\n",
            "ALTER TABLE\n",
            "ALTER TABLE\n",
            "ALTER TABLE\n",
            "ALTER TABLE\n",
            "ALTER TABLE\n",
            "ALTER TABLE\n",
            "ALTER TABLE\n",
            "ALTER TABLE\n",
            "ALTER TABLE\n",
            "GRANT\n",
            "GRANT\n",
            "GRANT\n",
            "GRANT\n",
            "GRANT\n",
            "GRANT\n",
            "GRANT\n",
            "GRANT\n",
            "GRANT\n",
            "ALTER DEFAULT PRIVILEGES\n",
            "ALTER DEFAULT PRIVILEGES\n",
            "SET\n",
            "SET\n",
            "SET\n",
            "SET\n",
            "SET\n",
            " set_config \n",
            "------------\n",
            " \n",
            "(1 row)\n",
            "\n",
            "SET\n",
            "SET\n",
            "SET\n",
            "SET\n",
            "ERROR:  schema \"gi\" already exists\n",
            "ALTER SCHEMA\n",
            "SET\n",
            "SET\n",
            "CREATE TABLE\n",
            "ALTER TABLE\n",
            "CREATE TABLE\n",
            "ALTER TABLE\n",
            "CREATE TABLE\n",
            "ALTER TABLE\n",
            "CREATE TABLE\n",
            "ALTER TABLE\n",
            "CREATE TABLE\n",
            "ALTER TABLE\n",
            "CREATE TABLE\n",
            "ALTER TABLE\n",
            "CREATE TABLE\n",
            "ALTER TABLE\n",
            "CREATE TABLE\n",
            "ALTER TABLE\n",
            "CREATE TABLE\n",
            "ALTER TABLE\n",
            "COPY 856421\n",
            "COPY 440234\n",
            "COPY 197219\n",
            "COPY 72696\n",
            "COPY 22490\n",
            "COPY 6401\n",
            "COPY 2170526\n",
            "COPY 944964\n",
            "COPY 372367\n",
            "ALTER TABLE\n",
            "ALTER TABLE\n",
            "ALTER TABLE\n",
            "ALTER TABLE\n",
            "ALTER TABLE\n",
            "ALTER TABLE\n",
            "ALTER TABLE\n",
            "ALTER TABLE\n",
            "ALTER TABLE\n",
            "CREATE INDEX\n",
            "CREATE INDEX\n",
            "CREATE INDEX\n",
            "CREATE INDEX\n",
            "CREATE INDEX\n",
            "CREATE INDEX\n",
            "CREATE INDEX\n",
            "CREATE INDEX\n",
            "CREATE INDEX\n",
            "CREATE INDEX\n",
            "CREATE INDEX\n",
            "CREATE INDEX\n",
            "CREATE INDEX\n",
            "CREATE INDEX\n",
            "CREATE INDEX\n",
            "CREATE INDEX\n",
            "CREATE INDEX\n",
            "CREATE INDEX\n",
            "CREATE INDEX\n",
            "CREATE INDEX\n",
            "CREATE INDEX\n",
            "CREATE INDEX\n",
            "CREATE INDEX\n",
            "CREATE INDEX\n",
            "CREATE INDEX\n",
            "CREATE INDEX\n",
            "CREATE INDEX\n",
            "ALTER TABLE\n",
            "ALTER TABLE\n",
            "ALTER TABLE\n",
            "ALTER TABLE\n",
            "ALTER TABLE\n",
            "ALTER TABLE\n",
            "GRANT\n",
            "GRANT\n",
            "GRANT\n",
            "GRANT\n",
            "GRANT\n",
            "GRANT\n",
            "GRANT\n",
            "GRANT\n",
            "GRANT\n",
            "ALTER DEFAULT PRIVILEGES\n",
            "ALTER DEFAULT PRIVILEGES\n"
          ]
        }
      ]
    },
    {
      "cell_type": "markdown",
      "metadata": {
        "id": "ydn64zTV5o9m"
      },
      "source": [
        "Ejecute la siguiente consulta para probar que todo ande bien:"
      ]
    },
    {
      "cell_type": "code",
      "metadata": {
        "colab": {
          "base_uri": "https://localhost:8080/",
          "height": 436
        },
        "id": "YswMeCEv2NKP",
        "outputId": "762f90be-5e36-48c7-fd6e-c60d925e0ecb"
      },
      "source": [
        "%sql SELECT * FROM g.pelicula100;"
      ],
      "execution_count": null,
      "outputs": [
        {
          "output_type": "stream",
          "name": "stdout",
          "text": [
            " * postgresql+psycopg2://@/postgres\n"
          ]
        },
        {
          "output_type": "execute_result",
          "data": {
            "text/html": [
              "<div>\n",
              "<style scoped>\n",
              "    .dataframe tbody tr th:only-of-type {\n",
              "        vertical-align: middle;\n",
              "    }\n",
              "\n",
              "    .dataframe tbody tr th {\n",
              "        vertical-align: top;\n",
              "    }\n",
              "\n",
              "    .dataframe thead th {\n",
              "        text-align: right;\n",
              "    }\n",
              "</style>\n",
              "<table border=\"1\" class=\"dataframe\">\n",
              "  <thead>\n",
              "    <tr style=\"text-align: right;\">\n",
              "      <th></th>\n",
              "      <th>nombre</th>\n",
              "      <th>anho</th>\n",
              "      <th>calificacion</th>\n",
              "      <th>votos</th>\n",
              "    </tr>\n",
              "  </thead>\n",
              "  <tbody>\n",
              "    <tr>\n",
              "      <th>0</th>\n",
              "      <td>The Bad Lieutenant: Port of Call - New Orleans</td>\n",
              "      <td>2009</td>\n",
              "      <td>6.7</td>\n",
              "      <td>64076</td>\n",
              "    </tr>\n",
              "    <tr>\n",
              "      <th>1</th>\n",
              "      <td>A Woman of Distinction</td>\n",
              "      <td>1950</td>\n",
              "      <td>6.7</td>\n",
              "      <td>239</td>\n",
              "    </tr>\n",
              "    <tr>\n",
              "      <th>2</th>\n",
              "      <td>Around the World</td>\n",
              "      <td>1943</td>\n",
              "      <td>5.8</td>\n",
              "      <td>130</td>\n",
              "    </tr>\n",
              "    <tr>\n",
              "      <th>3</th>\n",
              "      <td>Chain Lightning</td>\n",
              "      <td>1950</td>\n",
              "      <td>6.0</td>\n",
              "      <td>673</td>\n",
              "    </tr>\n",
              "    <tr>\n",
              "      <th>4</th>\n",
              "      <td>Los tarantos</td>\n",
              "      <td>1963</td>\n",
              "      <td>7.4</td>\n",
              "      <td>185</td>\n",
              "    </tr>\n",
              "    <tr>\n",
              "      <th>...</th>\n",
              "      <td>...</td>\n",
              "      <td>...</td>\n",
              "      <td>...</td>\n",
              "      <td>...</td>\n",
              "    </tr>\n",
              "    <tr>\n",
              "      <th>72691</th>\n",
              "      <td>Zizek!</td>\n",
              "      <td>2005</td>\n",
              "      <td>7.4</td>\n",
              "      <td>1173</td>\n",
              "    </tr>\n",
              "    <tr>\n",
              "      <th>72692</th>\n",
              "      <td>Chrigu</td>\n",
              "      <td>2007</td>\n",
              "      <td>7.5</td>\n",
              "      <td>117</td>\n",
              "    </tr>\n",
              "    <tr>\n",
              "      <th>72693</th>\n",
              "      <td>Unmistaken Child</td>\n",
              "      <td>2008</td>\n",
              "      <td>7.7</td>\n",
              "      <td>613</td>\n",
              "    </tr>\n",
              "    <tr>\n",
              "      <th>72694</th>\n",
              "      <td>Kyvadlo, jáma a nadeje</td>\n",
              "      <td>1984</td>\n",
              "      <td>7.8</td>\n",
              "      <td>610</td>\n",
              "    </tr>\n",
              "    <tr>\n",
              "      <th>72695</th>\n",
              "      <td>La planète blanche</td>\n",
              "      <td>2006</td>\n",
              "      <td>6.8</td>\n",
              "      <td>465</td>\n",
              "    </tr>\n",
              "  </tbody>\n",
              "</table>\n",
              "<p>72696 rows × 4 columns</p>\n",
              "</div>"
            ],
            "text/plain": [
              "                                               nombre  ...  votos\n",
              "0      The Bad Lieutenant: Port of Call - New Orleans  ...  64076\n",
              "1                              A Woman of Distinction  ...    239\n",
              "2                                    Around the World  ...    130\n",
              "3                                     Chain Lightning  ...    673\n",
              "4                                        Los tarantos  ...    185\n",
              "...                                               ...  ...    ...\n",
              "72691                                          Zizek!  ...   1173\n",
              "72692                                          Chrigu  ...    117\n",
              "72693                                Unmistaken Child  ...    613\n",
              "72694                          Kyvadlo, jáma a nadeje  ...    610\n",
              "72695                              La planète blanche  ...    465\n",
              "\n",
              "[72696 rows x 4 columns]"
            ]
          },
          "metadata": {},
          "execution_count": 6
        }
      ]
    },
    {
      "cell_type": "markdown",
      "metadata": {
        "id": "ETAuRqPi5vxa"
      },
      "source": [
        "Para ejecutar consultas multi-lineas use el tag %%sql:"
      ]
    },
    {
      "cell_type": "code",
      "metadata": {
        "colab": {
          "base_uri": "https://localhost:8080/",
          "height": 436
        },
        "id": "LvtXc3xx50Cc",
        "outputId": "9da2f4a0-ba31-454b-b6fb-b49881b44278"
      },
      "source": [
        "%%sql\n",
        "SELECT * FROM g.actor1000;"
      ],
      "execution_count": null,
      "outputs": [
        {
          "output_type": "stream",
          "name": "stdout",
          "text": [
            " * postgresql+psycopg2://@/postgres\n"
          ]
        },
        {
          "output_type": "execute_result",
          "data": {
            "text/html": [
              "<div>\n",
              "<style scoped>\n",
              "    .dataframe tbody tr th:only-of-type {\n",
              "        vertical-align: middle;\n",
              "    }\n",
              "\n",
              "    .dataframe tbody tr th {\n",
              "        vertical-align: top;\n",
              "    }\n",
              "\n",
              "    .dataframe thead th {\n",
              "        text-align: right;\n",
              "    }\n",
              "</style>\n",
              "<table border=\"1\" class=\"dataframe\">\n",
              "  <thead>\n",
              "    <tr style=\"text-align: right;\">\n",
              "      <th></th>\n",
              "      <th>nombre</th>\n",
              "      <th>genero</th>\n",
              "    </tr>\n",
              "  </thead>\n",
              "  <tbody>\n",
              "    <tr>\n",
              "      <th>0</th>\n",
              "      <td>Name</td>\n",
              "      <td>F</td>\n",
              "    </tr>\n",
              "    <tr>\n",
              "      <th>1</th>\n",
              "      <td>7 Year Bitch</td>\n",
              "      <td>F</td>\n",
              "    </tr>\n",
              "    <tr>\n",
              "      <th>2</th>\n",
              "      <td>Aabel, Hauk (II)</td>\n",
              "      <td>F</td>\n",
              "    </tr>\n",
              "    <tr>\n",
              "      <th>3</th>\n",
              "      <td>Aabel, Per (II)</td>\n",
              "      <td>F</td>\n",
              "    </tr>\n",
              "    <tr>\n",
              "      <th>4</th>\n",
              "      <td>Aadland, Beverly</td>\n",
              "      <td>F</td>\n",
              "    </tr>\n",
              "    <tr>\n",
              "      <th>...</th>\n",
              "      <td>...</td>\n",
              "      <td>...</td>\n",
              "    </tr>\n",
              "    <tr>\n",
              "      <th>440229</th>\n",
              "      <td>Þorsteinsson, Jón Pétur</td>\n",
              "      <td>M</td>\n",
              "    </tr>\n",
              "    <tr>\n",
              "      <th>440230</th>\n",
              "      <td>Þórarinsson, Kjartan</td>\n",
              "      <td>M</td>\n",
              "    </tr>\n",
              "    <tr>\n",
              "      <th>440231</th>\n",
              "      <td>Þórisdóttir, Hulda</td>\n",
              "      <td>M</td>\n",
              "    </tr>\n",
              "    <tr>\n",
              "      <th>440232</th>\n",
              "      <td>Þórunnarson, Davíð Freyr</td>\n",
              "      <td>M</td>\n",
              "    </tr>\n",
              "    <tr>\n",
              "      <th>440233</th>\n",
              "      <td>Þórðarson, Ingvar</td>\n",
              "      <td>M</td>\n",
              "    </tr>\n",
              "  </tbody>\n",
              "</table>\n",
              "<p>440234 rows × 2 columns</p>\n",
              "</div>"
            ],
            "text/plain": [
              "                          nombre genero\n",
              "0                           Name      F\n",
              "1                   7 Year Bitch      F\n",
              "2               Aabel, Hauk (II)      F\n",
              "3                Aabel, Per (II)      F\n",
              "4               Aadland, Beverly      F\n",
              "...                          ...    ...\n",
              "440229   Þorsteinsson, Jón Pétur      M\n",
              "440230      Þórarinsson, Kjartan      M\n",
              "440231        Þórisdóttir, Hulda      M\n",
              "440232  Þórunnarson, Davíð Freyr      M\n",
              "440233         Þórðarson, Ingvar      M\n",
              "\n",
              "[440234 rows x 2 columns]"
            ]
          },
          "metadata": {},
          "execution_count": 9
        }
      ]
    },
    {
      "cell_type": "markdown",
      "metadata": {
        "id": "3jebBz5VWWPr"
      },
      "source": [
        "Ahora, debe diseñar las consultas que resuelvan las siguientes preguntas usando los operadores vistos en clases.\n",
        "\n",
        "# Índices\n",
        "\n",
        "En la base de datos hay dos esquemas: uno con datos indexados ($\\texttt{gi}$) y otro sin índices ($\\texttt{g}$). En cada esquema está la misma estructura tres veces con los datos para películas con más de 10.000 votos, más de 1.000 votos y más de 100 votos. Note que las tablas de más de 10.000 votos tienen **menos** tuplas que las 1.000 y muchas **menos** que las 100. En esta guía, usted medirá el efecto de utilizar índices en los tiempos de consultas.\n",
        "\n",
        "\n",
        "## Pregunta 1\n",
        "\n",
        "Nota para las siguientes preguntas: Observe que estos conteos no cambian en el caso de $gi$, así que no hay que contar las tuplas y los bloques dos veces.\n",
        "\n",
        "1. Usando el esquema $\\texttt{g}$ cuente el número de tuplas para cada tablas presente. Registre las consultas y sus resultados.\n",
        "Puede usar el comando \n",
        "$\\texttt{\\dt g.*}$ para listar todas las tablas del schema $\\texttt{g}$ (escriba \"q\" en el texto que sale a continuación de (END) para terminar la ejecución de la celda.\n",
        "\n"
      ]
    },
    {
      "cell_type": "code",
      "metadata": {
        "colab": {
          "base_uri": "https://localhost:8080/"
        },
        "id": "E7AMYhG44eMc",
        "outputId": "325d094e-d26d-40ff-8a3d-d34da8bb53be"
      },
      "source": [
        "!sudo -u postgres psql -c \"\\dt g.*\""
      ],
      "execution_count": null,
      "outputs": [
        {
          "output_type": "stream",
          "name": "stdout",
          "text": [
            "\u001b7\u001b[?47h\u001b[?1h\u001b=\r             List of relations\r\n",
            " Schema |      Name      | Type  |  Owner   \r\n",
            "--------+----------------+-------+----------\r\n",
            " g      | actor100       | table | postgres\r\n",
            " g      | actor1000      | table | postgres\r\n",
            " g      | actor10000     | table | postgres\r\n",
            " g      | pelicula100    | table | postgres\r\n",
            " g      | pelicula1000   | table | postgres\r\n",
            " g      | pelicula10000  | table | postgres\r\n",
            " g      | personaje100   | table | postgres\r\n",
            " g      | personaje1000  | table | postgres\r\n",
            " g      | personaje10000 | table | postgres\r\n",
            "(9 rows)\r\n",
            "\n",
            "\u001b[K\u001b[?1l\u001b>\u001b[2J\u001b[?47l\u001b8"
          ]
        }
      ]
    },
    {
      "cell_type": "code",
      "metadata": {
        "colab": {
          "base_uri": "https://localhost:8080/",
          "height": 97
        },
        "id": "-dmw_2es6Lq-",
        "outputId": "9064bc42-ff2b-4778-a35c-af992996bee5"
      },
      "source": [
        "%%sql\n",
        "\n",
        "SELECT COUNT(*) FROM g.actor100; -- 856421 \n",
        "SELECT COUNT(*) FROM g.pelicula100; -- 72696 \n",
        "SELECT COUNT(*) FROM g.personaje100; -- 2170526 \n",
        "SELECT COUNT(*) FROM g.actor1000; -- 440234\n",
        "SELECT COUNT(*) FROM g.pelicula1000; -- 22490 \n",
        "SELECT COUNT(*) FROM g.personaje1000; -- 944964 \n",
        "SELECT COUNT(*) FROM g.actor10000; -- 197219 \n",
        "SELECT COUNT(*) FROM g.pelicula10000; -- 6401 \n",
        "SELECT COUNT(*) FROM g.personaje10000; -- 372367 \n",
        "\n",
        "\n",
        "\n"
      ],
      "execution_count": null,
      "outputs": [
        {
          "output_type": "stream",
          "name": "stdout",
          "text": [
            " * postgresql+psycopg2://@/postgres\n"
          ]
        },
        {
          "output_type": "execute_result",
          "data": {
            "text/html": [
              "<div>\n",
              "<style scoped>\n",
              "    .dataframe tbody tr th:only-of-type {\n",
              "        vertical-align: middle;\n",
              "    }\n",
              "\n",
              "    .dataframe tbody tr th {\n",
              "        vertical-align: top;\n",
              "    }\n",
              "\n",
              "    .dataframe thead th {\n",
              "        text-align: right;\n",
              "    }\n",
              "</style>\n",
              "<table border=\"1\" class=\"dataframe\">\n",
              "  <thead>\n",
              "    <tr style=\"text-align: right;\">\n",
              "      <th></th>\n",
              "      <th>count</th>\n",
              "    </tr>\n",
              "  </thead>\n",
              "  <tbody>\n",
              "    <tr>\n",
              "      <th>0</th>\n",
              "      <td>372367</td>\n",
              "    </tr>\n",
              "  </tbody>\n",
              "</table>\n",
              "</div>"
            ],
            "text/plain": [
              "    count\n",
              "0  372367"
            ]
          },
          "metadata": {},
          "execution_count": 26
        }
      ]
    },
    {
      "cell_type": "markdown",
      "metadata": {
        "id": "EanhggSb39bj"
      },
      "source": [
        "2. Cuente cuántos bloques hay en cada tabla.\n",
        "Para ello puede usar la siguiente consulta:\n",
        "``` \n",
        "SELECT DISTINCT relname, relpages FROM pg_class WHERE relname = '[tabla-nombre]';\n",
        "```\n",
        "Donde $\\texttt{relpages}$ corresponde al número de bloques en Postgresql.\n",
        "\n"
      ]
    },
    {
      "cell_type": "code",
      "metadata": {
        "colab": {
          "base_uri": "https://localhost:8080/",
          "height": 97
        },
        "id": "UbVZEvyV3-8v",
        "outputId": "98e5334a-e684-48f1-d1e9-29362f6799d3"
      },
      "source": [
        "%%sql\n",
        "SELECT DISTINCT relname, relpages FROM pg_class WHERE relname = 'actor100'; -- 5278\n",
        "SELECT DISTINCT relname, relpages FROM pg_class WHERE relname = 'pelicula100'; -- 598\n",
        "SELECT DISTINCT relname, relpages FROM pg_class WHERE relname = 'personaje100'; -- 21410\n",
        "SELECT DISTINCT relname, relpages FROM pg_class WHERE relname = 'actor1000'; -- 2712\n",
        "SELECT DISTINCT relname, relpages FROM pg_class WHERE relname = 'pelicula1000'; -- 183\n",
        "SELECT DISTINCT relname, relpages FROM pg_class WHERE relname = 'personaje1000'; -- 9330\n",
        "SELECT DISTINCT relname, relpages FROM pg_class WHERE relname = 'actor10000'; -- 1215\n",
        "SELECT DISTINCT relname, relpages FROM pg_class WHERE relname = 'pelicula10000'; -- 52\n",
        "SELECT DISTINCT relname, relpages FROM pg_class WHERE relname = 'personaje10000'; -- 3684"
      ],
      "execution_count": null,
      "outputs": [
        {
          "output_type": "stream",
          "name": "stdout",
          "text": [
            " * postgresql+psycopg2://@/postgres\n"
          ]
        },
        {
          "output_type": "execute_result",
          "data": {
            "text/html": [
              "<div>\n",
              "<style scoped>\n",
              "    .dataframe tbody tr th:only-of-type {\n",
              "        vertical-align: middle;\n",
              "    }\n",
              "\n",
              "    .dataframe tbody tr th {\n",
              "        vertical-align: top;\n",
              "    }\n",
              "\n",
              "    .dataframe thead th {\n",
              "        text-align: right;\n",
              "    }\n",
              "</style>\n",
              "<table border=\"1\" class=\"dataframe\">\n",
              "  <thead>\n",
              "    <tr style=\"text-align: right;\">\n",
              "      <th></th>\n",
              "      <th>relname</th>\n",
              "      <th>relpages</th>\n",
              "    </tr>\n",
              "  </thead>\n",
              "  <tbody>\n",
              "    <tr>\n",
              "      <th>0</th>\n",
              "      <td>personaje10000</td>\n",
              "      <td>3684</td>\n",
              "    </tr>\n",
              "  </tbody>\n",
              "</table>\n",
              "</div>"
            ],
            "text/plain": [
              "          relname  relpages\n",
              "0  personaje10000      3684"
            ]
          },
          "metadata": {},
          "execution_count": 24
        }
      ]
    },
    {
      "cell_type": "markdown",
      "metadata": {
        "id": "A9JIENMp3_RV"
      },
      "source": [
        "3. Calcule el número promedio de tuplas por bloque para cada tabla.\n",
        "\n"
      ]
    },
    {
      "cell_type": "code",
      "metadata": {
        "id": "QOHRo2QN4BE2"
      },
      "source": [
        "actor100; ~162 tuplas por bloque  \n",
        "pelicula100; ~122 tuplas por bloque \n",
        "personaje100; ~101 tuplas por bloque\n",
        "actor1000; ~162 tuplas por bloque\n",
        "pelicula1000; ~122 tuplas por bloque\n",
        "personaje1000; ~101 tuplas por bloque\n",
        "actor10000; ~162 tuplas por bloque \n",
        "pelicula10000; ~123 tuplas por bloque\n",
        "personaje10000; ~101 tuplas por bloque"
      ],
      "execution_count": null,
      "outputs": []
    },
    {
      "cell_type": "markdown",
      "metadata": {
        "id": "bXx5ydBH6LDW"
      },
      "source": [
        "## Pregunta 2\n",
        "Compare los índices disponibles para las tres tablas con el prefijo $\\texttt{10000}$ en ambos esquemas usando los dos comandos \n",
        "$\\texttt{\\d+ g.[tabla]10000}$ y $\\texttt{\\d+ gi.[tabla]10000}$. Recuerde que Postgres agrega un\n",
        "índice para la llave primaria por defecto, entonces $\\texttt{g}$ solo tiene esos índices. (Se configuran los índices de las tablas $\\texttt{1000}$ y $\\texttt{100}$ de la misma forma.)\n",
        "\n"
      ]
    },
    {
      "cell_type": "code",
      "metadata": {
        "colab": {
          "base_uri": "https://localhost:8080/"
        },
        "id": "i7eXykyM6e7b",
        "outputId": "e65fa553-8662-46d9-8cd7-d00904b6aa5c"
      },
      "source": [
        "!sudo -u postgres psql -c \"\\d+ g.actor10000\""
      ],
      "execution_count": null,
      "outputs": [
        {
          "output_type": "stream",
          "name": "stdout",
          "text": [
            "\u001b7\u001b[?47h\u001b[?1h\u001b=\r                                           Table \"g.actor10000\"\r\n",
            " Column |          Type          | Collation | Nullable | Default | Storage  | S \btats target | Description \r\n",
            "--------+------------------------+-----------+----------+---------+----------+-- \b------------+-------------\r\n",
            " nombre | character varying(255) |           | not null |         | extended |   \b            | \r\n",
            " genero | character(1)           |           | not null |         | extended |   \b            | \r\n",
            "Indexes:\r\n",
            "    \"actor10000_pkey\" PRIMARY KEY, btree (nombre)\r\n",
            "Check constraints:\r\n",
            "    \"actor10000_genero_check\" CHECK (genero = ANY (ARRAY['F'::bpchar, 'M'::bpcha \br]))\r\n",
            "Referenced by:\r\n",
            "    TABLE \"g.personaje10000\" CONSTRAINT \"personaje10000_a_nombre_fkey\" FOREIGN K \bEY (a_nombre) REFERENCES g.actor10000(nombre)\r\n",
            "\n",
            "\u001b[K\u001b[?1l\u001b>\u001b[2J\u001b[?47l\u001b8"
          ]
        }
      ]
    },
    {
      "cell_type": "code",
      "metadata": {
        "colab": {
          "base_uri": "https://localhost:8080/"
        },
        "id": "HKh3De3y76R4",
        "outputId": "7cb252ee-673a-4a98-ce78-5abb145717d0"
      },
      "source": [
        "!sudo -u postgres psql -c \"\\d+ gi.actor10000\""
      ],
      "execution_count": null,
      "outputs": [
        {
          "output_type": "stream",
          "name": "stdout",
          "text": [
            "\u001b7\u001b[?47h\u001b[?1h\u001b=\r                                          Table \"gi.actor10000\"\r\n",
            " Column |          Type          | Collation | Nullable | Default | Storage  | S \btats target | Description \r\n",
            "--------+------------------------+-----------+----------+---------+----------+-- \b------------+-------------\r\n",
            " nombre | character varying(255) |           | not null |         | extended |   \b            | \r\n",
            " genero | character(1)           |           | not null |         | extended |   \b            | \r\n",
            "Indexes:\r\n",
            "    \"actor10000_pkey\" PRIMARY KEY, btree (nombre)\r\n",
            "    \"actor10000_genero\" btree (genero)\r\n",
            "    \"actor10000_nombre\" btree (nombre)\r\n",
            "Check constraints:\r\n",
            "    \"actor10000_genero_check\" CHECK (genero = ANY (ARRAY['F'::bpchar, 'M'::bpcha \br]))\r\n",
            "Referenced by:\r\n",
            "    TABLE \"gi.personaje10000\" CONSTRAINT \"personaje10000_a_nombre_fkey\" FOREIGN  \bKEY (a_nombre) REFERENCES gi.actor10000(nombre)\r\n",
            "\n",
            "\u001b[K\u001b[?1l\u001b>\u001b[2J\u001b[?47l\u001b8"
          ]
        }
      ]
    },
    {
      "cell_type": "markdown",
      "metadata": {
        "id": "VBzPnV1u7MKd"
      },
      "source": [
        "# Pregunta 3\n",
        "Use el siguiente comando para obtener los planes de consulta y tiempos de ejecución de la consulta indicada. Ejecútela en los esquemas $\\texttt{lab6}$ y $\\texttt{lab6i}$.\n",
        "\n",
        "```\n",
        "EXPLAIN ANALYZE SELECT * FROM [squema].personaje100 WHERE p_nombre='Up' AND p_anho=2009;\n",
        "```\n",
        "\n",
        "\n",
        "\n",
        "1.   Registre el plan de consulta y el tiempo de ejecución. \n",
        "2.   Calcule y registre la cantidad de consultas por segundo (según la suma del tiempo de planificación y ejecución) que pueden realizarse.\n",
        "\n"
      ]
    },
    {
      "cell_type": "code",
      "metadata": {
        "colab": {
          "base_uri": "https://localhost:8080/"
        },
        "id": "A_NE2bZC7Mcj",
        "outputId": "8d15b0f1-69bf-49e5-8bec-888279f51dce"
      },
      "source": [
        "!sudo -u postgres psql -c \"EXPLAIN ANALYZE SELECT * FROM g.personaje100 WHERE p_nombre='Up' AND p_anho=2009\";"
      ],
      "execution_count": null,
      "outputs": [
        {
          "output_type": "stream",
          "name": "stdout",
          "text": [
            "\u001b7\u001b[?47h\u001b[?1h\u001b=\r                                                          QUERY PLAN             \b                                              \r\n",
            "-------------------------------------------------------------------------------- \b----------------------------------------------\r\n",
            " Gather  (cost=1000.00..35974.99 rows=2 width=47) (actual time=25.318..243.405 r \bows=33 loops=1)\r\n",
            "   Workers Planned: 2\r\n",
            "   Workers Launched: 2\r\n",
            "   ->  Parallel Seq Scan on personaje100  (cost=0.00..34974.79 rows=1 width=47)  \b(actual time=20.953..234.987 rows=11 loops=3)\r\n",
            "         Filter: (((p_nombre)::text = 'Up'::text) AND (p_anho = 2009))\r\n",
            "         Rows Removed by Filter: 723498\r\n",
            " Planning time: 0.703 ms\r\n",
            " Execution time: 243.449 ms\r\n",
            "(8 rows)\r\n",
            "\n",
            "\u001b[K\u001b[?1l\u001b>\u001b[2J\u001b[?47l\u001b8"
          ]
        }
      ]
    },
    {
      "cell_type": "code",
      "metadata": {
        "colab": {
          "base_uri": "https://localhost:8080/"
        },
        "id": "64sxZ6HL-Nx5",
        "outputId": "14bf4a8f-1821-402c-de7a-52b6c8dbb3ff"
      },
      "source": [
        "1000/(243.449+0.703)"
      ],
      "execution_count": null,
      "outputs": [
        {
          "output_type": "execute_result",
          "data": {
            "text/plain": [
              "4.095960154499617"
            ]
          },
          "metadata": {},
          "execution_count": 34
        }
      ]
    },
    {
      "cell_type": "markdown",
      "metadata": {
        "id": "-NG93tmZ9Dz4"
      },
      "source": [
        "~4 consultas por segundo"
      ]
    },
    {
      "cell_type": "code",
      "metadata": {
        "colab": {
          "base_uri": "https://localhost:8080/"
        },
        "id": "XGBm5f-M82Iu",
        "outputId": "d241f930-dbce-4e5c-bb7c-4bec6f0c7738"
      },
      "source": [
        "!sudo -u postgres psql -c \"EXPLAIN ANALYZE SELECT * FROM gi.personaje100 WHERE p_nombre='Up' AND p_anho=2009\";"
      ],
      "execution_count": null,
      "outputs": [
        {
          "output_type": "stream",
          "name": "stdout",
          "text": [
            "\u001b7\u001b[?47h\u001b[?1h\u001b=\r                                                                QUERY PLAN       \b                                                          \r\n",
            "-------------------------------------------------------------------------------- \b----------------------------------------------------------\r\n",
            " Index Scan using personaje100_pnombreanho on personaje100  (cost=0.43..12.47 ro \bws=2 width=47) (actual time=0.104..0.880 rows=33 loops=1)\r\n",
            "   Index Cond: (((p_nombre)::text = 'Up'::text) AND (p_anho = 2009))\r\n",
            " Planning time: 0.961 ms\r\n",
            " Execution time: 0.908 ms\r\n",
            "(4 rows)\r\n",
            "\n",
            "\u001b[K\u001b[?1l\u001b>\u001b[2J\u001b[?47l\u001b8"
          ]
        }
      ]
    },
    {
      "cell_type": "code",
      "metadata": {
        "colab": {
          "base_uri": "https://localhost:8080/"
        },
        "id": "pqloYJPU-TqO",
        "outputId": "e1747d45-bd33-4480-ff2f-2c0045521bd5"
      },
      "source": [
        "1000/(0.961+0.908)"
      ],
      "execution_count": null,
      "outputs": [
        {
          "output_type": "execute_result",
          "data": {
            "text/plain": [
              "535.0454788657036"
            ]
          },
          "metadata": {},
          "execution_count": 35
        }
      ]
    },
    {
      "cell_type": "markdown",
      "metadata": {
        "id": "EVSeWUSq9FII"
      },
      "source": [
        "535 consultas por segundo"
      ]
    },
    {
      "cell_type": "markdown",
      "metadata": {
        "id": "AHqOm3zw6fR2"
      },
      "source": [
        "## Pregunta 4\n",
        "De la pregunta anterior, calcule y registre una estimación de la cantidad de bloques leídos ($\\pm1$) por las dos consultas. Para esto considere el plan, el número de tuplas en el resultado, el número de tuplas en la tabla, y el número promedio de tuplas por bloque, en cada uno de los dos esquemas."
      ]
    },
    {
      "cell_type": "markdown",
      "metadata": {
        "id": "3A5u0Vu6-hTa"
      },
      "source": [
        "$\\texttt{g}$: lee todas las tuplas de la tabla: 2170527 tuplas, 21410 bloques\n",
        "\n",
        "$\\texttt{gi}$: lee solo las tuplas de Up (2009): 33 tuplas, 1--2 bloques"
      ]
    },
    {
      "cell_type": "markdown",
      "metadata": {
        "id": "tXZVP8PZ6gF4"
      },
      "source": [
        "## Pregunta 5\n",
        "Considerando solo las tablas 100:\n",
        "\n",
        "\n",
        "\n",
        "1.   Consulte por las **otras** películas (nombre y año) en las cuales los actores/actrices de 'Up (2009)' han participado. \\\\\n",
        "Para ello, escriba dos versiones equivalentes de la misma consulta: una versión sin anidación y otra versión con anidación (usando $\\texttt{IN}$). \n",
        "\n",
        "\n",
        "\n"
      ]
    },
    {
      "cell_type": "code",
      "metadata": {
        "colab": {
          "base_uri": "https://localhost:8080/",
          "height": 436
        },
        "id": "0OssDcFm6gYJ",
        "outputId": "71dc28a9-ed79-4c21-a60b-3ea3c12acb75"
      },
      "source": [
        "%%sql\n",
        "SELECT DISTINCT P2.p_nombre, P2.p_anho\n",
        "  FROM g.personaje100 P1, g.personaje100 P2 \n",
        "  WHERE P1.p_nombre='Up' \n",
        "    AND P1.p_anho=2009\n",
        "    AND P1.a_nombre = P2.a_nombre \n",
        "    AND ( P2.p_nombre <> 'Up' OR P2.p_anho <> 2009 );"
      ],
      "execution_count": 23,
      "outputs": [
        {
          "output_type": "stream",
          "name": "stdout",
          "text": [
            " * postgresql+psycopg2://@/postgres\n"
          ]
        },
        {
          "output_type": "execute_result",
          "data": {
            "text/html": [
              "<div>\n",
              "<style scoped>\n",
              "    .dataframe tbody tr th:only-of-type {\n",
              "        vertical-align: middle;\n",
              "    }\n",
              "\n",
              "    .dataframe tbody tr th {\n",
              "        vertical-align: top;\n",
              "    }\n",
              "\n",
              "    .dataframe thead th {\n",
              "        text-align: right;\n",
              "    }\n",
              "</style>\n",
              "<table border=\"1\" class=\"dataframe\">\n",
              "  <thead>\n",
              "    <tr style=\"text-align: right;\">\n",
              "      <th></th>\n",
              "      <th>p_nombre</th>\n",
              "      <th>p_anho</th>\n",
              "    </tr>\n",
              "  </thead>\n",
              "  <tbody>\n",
              "    <tr>\n",
              "      <th>0</th>\n",
              "      <td>9 (I)</td>\n",
              "      <td>2009</td>\n",
              "    </tr>\n",
              "    <tr>\n",
              "      <th>1</th>\n",
              "      <td>Aa! Megamisama! The Movie</td>\n",
              "      <td>2000</td>\n",
              "    </tr>\n",
              "    <tr>\n",
              "      <th>2</th>\n",
              "      <td>A Beautiful Mind</td>\n",
              "      <td>2001</td>\n",
              "    </tr>\n",
              "    <tr>\n",
              "      <th>3</th>\n",
              "      <td>Above Suspicion</td>\n",
              "      <td>2000</td>\n",
              "    </tr>\n",
              "    <tr>\n",
              "      <th>4</th>\n",
              "      <td>A Bridge Too Far</td>\n",
              "      <td>1977</td>\n",
              "    </tr>\n",
              "    <tr>\n",
              "      <th>...</th>\n",
              "      <td>...</td>\n",
              "      <td>...</td>\n",
              "    </tr>\n",
              "    <tr>\n",
              "      <th>455</th>\n",
              "      <td>Wondrous Oblivion</td>\n",
              "      <td>2003</td>\n",
              "    </tr>\n",
              "    <tr>\n",
              "      <th>456</th>\n",
              "      <td>Wreck-It Ralph</td>\n",
              "      <td>2012</td>\n",
              "    </tr>\n",
              "    <tr>\n",
              "      <th>457</th>\n",
              "      <td>X2</td>\n",
              "      <td>2003</td>\n",
              "    </tr>\n",
              "    <tr>\n",
              "      <th>458</th>\n",
              "      <td>Yanks</td>\n",
              "      <td>1979</td>\n",
              "    </tr>\n",
              "    <tr>\n",
              "      <th>459</th>\n",
              "      <td>Your Friend the Rat</td>\n",
              "      <td>2007</td>\n",
              "    </tr>\n",
              "  </tbody>\n",
              "</table>\n",
              "<p>460 rows × 2 columns</p>\n",
              "</div>"
            ],
            "text/plain": [
              "                      p_nombre  p_anho\n",
              "0                        9 (I)    2009\n",
              "1    Aa! Megamisama! The Movie    2000\n",
              "2             A Beautiful Mind    2001\n",
              "3              Above Suspicion    2000\n",
              "4             A Bridge Too Far    1977\n",
              "..                         ...     ...\n",
              "455          Wondrous Oblivion    2003\n",
              "456             Wreck-It Ralph    2012\n",
              "457                         X2    2003\n",
              "458                      Yanks    1979\n",
              "459        Your Friend the Rat    2007\n",
              "\n",
              "[460 rows x 2 columns]"
            ]
          },
          "metadata": {},
          "execution_count": 23
        }
      ]
    },
    {
      "cell_type": "code",
      "metadata": {
        "colab": {
          "base_uri": "https://localhost:8080/",
          "height": 436
        },
        "id": "9sHWdi4jtYWK",
        "outputId": "ae8a2343-2a57-4f19-efcb-0be1958b2e4d"
      },
      "source": [
        "%%sql\n",
        "SELECT DISTINCT p_nombre, p_anho \n",
        "    FROM g.personaje100 \n",
        "    WHERE a_nombre IN ( \n",
        "        SELECT a_nombre \n",
        "        FROM g.personaje100 \n",
        "        WHERE p_nombre = 'Up' AND p_anho=2009) \n",
        "      AND ( p_nombre <> 'Up' OR p_anho <> 2009 );"
      ],
      "execution_count": 24,
      "outputs": [
        {
          "output_type": "stream",
          "name": "stdout",
          "text": [
            " * postgresql+psycopg2://@/postgres\n"
          ]
        },
        {
          "output_type": "execute_result",
          "data": {
            "text/html": [
              "<div>\n",
              "<style scoped>\n",
              "    .dataframe tbody tr th:only-of-type {\n",
              "        vertical-align: middle;\n",
              "    }\n",
              "\n",
              "    .dataframe tbody tr th {\n",
              "        vertical-align: top;\n",
              "    }\n",
              "\n",
              "    .dataframe thead th {\n",
              "        text-align: right;\n",
              "    }\n",
              "</style>\n",
              "<table border=\"1\" class=\"dataframe\">\n",
              "  <thead>\n",
              "    <tr style=\"text-align: right;\">\n",
              "      <th></th>\n",
              "      <th>p_nombre</th>\n",
              "      <th>p_anho</th>\n",
              "    </tr>\n",
              "  </thead>\n",
              "  <tbody>\n",
              "    <tr>\n",
              "      <th>0</th>\n",
              "      <td>9 (I)</td>\n",
              "      <td>2009</td>\n",
              "    </tr>\n",
              "    <tr>\n",
              "      <th>1</th>\n",
              "      <td>Aa! Megamisama! The Movie</td>\n",
              "      <td>2000</td>\n",
              "    </tr>\n",
              "    <tr>\n",
              "      <th>2</th>\n",
              "      <td>A Beautiful Mind</td>\n",
              "      <td>2001</td>\n",
              "    </tr>\n",
              "    <tr>\n",
              "      <th>3</th>\n",
              "      <td>Above Suspicion</td>\n",
              "      <td>2000</td>\n",
              "    </tr>\n",
              "    <tr>\n",
              "      <th>4</th>\n",
              "      <td>A Bridge Too Far</td>\n",
              "      <td>1977</td>\n",
              "    </tr>\n",
              "    <tr>\n",
              "      <th>...</th>\n",
              "      <td>...</td>\n",
              "      <td>...</td>\n",
              "    </tr>\n",
              "    <tr>\n",
              "      <th>455</th>\n",
              "      <td>Wondrous Oblivion</td>\n",
              "      <td>2003</td>\n",
              "    </tr>\n",
              "    <tr>\n",
              "      <th>456</th>\n",
              "      <td>Wreck-It Ralph</td>\n",
              "      <td>2012</td>\n",
              "    </tr>\n",
              "    <tr>\n",
              "      <th>457</th>\n",
              "      <td>X2</td>\n",
              "      <td>2003</td>\n",
              "    </tr>\n",
              "    <tr>\n",
              "      <th>458</th>\n",
              "      <td>Yanks</td>\n",
              "      <td>1979</td>\n",
              "    </tr>\n",
              "    <tr>\n",
              "      <th>459</th>\n",
              "      <td>Your Friend the Rat</td>\n",
              "      <td>2007</td>\n",
              "    </tr>\n",
              "  </tbody>\n",
              "</table>\n",
              "<p>460 rows × 2 columns</p>\n",
              "</div>"
            ],
            "text/plain": [
              "                      p_nombre  p_anho\n",
              "0                        9 (I)    2009\n",
              "1    Aa! Megamisama! The Movie    2000\n",
              "2             A Beautiful Mind    2001\n",
              "3              Above Suspicion    2000\n",
              "4             A Bridge Too Far    1977\n",
              "..                         ...     ...\n",
              "455          Wondrous Oblivion    2003\n",
              "456             Wreck-It Ralph    2012\n",
              "457                         X2    2003\n",
              "458                      Yanks    1979\n",
              "459        Your Friend the Rat    2007\n",
              "\n",
              "[460 rows x 2 columns]"
            ]
          },
          "metadata": {},
          "execution_count": 24
        }
      ]
    },
    {
      "cell_type": "markdown",
      "metadata": {
        "id": "yLah8AvhtSXk"
      },
      "source": [
        "2.  Utilize $\\texttt{EXPLAIN ANALYZE}$ en ambas consultas y obtenga los planes y tiempos de ejecución para los esquemas $\\texttt{g}$ y $\\texttt{gi}$."
      ]
    },
    {
      "cell_type": "code",
      "metadata": {
        "colab": {
          "base_uri": "https://localhost:8080/"
        },
        "id": "RxiVFaLttiLC",
        "outputId": "0bcdfb07-55d4-4fad-bba2-2284bdf270a6"
      },
      "source": [
        "!sudo -u postgres psql -c \"EXPLAIN ANALYZE SELECT DISTINCT P2.p_nombre, P2.p_anho \\\n",
        "  FROM g.personaje100 P1, g.personaje100 P2 \\\n",
        "  WHERE P1.p_nombre='Up' \\\n",
        "    AND P1.p_anho=2009\\\n",
        "    AND P1.a_nombre = P2.a_nombre \\\n",
        "    AND ( P2.p_nombre <> 'Up' OR P2.p_anho <> 2009 )\";"
      ],
      "execution_count": 30,
      "outputs": [
        {
          "output_type": "stream",
          "name": "stdout",
          "text": [
            "\u001b7\u001b[?47h\u001b[?1h\u001b=\r                                                                             QUE \bRY PLAN                                                                          \b     \r\n",
            "-------------------------------------------------------------------------------- \b-------------------------------------------------------------------------------- \b-----\r\n",
            " Unique  (cost=36009.83..36010.13 rows=40 width=19) (actual time=254.087..254.35 \b1 rows=460 loops=1)\r\n",
            "   ->  Sort  (cost=36009.83..36009.93 rows=40 width=19) (actual time=254.086..25 \b4.232 rows=803 loops=1)\r\n",
            "         Sort Key: p2.p_nombre, p2.p_anho\r\n",
            "         Sort Method: quicksort  Memory: 76kB\r\n",
            "         ->  Gather  (cost=1000.55..36008.76 rows=40 width=19) (actual time=22.3 \b49..253.112 rows=803 loops=1)\r\n",
            "               Workers Planned: 2\r\n",
            "               Workers Launched: 2\r\n",
            "               ->  Nested Loop  (cost=0.56..35004.76 rows=17 width=19) (actual t \bime=10.429..242.835 rows=268 loops=3)\r\n",
            "                     ->  Parallel Seq Scan on personaje100 p1  (cost=0.00..34974 \b.79 rows=1 width=16) (actual time=9.986..238.479 rows=11 loops=3)\r\n",
            "                           Filter: (((p_nombre)::text = 'Up'::text) AND (p_anho  \b= 2009))\r\n",
            "                           Rows Removed by Filter: 723498\n",
            "\u001b[K                     ->  Index Only Scan using personaje100_pkey on personaje100 \b p2  (cost=0.56..29.85 rows=13 width=35) (actual time=0.371..0.386 rows=24 loops \b=33)\n",
            "                           Index Cond: (a_nombre = (p1.a_nombre)::text)\n",
            "                           Filter: (((p_nombre)::text <> 'Up'::text) OR (p_anho  \b<> 2009))\n",
            "                           Rows Removed by Filter: 1\n",
            "                           Heap Fetches: 433\n",
            " Planning time: 0.791 ms\n",
            " Execution time: 254.422 ms\n",
            "(18 rows)\n",
            "\n",
            "\u001b[K\u001b[?1l\u001b>\u001b[2J\u001b[?47l\u001b8"
          ]
        }
      ]
    },
    {
      "cell_type": "code",
      "metadata": {
        "colab": {
          "base_uri": "https://localhost:8080/"
        },
        "id": "ByOKH6s2ttXX",
        "outputId": "640ddd16-68ab-4ec2-94de-c16031a9b003"
      },
      "source": [
        "!sudo -u postgres psql -c \"explain ANALYZE SELECT DISTINCT p_nombre, p_anho \\\n",
        "    FROM g.personaje100 \\\n",
        "    WHERE a_nombre IN ( \\\n",
        "        SELECT a_nombre \\\n",
        "        FROM g.personaje100 \\\n",
        "        WHERE p_nombre = 'Up' AND p_anho=2009) \\\n",
        "      AND ( p_nombre <> 'Up' OR p_anho <> 2009 )\";"
      ],
      "execution_count": 31,
      "outputs": [
        {
          "output_type": "stream",
          "name": "stdout",
          "text": [
            "\u001b7\u001b[?47h\u001b[?1h\u001b=\r                                                                                 \bQUERY PLAN                                                                       \b           \r\n",
            "-------------------------------------------------------------------------------- \b-------------------------------------------------------------------------------- \b-----------\r\n",
            " Unique  (cost=36196.70..36217.86 rows=2822 width=19) (actual time=253.342..253. \b570 rows=460 loops=1)\r\n",
            "   ->  Sort  (cost=36196.70..36203.75 rows=2822 width=19) (actual time=253.341.. \b253.464 rows=795 loops=1)\r\n",
            "         Sort Key: personaje100.p_nombre, personaje100.p_anho\r\n",
            "         Sort Method: quicksort  Memory: 75kB\r\n",
            "         ->  Nested Loop  (cost=35975.55..36034.96 rows=2822 width=19) (actual t \bime=251.774..252.630 rows=795 loops=1)\r\n",
            "               ->  Unique  (cost=35975.00..35975.01 rows=2 width=16) (actual tim \be=251.690..251.787 rows=32 loops=1)\r\n",
            "                     ->  Sort  (cost=35975.00..35975.00 rows=2 width=16) (actual \b time=251.689..251.777 rows=33 loops=1)\r\n",
            "                           Sort Key: ((personaje100_1.a_nombre)::text)\r\n",
            "                           Sort Method: quicksort  Memory: 27kB\r\n",
            "                           ->  Gather  (cost=1000.00..35974.99 rows=2 width=16)  \b(actual time=8.946..251.664 rows=33 loops=1)\r\n",
            "                                 Workers Planned: 2\n",
            "\u001b[K                                 Workers Launched: 2\n",
            "                                 ->  Parallel Seq Scan on personaje100 personaje \b100_1  (cost=0.00..34974.79 rows=1 width=16) (actual time=23.648..243.416 rows=1 \b1 loops=3)\n",
            "                                       Filter: (((p_nombre)::text = 'Up'::text)  \bAND (p_anho = 2009))\n",
            "                                       Rows Removed by Filter: 723498\n",
            "               ->  Index Only Scan using personaje100_pkey on personaje100  (cos \bt=0.56..29.85 rows=13 width=35) (actual time=0.015..0.023 rows=25 loops=32)\n",
            "                     Index Cond: (a_nombre = (personaje100_1.a_nombre)::text)\n",
            "                     Filter: (((p_nombre)::text <> 'Up'::text) OR (p_anho <> 200 \b9))\n",
            "                     Rows Removed by Filter: 1\n",
            "                     Heap Fetches: 828\n",
            " Planning time: 0.870 ms\n",
            " Execution time: 253.663 ms\n",
            "(22 rows)\n",
            "\n",
            "\u001b[K\u001b[?1l\u001b>\u001b[2J\u001b[?47l\u001b8"
          ]
        }
      ]
    },
    {
      "cell_type": "markdown",
      "metadata": {
        "id": "Nw-zj04q6glX"
      },
      "source": [
        "## Pregunta 6\n",
        "Tomando la consulta de la Pregunta 3, y ambas consultas de 5, substituya 'Up (2019)' por otra película (que aparezca en la tabla $\\texttt{pelicula10000}$). Para las tres consultas resultantes, debe:\n",
        "\n",
        "1. Ejecutar las consultas en el esquema $\\texttt{g}$ usando las tablas terminadas en $\\texttt{100}$, $\\texttt{1000}$ y $\\texttt{10000}$ usando $\\texttt{EXPLAIN ANALYZE}$ y registrar los tiempos.\n",
        "2. Ejecutar las consultas en el esquema $\\texttt{gi}$ usando las tablas terminadas en $\\texttt{100}$, $\\texttt{1000}$ y $\\texttt{10000}$ usando $\\texttt{EXPLAIN ANALYZE}$ y registrar los tiempos. \n",
        "3. Mostrar gráficamente (con la herramienta que estime conveniente) cómo varía el tiempo tomado (la suma del tiempo de ejecución y el tiempo de planificación) respecto al tamaño de las tablas, tanto en la versión sin índices, como en la versión indexada. Considere que el tamaño de la tabla es el número de tuplas en la tabla $\\texttt{personaje*}$.\n"
      ]
    },
    {
      "cell_type": "markdown",
      "metadata": {
        "id": "DcH528q6xzpz"
      },
      "source": [
        "Para gráficar puede usar la libreria matplotlib como se describe a continuación para graficar dos series:\n",
        "```\n",
        "import matplotlib.pyplot as plt\n",
        "import numpy as np\n",
        "\n",
        "fig = plt.figure()\n",
        "x = [100, 1000, 10000]\n",
        "y = np.array([[1,2], [3,4], [5,6]])\n",
        "plt.plot(x, y)\n",
        "```"
      ]
    },
    {
      "cell_type": "code",
      "metadata": {
        "colab": {
          "base_uri": "https://localhost:8080/",
          "height": 314
        },
        "id": "WRWEHceB6g7h",
        "outputId": "28707c0a-f7a0-41c5-c79a-c11657a6be35"
      },
      "source": [
        "%sql EXPLAIN ANALYZE SELECT * FROM g.personaje100 WHERE p_nombre='Up' AND p_anho=2009"
      ],
      "execution_count": null,
      "outputs": [
        {
          "output_type": "stream",
          "name": "stdout",
          "text": [
            " * postgresql+psycopg2://@/postgres\n"
          ]
        },
        {
          "output_type": "execute_result",
          "data": {
            "text/html": [
              "<div>\n",
              "<style scoped>\n",
              "    .dataframe tbody tr th:only-of-type {\n",
              "        vertical-align: middle;\n",
              "    }\n",
              "\n",
              "    .dataframe tbody tr th {\n",
              "        vertical-align: top;\n",
              "    }\n",
              "\n",
              "    .dataframe thead th {\n",
              "        text-align: right;\n",
              "    }\n",
              "</style>\n",
              "<table border=\"1\" class=\"dataframe\">\n",
              "  <thead>\n",
              "    <tr style=\"text-align: right;\">\n",
              "      <th></th>\n",
              "      <th>QUERY PLAN</th>\n",
              "    </tr>\n",
              "  </thead>\n",
              "  <tbody>\n",
              "    <tr>\n",
              "      <th>0</th>\n",
              "      <td>Gather  (cost=1000.00..35974.99 rows=2 width=4...</td>\n",
              "    </tr>\n",
              "    <tr>\n",
              "      <th>1</th>\n",
              "      <td>Workers Planned: 2</td>\n",
              "    </tr>\n",
              "    <tr>\n",
              "      <th>2</th>\n",
              "      <td>Workers Launched: 2</td>\n",
              "    </tr>\n",
              "    <tr>\n",
              "      <th>3</th>\n",
              "      <td>-&gt;  Parallel Seq Scan on personaje100  (cost...</td>\n",
              "    </tr>\n",
              "    <tr>\n",
              "      <th>4</th>\n",
              "      <td>Filter: (((p_nombre)::text = 'Up'::tex...</td>\n",
              "    </tr>\n",
              "    <tr>\n",
              "      <th>5</th>\n",
              "      <td>Rows Removed by Filter: 723498</td>\n",
              "    </tr>\n",
              "    <tr>\n",
              "      <th>6</th>\n",
              "      <td>Planning time: 0.126 ms</td>\n",
              "    </tr>\n",
              "    <tr>\n",
              "      <th>7</th>\n",
              "      <td>Execution time: 256.636 ms</td>\n",
              "    </tr>\n",
              "  </tbody>\n",
              "</table>\n",
              "</div>"
            ],
            "text/plain": [
              "                                          QUERY PLAN\n",
              "0  Gather  (cost=1000.00..35974.99 rows=2 width=4...\n",
              "1                                 Workers Planned: 2\n",
              "2                                Workers Launched: 2\n",
              "3    ->  Parallel Seq Scan on personaje100  (cost...\n",
              "4          Filter: (((p_nombre)::text = 'Up'::tex...\n",
              "5                     Rows Removed by Filter: 723498\n",
              "6                            Planning time: 0.126 ms\n",
              "7                         Execution time: 256.636 ms"
            ]
          },
          "metadata": {},
          "execution_count": 69
        }
      ]
    },
    {
      "cell_type": "code",
      "metadata": {
        "colab": {
          "base_uri": "https://localhost:8080/",
          "height": 314
        },
        "id": "vu1_pTy6viEu",
        "outputId": "74727e3c-2dd8-4be2-fa89-9e35d749e934"
      },
      "source": [
        "%sql EXPLAIN ANALYZE SELECT * FROM g.personaje1000 WHERE p_nombre='Up' AND p_anho=2009"
      ],
      "execution_count": null,
      "outputs": [
        {
          "output_type": "stream",
          "name": "stdout",
          "text": [
            " * postgresql+psycopg2://@/postgres\n"
          ]
        },
        {
          "output_type": "execute_result",
          "data": {
            "text/html": [
              "<div>\n",
              "<style scoped>\n",
              "    .dataframe tbody tr th:only-of-type {\n",
              "        vertical-align: middle;\n",
              "    }\n",
              "\n",
              "    .dataframe tbody tr th {\n",
              "        vertical-align: top;\n",
              "    }\n",
              "\n",
              "    .dataframe thead th {\n",
              "        text-align: right;\n",
              "    }\n",
              "</style>\n",
              "<table border=\"1\" class=\"dataframe\">\n",
              "  <thead>\n",
              "    <tr style=\"text-align: right;\">\n",
              "      <th></th>\n",
              "      <th>QUERY PLAN</th>\n",
              "    </tr>\n",
              "  </thead>\n",
              "  <tbody>\n",
              "    <tr>\n",
              "      <th>0</th>\n",
              "      <td>Gather  (cost=1000.00..16236.23 rows=2 width=4...</td>\n",
              "    </tr>\n",
              "    <tr>\n",
              "      <th>1</th>\n",
              "      <td>Workers Planned: 2</td>\n",
              "    </tr>\n",
              "    <tr>\n",
              "      <th>2</th>\n",
              "      <td>Workers Launched: 2</td>\n",
              "    </tr>\n",
              "    <tr>\n",
              "      <th>3</th>\n",
              "      <td>-&gt;  Parallel Seq Scan on personaje1000  (cos...</td>\n",
              "    </tr>\n",
              "    <tr>\n",
              "      <th>4</th>\n",
              "      <td>Filter: (((p_nombre)::text = 'Up'::tex...</td>\n",
              "    </tr>\n",
              "    <tr>\n",
              "      <th>5</th>\n",
              "      <td>Rows Removed by Filter: 314977</td>\n",
              "    </tr>\n",
              "    <tr>\n",
              "      <th>6</th>\n",
              "      <td>Planning time: 0.148 ms</td>\n",
              "    </tr>\n",
              "    <tr>\n",
              "      <th>7</th>\n",
              "      <td>Execution time: 127.294 ms</td>\n",
              "    </tr>\n",
              "  </tbody>\n",
              "</table>\n",
              "</div>"
            ],
            "text/plain": [
              "                                          QUERY PLAN\n",
              "0  Gather  (cost=1000.00..16236.23 rows=2 width=4...\n",
              "1                                 Workers Planned: 2\n",
              "2                                Workers Launched: 2\n",
              "3    ->  Parallel Seq Scan on personaje1000  (cos...\n",
              "4          Filter: (((p_nombre)::text = 'Up'::tex...\n",
              "5                     Rows Removed by Filter: 314977\n",
              "6                            Planning time: 0.148 ms\n",
              "7                         Execution time: 127.294 ms"
            ]
          },
          "metadata": {},
          "execution_count": 70
        }
      ]
    },
    {
      "cell_type": "code",
      "metadata": {
        "colab": {
          "base_uri": "https://localhost:8080/",
          "height": 314
        },
        "id": "6RhZrtQwwPHe",
        "outputId": "aa6c3a75-bf57-4e4a-bd20-c9a924e49596"
      },
      "source": [
        "%sql EXPLAIN ANALYZE SELECT * FROM g.personaje10000 WHERE p_nombre='Up' AND p_anho=2009"
      ],
      "execution_count": null,
      "outputs": [
        {
          "output_type": "stream",
          "name": "stdout",
          "text": [
            " * postgresql+psycopg2://@/postgres\n"
          ]
        },
        {
          "output_type": "execute_result",
          "data": {
            "text/html": [
              "<div>\n",
              "<style scoped>\n",
              "    .dataframe tbody tr th:only-of-type {\n",
              "        vertical-align: middle;\n",
              "    }\n",
              "\n",
              "    .dataframe tbody tr th {\n",
              "        vertical-align: top;\n",
              "    }\n",
              "\n",
              "    .dataframe thead th {\n",
              "        text-align: right;\n",
              "    }\n",
              "</style>\n",
              "<table border=\"1\" class=\"dataframe\">\n",
              "  <thead>\n",
              "    <tr style=\"text-align: right;\">\n",
              "      <th></th>\n",
              "      <th>QUERY PLAN</th>\n",
              "    </tr>\n",
              "  </thead>\n",
              "  <tbody>\n",
              "    <tr>\n",
              "      <th>0</th>\n",
              "      <td>Gather  (cost=1000.00..7011.59 rows=3 width=47...</td>\n",
              "    </tr>\n",
              "    <tr>\n",
              "      <th>1</th>\n",
              "      <td>Workers Planned: 2</td>\n",
              "    </tr>\n",
              "    <tr>\n",
              "      <th>2</th>\n",
              "      <td>Workers Launched: 2</td>\n",
              "    </tr>\n",
              "    <tr>\n",
              "      <th>3</th>\n",
              "      <td>-&gt;  Parallel Seq Scan on personaje10000  (co...</td>\n",
              "    </tr>\n",
              "    <tr>\n",
              "      <th>4</th>\n",
              "      <td>Filter: (((p_nombre)::text = 'Up'::tex...</td>\n",
              "    </tr>\n",
              "    <tr>\n",
              "      <th>5</th>\n",
              "      <td>Rows Removed by Filter: 124111</td>\n",
              "    </tr>\n",
              "    <tr>\n",
              "      <th>6</th>\n",
              "      <td>Planning time: 0.151 ms</td>\n",
              "    </tr>\n",
              "    <tr>\n",
              "      <th>7</th>\n",
              "      <td>Execution time: 63.365 ms</td>\n",
              "    </tr>\n",
              "  </tbody>\n",
              "</table>\n",
              "</div>"
            ],
            "text/plain": [
              "                                          QUERY PLAN\n",
              "0  Gather  (cost=1000.00..7011.59 rows=3 width=47...\n",
              "1                                 Workers Planned: 2\n",
              "2                                Workers Launched: 2\n",
              "3    ->  Parallel Seq Scan on personaje10000  (co...\n",
              "4          Filter: (((p_nombre)::text = 'Up'::tex...\n",
              "5                     Rows Removed by Filter: 124111\n",
              "6                            Planning time: 0.151 ms\n",
              "7                          Execution time: 63.365 ms"
            ]
          },
          "metadata": {},
          "execution_count": 71
        }
      ]
    },
    {
      "cell_type": "code",
      "metadata": {
        "colab": {
          "base_uri": "https://localhost:8080/",
          "height": 190
        },
        "id": "RreGForPwRuS",
        "outputId": "cb7c0b5c-e444-4ae9-c0d9-3a185c518df6"
      },
      "source": [
        "%sql EXPLAIN ANALYZE SELECT * FROM gi.personaje100 WHERE p_nombre='Up' AND p_anho=2009"
      ],
      "execution_count": null,
      "outputs": [
        {
          "output_type": "stream",
          "name": "stdout",
          "text": [
            " * postgresql+psycopg2://@/postgres\n"
          ]
        },
        {
          "output_type": "execute_result",
          "data": {
            "text/html": [
              "<div>\n",
              "<style scoped>\n",
              "    .dataframe tbody tr th:only-of-type {\n",
              "        vertical-align: middle;\n",
              "    }\n",
              "\n",
              "    .dataframe tbody tr th {\n",
              "        vertical-align: top;\n",
              "    }\n",
              "\n",
              "    .dataframe thead th {\n",
              "        text-align: right;\n",
              "    }\n",
              "</style>\n",
              "<table border=\"1\" class=\"dataframe\">\n",
              "  <thead>\n",
              "    <tr style=\"text-align: right;\">\n",
              "      <th></th>\n",
              "      <th>QUERY PLAN</th>\n",
              "    </tr>\n",
              "  </thead>\n",
              "  <tbody>\n",
              "    <tr>\n",
              "      <th>0</th>\n",
              "      <td>Index Scan using personaje100_pnombreanho on p...</td>\n",
              "    </tr>\n",
              "    <tr>\n",
              "      <th>1</th>\n",
              "      <td>Index Cond: (((p_nombre)::text = 'Up'::text)...</td>\n",
              "    </tr>\n",
              "    <tr>\n",
              "      <th>2</th>\n",
              "      <td>Planning time: 0.172 ms</td>\n",
              "    </tr>\n",
              "    <tr>\n",
              "      <th>3</th>\n",
              "      <td>Execution time: 0.138 ms</td>\n",
              "    </tr>\n",
              "  </tbody>\n",
              "</table>\n",
              "</div>"
            ],
            "text/plain": [
              "                                          QUERY PLAN\n",
              "0  Index Scan using personaje100_pnombreanho on p...\n",
              "1    Index Cond: (((p_nombre)::text = 'Up'::text)...\n",
              "2                            Planning time: 0.172 ms\n",
              "3                           Execution time: 0.138 ms"
            ]
          },
          "metadata": {},
          "execution_count": 77
        }
      ]
    },
    {
      "cell_type": "code",
      "metadata": {
        "colab": {
          "base_uri": "https://localhost:8080/",
          "height": 190
        },
        "id": "HLy7NgvPwUFd",
        "outputId": "4885454c-9b02-44ef-a804-3e20fd66ca6a"
      },
      "source": [
        "%sql EXPLAIN ANALYZE SELECT * FROM gi.personaje1000 WHERE p_nombre='Up' AND p_anho=2009"
      ],
      "execution_count": null,
      "outputs": [
        {
          "output_type": "stream",
          "name": "stdout",
          "text": [
            " * postgresql+psycopg2://@/postgres\n"
          ]
        },
        {
          "output_type": "execute_result",
          "data": {
            "text/html": [
              "<div>\n",
              "<style scoped>\n",
              "    .dataframe tbody tr th:only-of-type {\n",
              "        vertical-align: middle;\n",
              "    }\n",
              "\n",
              "    .dataframe tbody tr th {\n",
              "        vertical-align: top;\n",
              "    }\n",
              "\n",
              "    .dataframe thead th {\n",
              "        text-align: right;\n",
              "    }\n",
              "</style>\n",
              "<table border=\"1\" class=\"dataframe\">\n",
              "  <thead>\n",
              "    <tr style=\"text-align: right;\">\n",
              "      <th></th>\n",
              "      <th>QUERY PLAN</th>\n",
              "    </tr>\n",
              "  </thead>\n",
              "  <tbody>\n",
              "    <tr>\n",
              "      <th>0</th>\n",
              "      <td>Index Scan using personaje1000_pnombreanho on ...</td>\n",
              "    </tr>\n",
              "    <tr>\n",
              "      <th>1</th>\n",
              "      <td>Index Cond: (((p_nombre)::text = 'Up'::text)...</td>\n",
              "    </tr>\n",
              "    <tr>\n",
              "      <th>2</th>\n",
              "      <td>Planning time: 0.189 ms</td>\n",
              "    </tr>\n",
              "    <tr>\n",
              "      <th>3</th>\n",
              "      <td>Execution time: 0.119 ms</td>\n",
              "    </tr>\n",
              "  </tbody>\n",
              "</table>\n",
              "</div>"
            ],
            "text/plain": [
              "                                          QUERY PLAN\n",
              "0  Index Scan using personaje1000_pnombreanho on ...\n",
              "1    Index Cond: (((p_nombre)::text = 'Up'::text)...\n",
              "2                            Planning time: 0.189 ms\n",
              "3                           Execution time: 0.119 ms"
            ]
          },
          "metadata": {},
          "execution_count": 76
        }
      ]
    },
    {
      "cell_type": "code",
      "metadata": {
        "colab": {
          "base_uri": "https://localhost:8080/",
          "height": 283
        },
        "id": "dxLLz_ThwW2B",
        "outputId": "4475d3e3-d9e6-4818-9546-edf5696ae891"
      },
      "source": [
        "%sql EXPLAIN ANALYZE SELECT * FROM gi.personaje10000 WHERE p_nombre='Up' AND p_anho=2009"
      ],
      "execution_count": null,
      "outputs": [
        {
          "output_type": "stream",
          "name": "stdout",
          "text": [
            " * postgresql+psycopg2://@/postgres\n"
          ]
        },
        {
          "output_type": "execute_result",
          "data": {
            "text/html": [
              "<div>\n",
              "<style scoped>\n",
              "    .dataframe tbody tr th:only-of-type {\n",
              "        vertical-align: middle;\n",
              "    }\n",
              "\n",
              "    .dataframe tbody tr th {\n",
              "        vertical-align: top;\n",
              "    }\n",
              "\n",
              "    .dataframe thead th {\n",
              "        text-align: right;\n",
              "    }\n",
              "</style>\n",
              "<table border=\"1\" class=\"dataframe\">\n",
              "  <thead>\n",
              "    <tr style=\"text-align: right;\">\n",
              "      <th></th>\n",
              "      <th>QUERY PLAN</th>\n",
              "    </tr>\n",
              "  </thead>\n",
              "  <tbody>\n",
              "    <tr>\n",
              "      <th>0</th>\n",
              "      <td>Bitmap Heap Scan on personaje10000  (cost=4.45...</td>\n",
              "    </tr>\n",
              "    <tr>\n",
              "      <th>1</th>\n",
              "      <td>Recheck Cond: (((p_nombre)::text = 'Up'::tex...</td>\n",
              "    </tr>\n",
              "    <tr>\n",
              "      <th>2</th>\n",
              "      <td>Heap Blocks: exact=32</td>\n",
              "    </tr>\n",
              "    <tr>\n",
              "      <th>3</th>\n",
              "      <td>-&gt;  Bitmap Index Scan on personaje10000_pnom...</td>\n",
              "    </tr>\n",
              "    <tr>\n",
              "      <th>4</th>\n",
              "      <td>Index Cond: (((p_nombre)::text = 'Up':...</td>\n",
              "    </tr>\n",
              "    <tr>\n",
              "      <th>5</th>\n",
              "      <td>Planning time: 0.186 ms</td>\n",
              "    </tr>\n",
              "    <tr>\n",
              "      <th>6</th>\n",
              "      <td>Execution time: 0.195 ms</td>\n",
              "    </tr>\n",
              "  </tbody>\n",
              "</table>\n",
              "</div>"
            ],
            "text/plain": [
              "                                          QUERY PLAN\n",
              "0  Bitmap Heap Scan on personaje10000  (cost=4.45...\n",
              "1    Recheck Cond: (((p_nombre)::text = 'Up'::tex...\n",
              "2                              Heap Blocks: exact=32\n",
              "3    ->  Bitmap Index Scan on personaje10000_pnom...\n",
              "4          Index Cond: (((p_nombre)::text = 'Up':...\n",
              "5                            Planning time: 0.186 ms\n",
              "6                           Execution time: 0.195 ms"
            ]
          },
          "metadata": {},
          "execution_count": 75
        }
      ]
    },
    {
      "cell_type": "code",
      "metadata": {
        "colab": {
          "base_uri": "https://localhost:8080/",
          "height": 299
        },
        "id": "9sv0_KyyweqF",
        "outputId": "821cb866-82e3-4045-a67f-2285a8f87bd4"
      },
      "source": [
        "\n",
        "import matplotlib.pyplot as plt\n",
        "import numpy as np\n",
        "\n",
        "fig = plt.figure()\n",
        "x = [100, 1000, 10000]\n",
        "y = np.array([[256.636,0.138], [127.294,0.119], [63.365,0.195]])\n",
        "plt.plot(x, y)\n",
        "\n",
        "\n"
      ],
      "execution_count": null,
      "outputs": [
        {
          "output_type": "execute_result",
          "data": {
            "text/plain": [
              "[<matplotlib.lines.Line2D at 0x7f1158fc8d10>,\n",
              " <matplotlib.lines.Line2D at 0x7f1158fc8a50>]"
            ]
          },
          "metadata": {},
          "execution_count": 79
        },
        {
          "output_type": "display_data",
          "data": {
            "image/png": "[encoded data removed]",
            "text/plain": [
              "<Figure size 432x288 with 1 Axes>"
            ]
          },
          "metadata": {
            "needs_background": "light"
          }
        }
      ]
    }
  ]
}