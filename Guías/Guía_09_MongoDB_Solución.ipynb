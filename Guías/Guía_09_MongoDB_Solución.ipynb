{
  "nbformat": 4,
  "nbformat_minor": 0,
  "metadata": {
    "colab": {
      "name": "Guía 09 - MongoDB - Solución.ipynb",
      "provenance": [],
      "collapsed_sections": []
    },
    "kernelspec": {
      "name": "python3",
      "display_name": "Python 3"
    },
    "language_info": {
      "name": "python"
    }
  },
  "cells": [
    {
      "cell_type": "markdown",
      "metadata": {
        "id": "OJCc5mm-pwll"
      },
      "source": [
        "Para empezar a utilizar mongodb desde 0, vamos a partir realizando los siguientes pasos:\n",
        "\n",
        "\n",
        "1.   Instalaremos $\\texttt{mongodb}$\n",
        "2.   Inicializaremos el proceso $\\texttt{mongodb}$\n",
        "3.   Instalaremos el comando $\\texttt{gdown}$ para bajar la base de datos en formato json de google drive.\n",
        "4.   Importaremos los datos por linea de comando. Dejaremos los datos en la base de datos $\\texttt{local}$, en la colección $\\texttt{pokedex}$, y le informaremos al comando que los datos vienen como una arreglo de jsons.\n",
        "\n",
        "\n"
      ]
    },
    {
      "cell_type": "code",
      "metadata": {
        "colab": {
          "base_uri": "https://localhost:8080/"
        },
        "id": "F3FBHYX9m330",
        "outputId": "f246cb4a-b474-42e3-c789-8a727e70c4c3"
      },
      "source": [
        "!apt install mongodb\n",
        "!service mongodb start\n",
        "!pip install gdown\n",
        "!gdown https://drive.google.com/uc?id=108aLE4mFE5bZYitFfX5c14Qj_aYA5MO_\n",
        "!mongoimport --db local --collection pokedex --jsonArray < pokedex.json"
      ],
      "execution_count": null,
      "outputs": [
        {
          "output_type": "stream",
          "name": "stdout",
          "text": [
            "Reading package lists... Done\n",
            "Building dependency tree       \n",
            "Reading state information... Done\n",
            "The following additional packages will be installed:\n",
            "  libpcap0.8 libstemmer0d libyaml-cpp0.5v5 mongo-tools mongodb-clients\n",
            "  mongodb-server mongodb-server-core\n",
            "The following NEW packages will be installed:\n",
            "  libpcap0.8 libstemmer0d libyaml-cpp0.5v5 mongo-tools mongodb mongodb-clients\n",
            "  mongodb-server mongodb-server-core\n",
            "0 upgraded, 8 newly installed, 0 to remove and 37 not upgraded.\n",
            "Need to get 53.1 MB of archives.\n",
            "After this operation, 215 MB of additional disk space will be used.\n",
            "Get:1 http://archive.ubuntu.com/ubuntu bionic-updates/main amd64 libpcap0.8 amd64 1.8.1-6ubuntu1.18.04.2 [118 kB]\n",
            "Get:2 http://archive.ubuntu.com/ubuntu bionic/main amd64 libstemmer0d amd64 0+svn585-1build1 [62.5 kB]\n",
            "Get:3 http://archive.ubuntu.com/ubuntu bionic/universe amd64 libyaml-cpp0.5v5 amd64 0.5.2-4ubuntu1 [150 kB]\n",
            "Get:4 http://archive.ubuntu.com/ubuntu bionic/universe amd64 mongo-tools amd64 3.6.3-0ubuntu1 [12.3 MB]\n",
            "Get:5 http://archive.ubuntu.com/ubuntu bionic-updates/universe amd64 mongodb-clients amd64 1:3.6.3-0ubuntu1.4 [20.2 MB]\n",
            "Get:6 http://archive.ubuntu.com/ubuntu bionic-updates/universe amd64 mongodb-server-core amd64 1:3.6.3-0ubuntu1.4 [20.3 MB]\n",
            "Get:7 http://archive.ubuntu.com/ubuntu bionic-updates/universe amd64 mongodb-server all 1:3.6.3-0ubuntu1.4 [12.6 kB]\n",
            "Get:8 http://archive.ubuntu.com/ubuntu bionic-updates/universe amd64 mongodb amd64 1:3.6.3-0ubuntu1.4 [10.2 kB]\n",
            "Fetched 53.1 MB in 3s (19.4 MB/s)\n",
            "Selecting previously unselected package libpcap0.8:amd64.\n",
            "(Reading database ... 155219 files and directories currently installed.)\n",
            "Preparing to unpack .../0-libpcap0.8_1.8.1-6ubuntu1.18.04.2_amd64.deb ...\n",
            "Unpacking libpcap0.8:amd64 (1.8.1-6ubuntu1.18.04.2) ...\n",
            "Selecting previously unselected package libstemmer0d:amd64.\n",
            "Preparing to unpack .../1-libstemmer0d_0+svn585-1build1_amd64.deb ...\n",
            "Unpacking libstemmer0d:amd64 (0+svn585-1build1) ...\n",
            "Selecting previously unselected package libyaml-cpp0.5v5:amd64.\n",
            "Preparing to unpack .../2-libyaml-cpp0.5v5_0.5.2-4ubuntu1_amd64.deb ...\n",
            "Unpacking libyaml-cpp0.5v5:amd64 (0.5.2-4ubuntu1) ...\n",
            "Selecting previously unselected package mongo-tools.\n",
            "Preparing to unpack .../3-mongo-tools_3.6.3-0ubuntu1_amd64.deb ...\n",
            "Unpacking mongo-tools (3.6.3-0ubuntu1) ...\n",
            "Selecting previously unselected package mongodb-clients.\n",
            "Preparing to unpack .../4-mongodb-clients_1%3a3.6.3-0ubuntu1.4_amd64.deb ...\n",
            "Unpacking mongodb-clients (1:3.6.3-0ubuntu1.4) ...\n",
            "Selecting previously unselected package mongodb-server-core.\n",
            "Preparing to unpack .../5-mongodb-server-core_1%3a3.6.3-0ubuntu1.4_amd64.deb ...\n",
            "Unpacking mongodb-server-core (1:3.6.3-0ubuntu1.4) ...\n",
            "Selecting previously unselected package mongodb-server.\n",
            "Preparing to unpack .../6-mongodb-server_1%3a3.6.3-0ubuntu1.4_all.deb ...\n",
            "Unpacking mongodb-server (1:3.6.3-0ubuntu1.4) ...\n",
            "Selecting previously unselected package mongodb.\n",
            "Preparing to unpack .../7-mongodb_1%3a3.6.3-0ubuntu1.4_amd64.deb ...\n",
            "Unpacking mongodb (1:3.6.3-0ubuntu1.4) ...\n",
            "Setting up libstemmer0d:amd64 (0+svn585-1build1) ...\n",
            "Setting up libyaml-cpp0.5v5:amd64 (0.5.2-4ubuntu1) ...\n",
            "Setting up mongodb-server-core (1:3.6.3-0ubuntu1.4) ...\n",
            "Setting up libpcap0.8:amd64 (1.8.1-6ubuntu1.18.04.2) ...\n",
            "Setting up mongodb-clients (1:3.6.3-0ubuntu1.4) ...\n",
            "Setting up mongodb-server (1:3.6.3-0ubuntu1.4) ...\n",
            "invoke-rc.d: could not determine current runlevel\n",
            "invoke-rc.d: policy-rc.d denied execution of start.\n",
            "Created symlink /etc/systemd/system/multi-user.target.wants/mongodb.service → /lib/systemd/system/mongodb.service.\n",
            "Setting up mongo-tools (3.6.3-0ubuntu1) ...\n",
            "Setting up mongodb (1:3.6.3-0ubuntu1.4) ...\n",
            "Processing triggers for systemd (237-3ubuntu10.52) ...\n",
            "Processing triggers for man-db (2.8.3-2ubuntu0.1) ...\n",
            "Processing triggers for libc-bin (2.27-3ubuntu1.3) ...\n",
            "/sbin/ldconfig.real: /usr/local/lib/python3.7/dist-packages/ideep4py/lib/libmkldnn.so.0 is not a symbolic link\n",
            "\n",
            " * Starting database mongodb\n",
            "   ...done.\n",
            "Requirement already satisfied: gdown in /usr/local/lib/python3.7/dist-packages (3.6.4)\n",
            "Requirement already satisfied: requests in /usr/local/lib/python3.7/dist-packages (from gdown) (2.23.0)\n",
            "Requirement already satisfied: tqdm in /usr/local/lib/python3.7/dist-packages (from gdown) (4.62.3)\n",
            "Requirement already satisfied: six in /usr/local/lib/python3.7/dist-packages (from gdown) (1.15.0)\n",
            "Requirement already satisfied: certifi>=2017.4.17 in /usr/local/lib/python3.7/dist-packages (from requests->gdown) (2021.10.8)\n",
            "Requirement already satisfied: chardet<4,>=3.0.2 in /usr/local/lib/python3.7/dist-packages (from requests->gdown) (3.0.4)\n",
            "Requirement already satisfied: idna<3,>=2.5 in /usr/local/lib/python3.7/dist-packages (from requests->gdown) (2.10)\n",
            "Requirement already satisfied: urllib3!=1.25.0,!=1.25.1,<1.26,>=1.21.1 in /usr/local/lib/python3.7/dist-packages (from requests->gdown) (1.24.3)\n",
            "Downloading...\n",
            "From: https://drive.google.com/uc?id=108aLE4mFE5bZYitFfX5c14Qj_aYA5MO_\n",
            "To: /content/pokedex.json\n",
            "100% 2.95M/2.95M [00:00<00:00, 92.2MB/s]\n",
            "2021-11-15T13:30:07.190+0000\tconnected to: localhost\n",
            "2021-11-15T13:30:07.190+0000\tFailed: error processing document #1: invalid character '0' after object key:value pair\n",
            "2021-11-15T13:30:07.190+0000\timported 0 documents\n"
          ]
        }
      ]
    },
    {
      "cell_type": "markdown",
      "metadata": {
        "id": "fcy-Y8V9pqRS"
      },
      "source": [
        "A continuación importaremos la librería de mongo para python, crearemos un cliente que se conectara a $\\texttt{localhost}$ por defecto, nos conectaremos a la base local, y luego a la colección pokedex la cual almacenaremos en la variable $\\texttt{collection}$."
      ]
    },
    {
      "cell_type": "code",
      "metadata": {
        "id": "-duLZ321nB6e"
      },
      "source": [
        "from pymongo import MongoClient\n",
        "client = MongoClient()\n",
        "client.list_database_names() # ['admin', 'local']\n",
        "db = client['local']\n",
        "collection = db['pokedex']"
      ],
      "execution_count": null,
      "outputs": []
    },
    {
      "cell_type": "markdown",
      "metadata": {
        "id": "H1qnSiAzq5gm"
      },
      "source": [
        "Para partir, podemos listar toda la colección usando el comando $\\texttt{collection.find({})}$. Para no saturar la salida, nos limitaremos a mirar el primero de los registros."
      ]
    },
    {
      "cell_type": "code",
      "metadata": {
        "colab": {
          "base_uri": "https://localhost:8080/"
        },
        "id": "8NX7SGoRpD2Q",
        "outputId": "e76a61f6-c927-446e-98b7-b80561abeee0"
      },
      "source": [
        "import pprint\n",
        "for pokemon in collection.find({}).limit(1):\n",
        "    pprint.pprint(pokemon)"
      ],
      "execution_count": null,
      "outputs": [
        {
          "output_type": "stream",
          "name": "stdout",
          "text": [
            "{'Abilities': ['Overgrow', 'Chlorophyll'],\n",
            " 'Attack': 49,\n",
            " 'Capture Rate': 45,\n",
            " 'Category': 'Seed Pokémon',\n",
            " 'Defense': 49,\n",
            " 'Egg Steps': 5120,\n",
            " 'Exp Group': 'Medium Slow',\n",
            " 'HP': 45,\n",
            " 'Height (ft)': '2\\'04\"',\n",
            " 'Height (m)': 0.7,\n",
            " 'Id': '001',\n",
            " 'Moves': {'Double-Edge': {'Accuracy': 100,\n",
            "                           'Description': 'A reckless, life-risking tackle. '\n",
            "                                          'This also damages the user quite a '\n",
            "                                          'lot.',\n",
            "                           'Effect %': '--',\n",
            "                           'Level': 27,\n",
            "                           'PP': 15,\n",
            "                           'Power': 120,\n",
            "                           'Type': 'Normal'},\n",
            "           'Growl': {'Accuracy': 100,\n",
            "                     'Description': 'The user growls in an endearing way, '\n",
            "                                    'making opposing Pokémon less wary. This '\n",
            "                                    'lowers their Attack stat.',\n",
            "                     'Effect %': '--',\n",
            "                     'Level': 3,\n",
            "                     'PP': 40,\n",
            "                     'Power': '--',\n",
            "                     'Type': 'Normal'},\n",
            "           'Growth': {'Accuracy': '--',\n",
            "                      'Description': \"The user's body grows all at once, \"\n",
            "                                     'raising the Attack and Sp. Atk stats.',\n",
            "                      'Effect %': '--',\n",
            "                      'Level': 25,\n",
            "                      'PP': 20,\n",
            "                      'Power': '--',\n",
            "                      'Type': 'Normal'},\n",
            "           'Poison Powder': {'Accuracy': 75,\n",
            "                             'Description': 'The user scatters a cloud of '\n",
            "                                            'poisonous dust that poisons the '\n",
            "                                            'target.',\n",
            "                             'Effect %': '--',\n",
            "                             'Level': 13,\n",
            "                             'PP': 35,\n",
            "                             'Power': '--',\n",
            "                             'Type': 'Poison'},\n",
            "           'Razor Leaf': {'Accuracy': 95,\n",
            "                          'Description': 'Sharp-edged leaves are launched to '\n",
            "                                         'slash at the opposing Pokémon. '\n",
            "                                         'Critical hits land more easily.',\n",
            "                          'Effect %': '--',\n",
            "                          'Level': 19,\n",
            "                          'PP': 25,\n",
            "                          'Power': 55,\n",
            "                          'Type': 'Grass'},\n",
            "           'Seed Bomb': {'Accuracy': 100,\n",
            "                         'Description': 'The user slams a barrage of '\n",
            "                                        'hard-shelled seeds down on the target '\n",
            "                                        'from above.',\n",
            "                         'Effect %': '--',\n",
            "                         'Level': 37,\n",
            "                         'PP': 15,\n",
            "                         'Power': 80,\n",
            "                         'Type': 'Grass'},\n",
            "           'Sleep Powder': {'Accuracy': 75,\n",
            "                            'Description': 'The user scatters a big cloud of '\n",
            "                                           'sleep-inducing dust around the '\n",
            "                                           'target.',\n",
            "                            'Effect %': '--',\n",
            "                            'Level': 13,\n",
            "                            'PP': 15,\n",
            "                            'Power': '--',\n",
            "                            'Type': 'Grass'},\n",
            "           'Sweet Scent': {'Accuracy': 100,\n",
            "                           'Description': 'A sweet scent that harshly lowers '\n",
            "                                          \"opposing Pokémon's evasiveness.\",\n",
            "                           'Effect %': '--',\n",
            "                           'Level': 21,\n",
            "                           'PP': 20,\n",
            "                           'Power': '--',\n",
            "                           'Type': 'Normal'},\n",
            "           'Synthesis': {'Accuracy': '--',\n",
            "                         'Description': 'The user restores its own HP. The '\n",
            "                                        'amount of HP regained varies with the '\n",
            "                                        'weather.',\n",
            "                         'Effect %': '--',\n",
            "                         'Level': 33,\n",
            "                         'PP': 5,\n",
            "                         'Power': '--',\n",
            "                         'Type': 'Grass'},\n",
            "           'Tackle': {'Accuracy': 100,\n",
            "                      'Description': 'A physical attack in which the user '\n",
            "                                     'charges and slams into the target with '\n",
            "                                     'its whole body.',\n",
            "                      'Effect %': '--',\n",
            "                      'Level': '—',\n",
            "                      'PP': 35,\n",
            "                      'Power': 40,\n",
            "                      'Type': 'Normal'},\n",
            "           'Take Down': {'Accuracy': 85,\n",
            "                         'Description': 'A reckless, full-body charge attack '\n",
            "                                        'for slamming into the target. This '\n",
            "                                        'also damages the user a little.',\n",
            "                         'Effect %': '--',\n",
            "                         'Level': 15,\n",
            "                         'PP': 20,\n",
            "                         'Power': 90,\n",
            "                         'Type': 'Normal'},\n",
            "           'Vine Whip': {'Accuracy': 100,\n",
            "                         'Description': 'The target is struck with slender, '\n",
            "                                        'whiplike vines to inflict damage.',\n",
            "                         'Effect %': '--',\n",
            "                         'Level': 9,\n",
            "                         'PP': 25,\n",
            "                         'Power': 45,\n",
            "                         'Type': 'Grass'},\n",
            "           'Worry Seed': {'Accuracy': 100,\n",
            "                          'Description': 'A seed that causes worry is planted '\n",
            "                                         'on the target. It prevents sleep by '\n",
            "                                         \"making the target's Ability \"\n",
            "                                         'Insomnia.',\n",
            "                          'Effect %': '--',\n",
            "                          'Level': 31,\n",
            "                          'PP': 10,\n",
            "                          'Power': '--',\n",
            "                          'Type': 'Grass'}},\n",
            " 'Name': 'Bulbasaur',\n",
            " 'Sp. Attack': 65,\n",
            " 'Sp. Defense': 65,\n",
            " 'Speed': 45,\n",
            " 'Total': 318,\n",
            " 'Type 1': 'Grass',\n",
            " 'Type 2': 'Poison',\n",
            " 'Weight (kg)': 6.9,\n",
            " 'Weight (lbs)': 15.2,\n",
            " '_id': ObjectId('619261b3243a1180056babe9')}\n"
          ]
        }
      ]
    },
    {
      "cell_type": "markdown",
      "metadata": {
        "id": "dLU42N8srWv_"
      },
      "source": [
        "Fijense que aparte de los datos básicos del pokemon, también se presentan las habilidades (una lista de strings), y los movimientos (un arreglo asociativo/diccionario de los movimientos y sus detalles).\n",
        "\n",
        "Si queremos ahora listar los pokemones que se llaman $\\texttt{Charmander}$ podemos hacer la siguiente consulta: "
      ]
    },
    {
      "cell_type": "code",
      "metadata": {
        "id": "BgYUDtAUtdkL",
        "colab": {
          "base_uri": "https://localhost:8080/"
        },
        "outputId": "46641e15-9f8b-406f-e5ea-4082b81f1836"
      },
      "source": [
        "for pokemon in collection.find({'Name': 'Charmander'}):\n",
        "    pprint.pprint(pokemon)"
      ],
      "execution_count": null,
      "outputs": [
        {
          "output_type": "stream",
          "name": "stdout",
          "text": [
            "{'Abilities': ['Blaze', 'Solar Power'],\n",
            " 'Attack': 52,\n",
            " 'Capture Rate': 45,\n",
            " 'Category': 'Lizard Pokémon',\n",
            " 'Defense': 43,\n",
            " 'Egg Steps': 5120,\n",
            " 'Exp Group': 'Medium Slow',\n",
            " 'HP': 39,\n",
            " 'Height (ft)': '2\\'00\"',\n",
            " 'Height (m)': 0.6,\n",
            " 'Id': '004',\n",
            " 'Moves': {'Dragon Rage': {'Accuracy': 100,\n",
            "                           'Description': 'This attack hits the target with a '\n",
            "                                          'shock wave of pure rage. This '\n",
            "                                          'attack always inflicts 40 HP '\n",
            "                                          'damage.',\n",
            "                           'Effect %': '--',\n",
            "                           'Level': 16,\n",
            "                           'PP': 10,\n",
            "                           'Power': '??',\n",
            "                           'Type': 'Dragon'},\n",
            "           'Ember': {'Accuracy': 100,\n",
            "                     'Description': 'The target is attacked with small flames. '\n",
            "                                    'This may also leave the target with a '\n",
            "                                    'burn.',\n",
            "                     'Effect %': 10,\n",
            "                     'Level': 7,\n",
            "                     'PP': 25,\n",
            "                     'Power': 40,\n",
            "                     'Type': 'Fire'},\n",
            "           'Fire Fang': {'Accuracy': 95,\n",
            "                         'Description': 'The user bites with flame-cloaked '\n",
            "                                        'fangs. This may also make the target '\n",
            "                                        'flinch or leave it with a burn.',\n",
            "                         'Effect %': 20,\n",
            "                         'Level': 19,\n",
            "                         'PP': 15,\n",
            "                         'Power': 65,\n",
            "                         'Type': 'Fire'},\n",
            "           'Fire Spin': {'Accuracy': 85,\n",
            "                         'Description': 'The target becomes trapped within a '\n",
            "                                        'fierce vortex of fire that rages for '\n",
            "                                        'four to five turns.',\n",
            "                         'Effect %': 100,\n",
            "                         'Level': 37,\n",
            "                         'PP': 15,\n",
            "                         'Power': 35,\n",
            "                         'Type': 'Fire'},\n",
            "           'Flame Burst': {'Accuracy': 100,\n",
            "                           'Description': 'The user attacks the target with a '\n",
            "                                          'bursting flame. The bursting flame '\n",
            "                                          'damages Pokémon next to the target '\n",
            "                                          'as well.',\n",
            "                           'Effect %': '--',\n",
            "                           'Level': 25,\n",
            "                           'PP': 15,\n",
            "                           'Power': 70,\n",
            "                           'Type': 'Fire'},\n",
            "           'Flamethrower': {'Accuracy': 100,\n",
            "                            'Description': 'The target is scorched with an '\n",
            "                                           'intense blast of fire. This may '\n",
            "                                           'also leave the target with a burn.',\n",
            "                            'Effect %': 10,\n",
            "                            'Level': 34,\n",
            "                            'PP': 15,\n",
            "                            'Power': 90,\n",
            "                            'Type': 'Fire'},\n",
            "           'Growl': {'Accuracy': 100,\n",
            "                     'Description': 'The user growls in an endearing way, '\n",
            "                                    'making opposing Pokémon less wary. This '\n",
            "                                    'lowers their Attack stat.',\n",
            "                     'Effect %': '--',\n",
            "                     'Level': '—',\n",
            "                     'PP': 40,\n",
            "                     'Power': '--',\n",
            "                     'Type': 'Normal'},\n",
            "           'Inferno': {'Accuracy': 50,\n",
            "                       'Description': 'The user attacks by engulfing the '\n",
            "                                      'target in an intense fire. This leaves '\n",
            "                                      'the target with a burn.',\n",
            "                       'Effect %': 100,\n",
            "                       'Level': 43,\n",
            "                       'PP': 5,\n",
            "                       'Power': 100,\n",
            "                       'Type': 'Fire'},\n",
            "           'Scary Face': {'Accuracy': 100,\n",
            "                          'Description': 'The user frightens the target with a '\n",
            "                                         'scary face to harshly lower its '\n",
            "                                         'Speed stat.',\n",
            "                          'Effect %': '--',\n",
            "                          'Level': 40,\n",
            "                          'PP': 10,\n",
            "                          'Power': '--',\n",
            "                          'Type': 'Normal'},\n",
            "           'Scratch': {'Accuracy': 100,\n",
            "                       'Description': 'Hard, pointed, sharp claws rake the '\n",
            "                                      'target to inflict damage.',\n",
            "                       'Effect %': '--',\n",
            "                       'Level': '—',\n",
            "                       'PP': 35,\n",
            "                       'Power': 40,\n",
            "                       'Type': 'Normal'},\n",
            "           'Slash': {'Accuracy': 100,\n",
            "                     'Description': 'The target is attacked with a slash of '\n",
            "                                    'claws or blades. Critical hits land more '\n",
            "                                    'easily.',\n",
            "                     'Effect %': '--',\n",
            "                     'Level': 28,\n",
            "                     'PP': 20,\n",
            "                     'Power': 70,\n",
            "                     'Type': 'Normal'},\n",
            "           'Smokescreen': {'Accuracy': 100,\n",
            "                           'Description': 'The user releases an obscuring '\n",
            "                                          'cloud of smoke or ink. This lowers '\n",
            "                                          \"the target's accuracy.\",\n",
            "                           'Effect %': '--',\n",
            "                           'Level': 10,\n",
            "                           'PP': 20,\n",
            "                           'Power': '--',\n",
            "                           'Type': 'Normal'}},\n",
            " 'Name': 'Charmander',\n",
            " 'Sp. Attack': 60,\n",
            " 'Sp. Defense': 50,\n",
            " 'Speed': 65,\n",
            " 'Total': 309,\n",
            " 'Type 1': 'Fire',\n",
            " 'Type 2': 'None',\n",
            " 'Weight (kg)': 8.5,\n",
            " 'Weight (lbs)': 18.7,\n",
            " '_id': ObjectId('619261b3243a1180056babec')}\n"
          ]
        }
      ]
    },
    {
      "cell_type": "markdown",
      "metadata": {
        "id": "djZYDni4vEHK"
      },
      "source": [
        "Y si queremos proyectar algunos de sus atributos lo hacemos tal como si fuera un diccionario:"
      ]
    },
    {
      "cell_type": "code",
      "metadata": {
        "colab": {
          "base_uri": "https://localhost:8080/"
        },
        "id": "VdjGX_wyvMEZ",
        "outputId": "fdd8461f-df6e-4265-e1d9-fcd8666159bd"
      },
      "source": [
        "for pokemon in collection.find({'Name': 'Mew'}):\n",
        "    print(pokemon['Speed'],pokemon['Abilities'])"
      ],
      "execution_count": null,
      "outputs": [
        {
          "output_type": "stream",
          "name": "stdout",
          "text": [
            "100 ['Synchronize']\n"
          ]
        }
      ]
    },
    {
      "cell_type": "markdown",
      "metadata": {
        "id": "I2VnDNwHuSxM"
      },
      "source": [
        "Recomendamos hechar un vistazo [aquí](https://docs.mongodb.com/manual/tutorial/query-documents/) para ver otros ejemplos de consultas que utilizarán en las siguientes preguntas:"
      ]
    },
    {
      "cell_type": "markdown",
      "metadata": {
        "id": "J_3DbzoAuvPu"
      },
      "source": [
        "#Pregunta 1\n",
        "Encuentre los nombre de los pokemons que pesen mas de 150kg. \n",
        "[Ordene](https://www.w3schools.com/python/python_mongodb_sort.asp) los resultados por peso descendiente"
      ]
    },
    {
      "cell_type": "code",
      "metadata": {
        "colab": {
          "base_uri": "https://localhost:8080/"
        },
        "id": "FIYMF7BSsYM5",
        "outputId": "5eba5686-8ed5-4754-ba4e-477439f4d6d6"
      },
      "source": [
        "for pokemon in collection.find({'Weight (kg)': {'$gt': 150}}).sort('Weight (kg)', -1):\n",
        "    pprint.pprint(pokemon['Name'])"
      ],
      "execution_count": null,
      "outputs": [
        {
          "output_type": "stream",
          "name": "stdout",
          "text": [
            "'Cosmoem'\n",
            "'Celesteela'\n",
            "'Groudon'\n",
            "'Mudsdale'\n",
            "'Guzzlord'\n",
            "'Stakataka'\n",
            "'Melmetal'\n",
            "'Giratina'\n",
            "'Dialga'\n",
            "'Metagross'\n",
            "'Avalugg'\n",
            "'Snorlax'\n",
            "'Heatran'\n",
            "'Regigigas'\n",
            "'Steelix'\n",
            "'Wailord'\n",
            "'Aggron'\n",
            "'Kyogre'\n",
            "'Zekrom'\n",
            "'Probopass'\n",
            "'Palkia'\n",
            "'Buzzwole'\n",
            "'Golurk'\n",
            "'Reshiram'\n",
            "'Kyurem'\n",
            "'Arceus'\n",
            "'Torterra'\n",
            "'Zygarde'\n",
            "'Golem'\n",
            "'Hippowdon'\n",
            "'Mamoswine'\n",
            "'Rhyperior'\n",
            "'Tyrantrum'\n",
            "'Gigalith'\n",
            "'Beartic'\n",
            "'Terrakion'\n",
            "'Glalie'\n",
            "'Hariyama'\n",
            "'Cobalion'\n",
            "'Palossand'\n",
            "'Gyarados'\n",
            "'Regirock'\n",
            "'Solgaleo'\n",
            "'Necrozma'\n",
            "'Aurorus'\n",
            "'Lapras'\n",
            "'Mantine'\n",
            "'Camerupt'\n",
            "'Lugia'\n",
            "'Xerneas'\n",
            "'Turtonator'\n",
            "'Onix'\n",
            "'Dragonite'\n",
            "'Dhelmise'\n",
            "'Rayquaza'\n",
            "'Registeel'\n",
            "'Yveltal'\n",
            "'Metang'\n",
            "'Tyranitar'\n",
            "'Scolipede'\n",
            "'Crustle'\n",
            "'Virizion'\n",
            "'Ho-Oh'\n",
            "'Entei'\n",
            "'Volcanion'\n",
            "'Suicune'\n",
            "'Bronzong'\n",
            "'Drampa'\n",
            "'Magnezone'\n",
            "'Crabominable'\n",
            "'Raikou'\n",
            "'Regice'\n",
            "'Lunatone'\n",
            "'Milotic'\n",
            "'Hydreigon'\n",
            "'Arcanine'\n",
            "'Solrock'\n",
            "'Kingdra'\n",
            "'Pupitar'\n",
            "'Walrein'\n",
            "'Goodra'\n"
          ]
        }
      ]
    },
    {
      "cell_type": "markdown",
      "metadata": {
        "id": "QbgODMWRzjcX"
      },
      "source": [
        "#Pregunta 2\n",
        "Encuentre los nombres de los pokemones ''Glass cannon'', que son los que tienen ataque sobre 120 y defensa bajo 50."
      ]
    },
    {
      "cell_type": "code",
      "metadata": {
        "colab": {
          "base_uri": "https://localhost:8080/"
        },
        "id": "BAuRx2oZzwVf",
        "outputId": "af9be756-5485-4508-846e-72f54309ac2a"
      },
      "source": [
        "for pokemon in collection.find({'Attack': {'$gt': 120}, 'Defense': {'$lt': 50}}):\n",
        "    pprint.pprint(pokemon['Name'])"
      ],
      "execution_count": null,
      "outputs": [
        {
          "output_type": "stream",
          "name": "stdout",
          "text": [
            "'Cranidos'\n",
            "'Pheromosa'\n"
          ]
        }
      ]
    },
    {
      "cell_type": "markdown",
      "metadata": {
        "id": "d7lB2vkh0yFq"
      },
      "source": [
        "#Pregunta 3\n",
        "Encuentre los pokemones \"defensivos\", que son los que tienen ya sea defensa, hp, o defensa especial (sp. defense) mayor o igual a 120."
      ]
    },
    {
      "cell_type": "code",
      "metadata": {
        "colab": {
          "base_uri": "https://localhost:8080/"
        },
        "id": "A1UwKkaE0Qv3",
        "outputId": "a4538452-9858-49f0-f937-9d925eea2202"
      },
      "source": [
        "for pokemon in collection.find({'$or': [{'Defense': {'$gte': 120}},{'Hp': {'$gte': 120}}, {'Sp. Defense': {'$gte': 120}}]}):\n",
        "    pprint.pprint(pokemon['Name'])"
      ],
      "execution_count": null,
      "outputs": [
        {
          "output_type": "stream",
          "name": "stdout",
          "text": [
            "'Golem'\n",
            "'Cloyster'\n",
            "'Onix'\n",
            "'Weezing'\n",
            "'Rhydon'\n",
            "'Omastar'\n",
            "'Forretress'\n",
            "'Steelix'\n",
            "'Shuckle'\n",
            "'Magcargo'\n",
            "'Skarmory'\n",
            "'Donphan'\n",
            "'Lugia'\n",
            "'Nosepass'\n",
            "'Lairon'\n",
            "'Aggron'\n",
            "'Torkoal'\n",
            "'Dusclops'\n",
            "'Relicanth'\n",
            "'Metagross'\n",
            "'Regirock'\n",
            "'Registeel'\n",
            "'Groudon'\n",
            "'Bastiodon'\n",
            "'Rhyperior'\n",
            "'Tangrowth'\n",
            "'Leafeon'\n",
            "'Gliscor'\n",
            "'Probopass'\n",
            "'Dusknoir'\n",
            "'Uxie'\n",
            "'Dialga'\n",
            "'Giratina'\n",
            "'Cresselia'\n",
            "'Arceus'\n",
            "'Gigalith'\n",
            "'Crustle'\n",
            "'Cofagrigus'\n",
            "'Carracosta'\n",
            "'Ferrothorn'\n",
            "'Cobalion'\n",
            "'Zekrom'\n",
            "'Chesnaught'\n",
            "'Doublade'\n",
            "'Aegislash'\n",
            "'Carbink'\n",
            "'Gourgeist'\n",
            "'Avalugg'\n",
            "'Zygarde'\n",
            "'Diancie'\n",
            "'Volcanion'\n",
            "'Toxapex'\n",
            "'Golisopod'\n",
            "'Pyukumuku'\n",
            "'Turtonator'\n",
            "'Kommo-o'\n",
            "'Cosmoem'\n",
            "'Buzzwole'\n",
            "'Kartana'\n",
            "'Stakataka'\n",
            "'Melmetal'\n"
          ]
        }
      ]
    },
    {
      "cell_type": "markdown",
      "metadata": {
        "id": "vWKkWAl74R6O"
      },
      "source": [
        "#Pregunta 4\n",
        "Seleccione los pokemones que tienen el movimiento $\\texttt{Take Down}$ de nivel 15.\n",
        "\n",
        "**Hint**: Puede consultar en diccionarios embebidos concatenando las llaves con un punto \".\". \n",
        "\n",
        "Por ejemplo, para un dato:\n",
        "```\n",
        "[{\n",
        "  a: {\n",
        "    b: 'foo'\n",
        "  }\n",
        "}]\n",
        "```\n",
        "se puede consultar por los documentos tal que $\\texttt{b}$ sea $\\texttt{foo}$, escribiendo $\\texttt{collection.find({'a.b': 'foo'})}$."
      ]
    },
    {
      "cell_type": "code",
      "metadata": {
        "colab": {
          "base_uri": "https://localhost:8080/"
        },
        "id": "Y_cykeWb4DdT",
        "outputId": "e9b6164f-67b6-4167-8d37-ca3a881d0a9b"
      },
      "source": [
        "for pokemon in collection.find({'Moves.Take Down.Level': 15}):\n",
        "    pprint.pprint(pokemon['Name'])"
      ],
      "execution_count": null,
      "outputs": [
        {
          "output_type": "stream",
          "name": "stdout",
          "text": [
            "'Bulbasaur'\n",
            "'Ivysaur'\n",
            "'Venusaur'\n",
            "'Cranidos'\n",
            "'Rampardos'\n",
            "'Bastiodon'\n",
            "'Shieldon'\n",
            "'Lillipup'\n",
            "'Herdier'\n",
            "'Stoutland'\n",
            "'Bunnelby'\n",
            "'Diggersby'\n",
            "'Amaura'\n",
            "'Aurorus'\n",
            "'Bergmite'\n",
            "'Avalugg'\n"
          ]
        }
      ]
    },
    {
      "cell_type": "markdown",
      "metadata": {
        "id": "MOD9S2hd2TNb"
      },
      "source": [
        "#Pregunta 5\n",
        "Seleccione los pokemones que tienen el movimiento $\\texttt{Take Down}$.\n",
        "\n",
        "**Hint**: Puede testear si es que una llave existe utilizando [$exists](https://docs.mongodb.com/manual/reference/operator/query/exists/)"
      ]
    },
    {
      "cell_type": "code",
      "metadata": {
        "colab": {
          "base_uri": "https://localhost:8080/"
        },
        "id": "CnhaYoEQ1TyT",
        "outputId": "958ff2f5-a859-455a-f908-a0a82d3e4de9"
      },
      "source": [
        "for pokemon in collection.find({'Moves.Take Down': { '$exists': True }}):\n",
        "    pprint.pprint(pokemon['Name'])"
      ],
      "execution_count": null,
      "outputs": [
        {
          "output_type": "stream",
          "name": "stdout",
          "text": [
            "'Bulbasaur'\n",
            "'Ivysaur'\n",
            "'Venusaur'\n",
            "'Growlithe'\n",
            "'Ponyta'\n",
            "'Rapidash'\n",
            "'Seel'\n",
            "'Dewgong'\n",
            "'Rhyhorn'\n",
            "'Rhydon'\n",
            "'Chansey'\n",
            "'Tauros'\n",
            "'Eevee'\n",
            "'Aerodactyl'\n",
            "'Hoothoot'\n",
            "'Noctowl'\n",
            "'Chinchou'\n",
            "'Lanturn'\n",
            "'Mareep'\n",
            "'Flaaffy'\n",
            "'Ampharos'\n",
            "'Pineco'\n",
            "'Forretress'\n",
            "'Dunsparce'\n",
            "'Qwilfish'\n",
            "'Heracross'\n",
            "'Swinub'\n",
            "'Piloswine'\n",
            "'Mantine'\n",
            "'Phanpy'\n",
            "'Stantler'\n",
            "'Blissey'\n",
            "'Mudkip'\n",
            "'Marshtomp'\n",
            "'Swampert'\n",
            "'Poochyena'\n",
            "'Zigzagoon'\n",
            "'Mightyena'\n",
            "'Aron'\n",
            "'Lairon'\n",
            "'Aggron'\n",
            "'Carvanha'\n",
            "'Numel'\n",
            "'Camerupt'\n",
            "'Swablu'\n",
            "'Altaria'\n",
            "'Chimecho'\n",
            "'Relicanth'\n",
            "'Luvdisc'\n",
            "'Beldum'\n",
            "'Metang'\n",
            "'Metagross'\n",
            "'Starly'\n",
            "'Staravia'\n",
            "'Staraptor'\n",
            "'Bidoof'\n",
            "'Bibarel'\n",
            "'Cranidos'\n",
            "'Rampardos'\n",
            "'Bastiodon'\n",
            "'Shieldon'\n",
            "'Cherrim'\n",
            "'Cherubi'\n",
            "'Gible'\n",
            "'Gabite'\n",
            "'Garchomp'\n",
            "'Hippopotas'\n",
            "'Hippowdon'\n",
            "'Mantyke'\n",
            "'Rhyperior'\n",
            "'Mamoswine'\n",
            "'Tepig'\n",
            "'Pignite'\n",
            "'Emboar'\n",
            "'Lillipup'\n",
            "'Herdier'\n",
            "'Stoutland'\n",
            "'Audino'\n",
            "'Basculin'\n",
            "'Trubbish'\n",
            "'Deerling'\n",
            "'Sawsbuck'\n",
            "'Karrablast'\n",
            "'Larvesta'\n",
            "'Cobalion'\n",
            "'Virizion'\n",
            "'Terrakion'\n",
            "'Keldeo'\n",
            "'Chespin'\n",
            "'Quilladin'\n",
            "'Chesnaught'\n",
            "'Bunnelby'\n",
            "'Diggersby'\n",
            "'Litleo'\n",
            "'Pyroar'\n",
            "'Skiddo'\n",
            "'Gogoat'\n",
            "'Furfrou'\n",
            "'Amaura'\n",
            "'Aurorus'\n",
            "'Bergmite'\n",
            "'Avalugg'\n",
            "'Xerneas'\n",
            "'Volcanion'\n",
            "'Yungoos'\n",
            "'Gumshoos'\n",
            "'Wishiwashi'\n",
            "'Stufful'\n",
            "'Bewear'\n",
            "'Passimian'\n",
            "'Type: Null'\n",
            "'Minior'\n",
            "'Silvally'\n",
            "'Stakataka'\n"
          ]
        }
      ]
    },
    {
      "cell_type": "markdown",
      "metadata": {
        "id": "fslrlRMV41jc"
      },
      "source": [
        "#Pregunta 6 \n",
        "1. Seleccione los pokemones que tienen la habilidad $\\texttt{Telepathy}$\n"
      ]
    },
    {
      "cell_type": "code",
      "metadata": {
        "colab": {
          "base_uri": "https://localhost:8080/"
        },
        "id": "rIBpykKuENYH",
        "outputId": "0843bf99-a108-4daa-d436-5d06257ca1b1"
      },
      "source": [
        "for pokemon in collection.find({'Abilities': 'Telepathy'}):\n",
        "    pprint.pprint(pokemon['Name'])"
      ],
      "execution_count": null,
      "outputs": [
        {
          "output_type": "stream",
          "name": "stdout",
          "text": [
            "'Wobbuffet'\n",
            "'Ralts'\n",
            "'Kirlia'\n",
            "'Gardevoir'\n",
            "'Medicham'\n",
            "'Meditite'\n",
            "'Wynaut'\n",
            "'Dialga'\n",
            "'Palkia'\n",
            "'Giratina'\n",
            "'Musharna'\n",
            "'Munna'\n",
            "'Elgyem'\n",
            "'Beheeyem'\n",
            "'Noibat'\n",
            "'Noivern'\n",
            "'Oranguru'\n",
            "'Tapu Koko'\n",
            "'Tapu Lele'\n",
            "'Tapu Bulu'\n",
            "'Tapu Fini'\n"
          ]
        }
      ]
    },
    {
      "cell_type": "markdown",
      "metadata": {
        "id": "Qwxi9yxdEDo6"
      },
      "source": [
        "2. Seleccione los pokemones que tienen la habilidad $\\texttt{Telepathy}$\n",
        " **y** $\\texttt{Synchronize}$ (pueden tener mas habilidades aparte de estas dos. \n",
        "   \n",
        "   **Hint**: puede utilizar el operador [$all](https://docs.mongodb.com/manual/tutorial/query-arrays/) . "
      ]
    },
    {
      "cell_type": "code",
      "metadata": {
        "colab": {
          "base_uri": "https://localhost:8080/"
        },
        "id": "oRIzCWC45HOb",
        "outputId": "26817fee-4190-4264-cff0-6322336d69da"
      },
      "source": [
        "for pokemon in collection.find({'Abilities': {'$all' : ['Telepathy','Synchronize']}}):\n",
        "    pprint.pprint(pokemon['Name'])"
      ],
      "execution_count": null,
      "outputs": [
        {
          "output_type": "stream",
          "name": "stdout",
          "text": [
            "'Ralts'\n",
            "'Kirlia'\n",
            "'Gardevoir'\n",
            "'Musharna'\n",
            "'Munna'\n",
            "'Elgyem'\n",
            "'Beheeyem'\n"
          ]
        }
      ]
    },
    {
      "cell_type": "markdown",
      "metadata": {
        "id": "OXO4tdys9SuC"
      },
      "source": [
        "#Pregunta 7\n",
        "Para la siguiente pregunta vamos a crear un índice sobre la columna $\\texttt{Category}$."
      ]
    },
    {
      "cell_type": "code",
      "metadata": {
        "colab": {
          "base_uri": "https://localhost:8080/",
          "height": 35
        },
        "id": "VM2gTzMA9-tl",
        "outputId": "fae20b19-a2aa-4642-89f0-6be40811c18d"
      },
      "source": [
        "collection.create_index([('Category', 'text')])"
      ],
      "execution_count": null,
      "outputs": [
        {
          "output_type": "execute_result",
          "data": {
            "application/vnd.google.colaboratory.intrinsic+json": {
              "type": "string"
            },
            "text/plain": [
              "'Category_text'"
            ]
          },
          "metadata": {},
          "execution_count": 47
        }
      ]
    },
    {
      "cell_type": "markdown",
      "metadata": {
        "id": "_GhQq0Zc_Qbn"
      },
      "source": [
        "Usando el operador [$text](https://docs.mongodb.com/manual/text-search/) responda a las siguientes consultas.\n",
        "1.  Devuelva los nombres y categorías de los pokemons tales que su categoría contenga ya sea la palabra **Sea** o **Gas**."
      ]
    },
    {
      "cell_type": "code",
      "metadata": {
        "colab": {
          "base_uri": "https://localhost:8080/"
        },
        "id": "Y4W9G87Y9HzR",
        "outputId": "5b72dd67-b6e1-47a0-e4cb-5d9cb17ecb20"
      },
      "source": [
        "for pokemon in collection.find({'$text': {'$search': 'Sea Gas'}}):\n",
        "    print(pokemon['Name'], \":\", pokemon['Category'])\n"
      ],
      "execution_count": null,
      "outputs": [
        {
          "output_type": "stream",
          "name": "stdout",
          "text": [
            "Haunter : Gas Pokémon\n",
            "Gastly : Gas Pokémon\n",
            "Weezing : Poison Gas Pokémon\n",
            "Koffing : Poison Gas Pokémon\n",
            "Dhelmise : Sea Creeper Pokémon\n",
            "Pyukumuku : Sea Cucumber Pokémon\n",
            "Popplio : Sea Lion Pokémon\n",
            "Oshawott : Sea Otter Pokémon\n",
            "Phione : Sea Drifter Pokémon\n",
            "Gastrodon : Sea Slug Pokémon\n",
            "Shellos : Sea Slug Pokémon\n",
            "Floatzel : Sea Weasel Pokémon\n",
            "Buizel : Sea Weasel Pokémon\n",
            "Kyogre : Sea Basin Pokémon\n",
            "Gorebyss : South Sea Pokémon\n",
            "Huntail : Deep Sea Pokémon\n",
            "Lileep : Sea Lily Pokémon\n",
            "Dewgong : Sea Lion Pokémon\n",
            "Seel : Sea Lion Pokémon\n"
          ]
        }
      ]
    },
    {
      "cell_type": "markdown",
      "metadata": {
        "id": "m8PuYBiiCWwQ"
      },
      "source": [
        "2. Devuelva los nombres y categorías de los pokemons tales que su categoría contenga la palabra **Sea** y no **Deep**."
      ]
    },
    {
      "cell_type": "code",
      "metadata": {
        "colab": {
          "base_uri": "https://localhost:8080/"
        },
        "id": "PHdr_c-XCjdZ",
        "outputId": "0b17c2a9-21a7-4461-c2f2-b46fd7a9e789"
      },
      "source": [
        "for pokemon in collection.find({'$text': {'$search': 'Sea -Deep'}}):\n",
        "    print(pokemon['Name'], \":\", pokemon['Category'])\n"
      ],
      "execution_count": null,
      "outputs": [
        {
          "output_type": "stream",
          "name": "stdout",
          "text": [
            "Dhelmise : Sea Creeper Pokémon\n",
            "Pyukumuku : Sea Cucumber Pokémon\n",
            "Popplio : Sea Lion Pokémon\n",
            "Oshawott : Sea Otter Pokémon\n",
            "Phione : Sea Drifter Pokémon\n",
            "Gastrodon : Sea Slug Pokémon\n",
            "Shellos : Sea Slug Pokémon\n",
            "Floatzel : Sea Weasel Pokémon\n",
            "Buizel : Sea Weasel Pokémon\n",
            "Kyogre : Sea Basin Pokémon\n",
            "Gorebyss : South Sea Pokémon\n",
            "Lileep : Sea Lily Pokémon\n",
            "Dewgong : Sea Lion Pokémon\n",
            "Seel : Sea Lion Pokémon\n"
          ]
        }
      ]
    },
    {
      "cell_type": "markdown",
      "metadata": {
        "id": "aaWgzFeSCrHN"
      },
      "source": [
        "3. Devuelva los nombres y categorías de los pokemons tales que su categoría contenga ambas palabras **Sea** y **Lion**."
      ]
    },
    {
      "cell_type": "code",
      "metadata": {
        "colab": {
          "base_uri": "https://localhost:8080/"
        },
        "id": "_D0QACY5CqgJ",
        "outputId": "3c54bae5-9829-4fa7-995c-ba9bfc0b378f"
      },
      "source": [
        "for pokemon in collection.find({'$text': {'$search': '\\\"Sea\\\" \\\"Lion\\\"'}}):\n",
        "    print(pokemon['Name'], \":\", pokemon['Category'])\n"
      ],
      "execution_count": null,
      "outputs": [
        {
          "output_type": "stream",
          "name": "stdout",
          "text": [
            "Popplio : Sea Lion Pokémon\n",
            "Dewgong : Sea Lion Pokémon\n",
            "Seel : Sea Lion Pokémon\n"
          ]
        }
      ]
    }
  ]
}