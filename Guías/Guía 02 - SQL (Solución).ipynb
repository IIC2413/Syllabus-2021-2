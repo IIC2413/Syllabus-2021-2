{
  "nbformat": 4,
  "nbformat_minor": 0,
  "metadata": {
    "colab": {
      "name": "Guía 2 - Solución",
      "provenance": [],
      "collapsed_sections": []
    },
    "kernelspec": {
      "name": "python3",
      "display_name": "Python 3"
    }
  },
  "cells": [
    {
      "cell_type": "markdown",
      "metadata": {
        "id": "vMe_cruNz0t3"
      },
      "source": [
        "#Guía 2: SQL\n",
        "\n",
        "En esta guía usted deberá realizar consultas SQL en un servidor virtual con PostgreSQL que contiene\n",
        "datos de películas extraídos de IMDb. El esquema de los datos es el siguiente:\n",
        "\n",
        "* $\\color{green}{\\textbf{pelicula}}(\\color{blue}{\\underline{\\text{nombre}}}, \\color{blue}{\\underline{\\text{anho}}}, \\color{blue}{\\text{calificacion}})$ \n",
        "* $\\color{green}{\\textbf{actor}}(\\color{blue}{\\underline{\\text{nombre}}}, \\color{blue}{\\text{genero}})$\n",
        "* $\\color{green}{\\textbf{personaje}}(\\color{blue}{\\underline{\\text{p_nombre}}}, \\color{blue}{\\underline{\\text{p_anho}}},  \\color{blue}{\\underline{\\text{a_nombre}}}, \\color{blue}{\\text{personaje}})$\n",
        "\n",
        "La tabla $\\color{green}{\\textbf{personaje}}$ usa llaves foráneas que hacen referencia a las tablas de $\\color{green}{\\textbf{actor}}(\\color{blue}{\\underline{\\text{a_nombre}}})$ y $\\color{green}{\\textbf{pelicula}}(\\color{blue}{\\underline{\\text{p_nombre}}}, \\color{blue}{\\underline{\\text{p_anho}}})$.\n",
        "\n",
        "Para iniciar el servidor virtual, instalar la base de datos postgres, y descargar los datos e importarlos, debe correr el siguiente bloque:\n",
        "\n"
      ]
    },
    {
      "cell_type": "code",
      "metadata": {
        "id": "xN9MrCqDyMym",
        "colab": {
          "base_uri": "https://localhost:8080/",
          "height": 1000
        },
        "outputId": "9254c642-9e8a-4165-96d9-c4b4ab0d130b"
      },
      "source": [
        "# install\n",
        "!apt update\n",
        "!apt install postgresql postgresql-contrib &>log\n",
        "!service postgresql start\n",
        "!sudo -u postgres psql -c \"CREATE USER root WITH SUPERUSER\"\n",
        "# set connection\n",
        "%load_ext sql\n",
        "%config SqlMagic.feedback=False \n",
        "%config SqlMagic.autopandas=True\n",
        "%sql postgresql+psycopg2://@/postgres\n",
        "!wget -cO - https://drive.google.com/uc\\?export\\=download\\&id\\=1g7UsolqIt5CatIUiWKQNiQ4sT6zsCZnk > /content/guia2.sql\n",
        "!psql postgres < /content/guia2.sql\n",
        "%sql set search_path to guia;"
      ],
      "execution_count": null,
      "outputs": [
        {
          "output_type": "stream",
          "name": "stdout",
          "text": [
            "\u001b[33m\r0% [Working]\u001b[0m\r            \rGet:1 http://security.ubuntu.com/ubuntu bionic-security InRelease [88.7 kB]\n",
            "\u001b[33m\r0% [Connecting to archive.ubuntu.com (91.189.88.152)] [1 InRelease 14.2 kB/88.7\u001b[0m\r                                                                               \rGet:2 https://cloud.r-project.org/bin/linux/ubuntu bionic-cran40/ InRelease [3,626 B]\n",
            "Ign:3 https://developer.download.nvidia.com/compute/cuda/repos/ubuntu1804/x86_64  InRelease\n",
            "Ign:4 https://developer.download.nvidia.com/compute/machine-learning/repos/ubuntu1804/x86_64  InRelease\n",
            "Get:5 https://developer.download.nvidia.com/compute/cuda/repos/ubuntu1804/x86_64  Release [696 B]\n",
            "Get:6 http://ppa.launchpad.net/c2d4u.team/c2d4u4.0+/ubuntu bionic InRelease [15.9 kB]\n",
            "Hit:7 https://developer.download.nvidia.com/compute/machine-learning/repos/ubuntu1804/x86_64  Release\n",
            "Get:8 https://developer.download.nvidia.com/compute/cuda/repos/ubuntu1804/x86_64  Release.gpg [836 B]\n",
            "Hit:9 http://archive.ubuntu.com/ubuntu bionic InRelease\n",
            "Get:10 http://archive.ubuntu.com/ubuntu bionic-updates InRelease [88.7 kB]\n",
            "Hit:11 http://ppa.launchpad.net/cran/libgit2/ubuntu bionic InRelease\n",
            "Get:12 http://security.ubuntu.com/ubuntu bionic-security/main amd64 Packages [2,295 kB]\n",
            "Hit:13 http://ppa.launchpad.net/deadsnakes/ppa/ubuntu bionic InRelease\n",
            "Get:14 http://archive.ubuntu.com/ubuntu bionic-backports InRelease [74.6 kB]\n",
            "Hit:15 http://ppa.launchpad.net/graphics-drivers/ppa/ubuntu bionic InRelease\n",
            "Get:17 https://developer.download.nvidia.com/compute/cuda/repos/ubuntu1804/x86_64  Packages [700 kB]\n",
            "Get:18 http://ppa.launchpad.net/c2d4u.team/c2d4u4.0+/ubuntu bionic/main Sources [1,796 kB]\n",
            "Get:19 http://ppa.launchpad.net/c2d4u.team/c2d4u4.0+/ubuntu bionic/main amd64 Packages [919 kB]\n",
            "Fetched 5,983 kB in 3s (1,779 kB/s)\n",
            "Reading package lists... Done\n",
            "Building dependency tree       \n",
            "Reading state information... Done\n",
            "43 packages can be upgraded. Run 'apt list --upgradable' to see them.\n",
            " * Starting PostgreSQL 10 database server\n",
            "   ...done.\n",
            "CREATE ROLE\n"
          ]
        },
        {
          "output_type": "stream",
          "name": "stderr",
          "text": [
            "/usr/local/lib/python3.7/dist-packages/psycopg2/__init__.py:144: UserWarning: The psycopg2 wheel package will be renamed from release 2.8; in order to keep installing from binary please use \"pip install psycopg2-binary\" instead. For details see: <http://initd.org/psycopg/docs/install.html#binary-install-from-pypi>.\n",
            "  \"\"\")\n"
          ]
        },
        {
          "output_type": "stream",
          "name": "stdout",
          "text": [
            "--2021-09-06 15:21:08--  https://drive.google.com/uc?export=download&id=1g7UsolqIt5CatIUiWKQNiQ4sT6zsCZnk\n",
            "Resolving drive.google.com (drive.google.com)... 209.85.145.139, 209.85.145.138, 209.85.145.100, ...\n",
            "Connecting to drive.google.com (drive.google.com)|209.85.145.139|:443... connected.\n",
            "HTTP request sent, awaiting response... 302 Moved Temporarily\n",
            "Location: https://doc-08-3k-docs.googleusercontent.com/docs/securesc/ha0ro937gcuc7l7deffksulhg5h7mbp1/a2te3iu4is9keh42i8mtkg1bc9ovoe5h/1630941600000/16747396958771604789/*/1g7UsolqIt5CatIUiWKQNiQ4sT6zsCZnk?e=download [following]\n",
            "Warning: wildcards not supported in HTTP.\n",
            "--2021-09-06 15:21:09--  https://doc-08-3k-docs.googleusercontent.com/docs/securesc/ha0ro937gcuc7l7deffksulhg5h7mbp1/a2te3iu4is9keh42i8mtkg1bc9ovoe5h/1630941600000/16747396958771604789/*/1g7UsolqIt5CatIUiWKQNiQ4sT6zsCZnk?e=download\n",
            "Resolving doc-08-3k-docs.googleusercontent.com (doc-08-3k-docs.googleusercontent.com)... 173.194.193.132, 2607:f8b0:4001:c0f::84\n",
            "Connecting to doc-08-3k-docs.googleusercontent.com (doc-08-3k-docs.googleusercontent.com)|173.194.193.132|:443... connected.\n",
            "HTTP request sent, awaiting response... 200 OK\n",
            "Length: 1220212 (1.2M) [text/x-sql]\n",
            "Saving to: ‘STDOUT’\n",
            "\n",
            "-                   100%[===================>]   1.16M  --.-KB/s    in 0.01s   \n",
            "\n",
            "2021-09-06 15:21:09 (103 MB/s) - written to stdout [1220212/1220212]\n",
            "\n",
            "SET\n",
            "SET\n",
            "SET\n",
            "SET\n",
            "SET\n",
            " set_config \n",
            "------------\n",
            " \n",
            "(1 row)\n",
            "\n",
            "SET\n",
            "SET\n",
            "SET\n",
            "SET\n",
            "CREATE SCHEMA\n",
            "SET\n",
            "SET\n",
            "CREATE TABLE\n",
            "ALTER TABLE\n",
            "CREATE TABLE\n",
            "ALTER TABLE\n",
            "CREATE TABLE\n",
            "ALTER TABLE\n",
            "COPY 14676\n",
            "COPY 250\n",
            "COPY 17229\n",
            "ALTER TABLE\n",
            "ALTER TABLE\n",
            "ALTER TABLE\n",
            "ALTER TABLE\n",
            "ALTER TABLE\n",
            "GRANT\n",
            "GRANT\n",
            "GRANT\n",
            "GRANT\n",
            "ALTER DEFAULT PRIVILEGES\n",
            "ALTER DEFAULT PRIVILEGES\n",
            " * postgresql+psycopg2://@/postgres\n"
          ]
        },
        {
          "output_type": "execute_result",
          "data": {
            "text/html": [
              "<div>\n",
              "<style scoped>\n",
              "    .dataframe tbody tr th:only-of-type {\n",
              "        vertical-align: middle;\n",
              "    }\n",
              "\n",
              "    .dataframe tbody tr th {\n",
              "        vertical-align: top;\n",
              "    }\n",
              "\n",
              "    .dataframe thead th {\n",
              "        text-align: right;\n",
              "    }\n",
              "</style>\n",
              "<table border=\"1\" class=\"dataframe\">\n",
              "  <thead>\n",
              "    <tr style=\"text-align: right;\">\n",
              "      <th></th>\n",
              "    </tr>\n",
              "  </thead>\n",
              "  <tbody>\n",
              "  </tbody>\n",
              "</table>\n",
              "</div>"
            ],
            "text/plain": [
              "Empty DataFrame\n",
              "Columns: []\n",
              "Index: []"
            ]
          },
          "metadata": {},
          "execution_count": 2
        }
      ]
    },
    {
      "cell_type": "markdown",
      "metadata": {
        "id": "ydn64zTV5o9m"
      },
      "source": [
        "Ejecute la siguiente consulta para probar que todo ande bien:"
      ]
    },
    {
      "cell_type": "code",
      "metadata": {
        "id": "YswMeCEv2NKP",
        "colab": {
          "base_uri": "https://localhost:8080/",
          "height": 436
        },
        "outputId": "094789bf-0974-4caa-8256-1875d0bc247a"
      },
      "source": [
        "%sql SELECT * FROM pelicula;"
      ],
      "execution_count": null,
      "outputs": [
        {
          "output_type": "stream",
          "name": "stdout",
          "text": [
            " * postgresql+psycopg2://@/postgres\n"
          ]
        },
        {
          "output_type": "execute_result",
          "data": {
            "text/html": [
              "<div>\n",
              "<style scoped>\n",
              "    .dataframe tbody tr th:only-of-type {\n",
              "        vertical-align: middle;\n",
              "    }\n",
              "\n",
              "    .dataframe tbody tr th {\n",
              "        vertical-align: top;\n",
              "    }\n",
              "\n",
              "    .dataframe thead th {\n",
              "        text-align: right;\n",
              "    }\n",
              "</style>\n",
              "<table border=\"1\" class=\"dataframe\">\n",
              "  <thead>\n",
              "    <tr style=\"text-align: right;\">\n",
              "      <th></th>\n",
              "      <th>nombre</th>\n",
              "      <th>anho</th>\n",
              "      <th>calificacion</th>\n",
              "    </tr>\n",
              "  </thead>\n",
              "  <tbody>\n",
              "    <tr>\n",
              "      <th>0</th>\n",
              "      <td>The Shawshank Redemption</td>\n",
              "      <td>1994</td>\n",
              "      <td>9.2</td>\n",
              "    </tr>\n",
              "    <tr>\n",
              "      <th>1</th>\n",
              "      <td>The Godfather</td>\n",
              "      <td>1972</td>\n",
              "      <td>9.2</td>\n",
              "    </tr>\n",
              "    <tr>\n",
              "      <th>2</th>\n",
              "      <td>The Godfather: Part II</td>\n",
              "      <td>1974</td>\n",
              "      <td>9.0</td>\n",
              "    </tr>\n",
              "    <tr>\n",
              "      <th>3</th>\n",
              "      <td>The Dark Knight</td>\n",
              "      <td>2008</td>\n",
              "      <td>8.9</td>\n",
              "    </tr>\n",
              "    <tr>\n",
              "      <th>4</th>\n",
              "      <td>12 Angry Men</td>\n",
              "      <td>1957</td>\n",
              "      <td>8.9</td>\n",
              "    </tr>\n",
              "    <tr>\n",
              "      <th>...</th>\n",
              "      <td>...</td>\n",
              "      <td>...</td>\n",
              "      <td>...</td>\n",
              "    </tr>\n",
              "    <tr>\n",
              "      <th>245</th>\n",
              "      <td>The King's Speech</td>\n",
              "      <td>2010</td>\n",
              "      <td>8.0</td>\n",
              "    </tr>\n",
              "    <tr>\n",
              "      <th>246</th>\n",
              "      <td>The Avengers</td>\n",
              "      <td>2012</td>\n",
              "      <td>8.0</td>\n",
              "    </tr>\n",
              "    <tr>\n",
              "      <th>247</th>\n",
              "      <td>Lagaan: Once Upon a Time in India</td>\n",
              "      <td>2001</td>\n",
              "      <td>8.0</td>\n",
              "    </tr>\n",
              "    <tr>\n",
              "      <th>248</th>\n",
              "      <td>Beauty and the Beast</td>\n",
              "      <td>1991</td>\n",
              "      <td>8.0</td>\n",
              "    </tr>\n",
              "    <tr>\n",
              "      <th>249</th>\n",
              "      <td>Kumonosu-jô</td>\n",
              "      <td>1957</td>\n",
              "      <td>8.0</td>\n",
              "    </tr>\n",
              "  </tbody>\n",
              "</table>\n",
              "<p>250 rows × 3 columns</p>\n",
              "</div>"
            ],
            "text/plain": [
              "                                nombre  anho  calificacion\n",
              "0             The Shawshank Redemption  1994           9.2\n",
              "1                        The Godfather  1972           9.2\n",
              "2               The Godfather: Part II  1974           9.0\n",
              "3                      The Dark Knight  2008           8.9\n",
              "4                         12 Angry Men  1957           8.9\n",
              "..                                 ...   ...           ...\n",
              "245                  The King's Speech  2010           8.0\n",
              "246                       The Avengers  2012           8.0\n",
              "247  Lagaan: Once Upon a Time in India  2001           8.0\n",
              "248               Beauty and the Beast  1991           8.0\n",
              "249                        Kumonosu-jô  1957           8.0\n",
              "\n",
              "[250 rows x 3 columns]"
            ]
          },
          "metadata": {},
          "execution_count": 3
        }
      ]
    },
    {
      "cell_type": "markdown",
      "metadata": {
        "id": "ETAuRqPi5vxa"
      },
      "source": [
        "Para ejecutar consultas multi-lineas use el tag %%sql:"
      ]
    },
    {
      "cell_type": "code",
      "metadata": {
        "colab": {
          "base_uri": "https://localhost:8080/",
          "height": 436
        },
        "id": "LvtXc3xx50Cc",
        "outputId": "8516dc5d-47e6-4513-c914-4d73f599bb7f"
      },
      "source": [
        "%%sql\n",
        "SELECT * FROM \n",
        "pelicula;"
      ],
      "execution_count": null,
      "outputs": [
        {
          "output_type": "stream",
          "name": "stdout",
          "text": [
            " * postgresql+psycopg2://@/postgres\n"
          ]
        },
        {
          "output_type": "execute_result",
          "data": {
            "text/html": [
              "<div>\n",
              "<style scoped>\n",
              "    .dataframe tbody tr th:only-of-type {\n",
              "        vertical-align: middle;\n",
              "    }\n",
              "\n",
              "    .dataframe tbody tr th {\n",
              "        vertical-align: top;\n",
              "    }\n",
              "\n",
              "    .dataframe thead th {\n",
              "        text-align: right;\n",
              "    }\n",
              "</style>\n",
              "<table border=\"1\" class=\"dataframe\">\n",
              "  <thead>\n",
              "    <tr style=\"text-align: right;\">\n",
              "      <th></th>\n",
              "      <th>nombre</th>\n",
              "      <th>anho</th>\n",
              "      <th>calificacion</th>\n",
              "    </tr>\n",
              "  </thead>\n",
              "  <tbody>\n",
              "    <tr>\n",
              "      <th>0</th>\n",
              "      <td>The Shawshank Redemption</td>\n",
              "      <td>1994</td>\n",
              "      <td>9.2</td>\n",
              "    </tr>\n",
              "    <tr>\n",
              "      <th>1</th>\n",
              "      <td>The Godfather</td>\n",
              "      <td>1972</td>\n",
              "      <td>9.2</td>\n",
              "    </tr>\n",
              "    <tr>\n",
              "      <th>2</th>\n",
              "      <td>The Godfather: Part II</td>\n",
              "      <td>1974</td>\n",
              "      <td>9.0</td>\n",
              "    </tr>\n",
              "    <tr>\n",
              "      <th>3</th>\n",
              "      <td>The Dark Knight</td>\n",
              "      <td>2008</td>\n",
              "      <td>8.9</td>\n",
              "    </tr>\n",
              "    <tr>\n",
              "      <th>4</th>\n",
              "      <td>12 Angry Men</td>\n",
              "      <td>1957</td>\n",
              "      <td>8.9</td>\n",
              "    </tr>\n",
              "    <tr>\n",
              "      <th>...</th>\n",
              "      <td>...</td>\n",
              "      <td>...</td>\n",
              "      <td>...</td>\n",
              "    </tr>\n",
              "    <tr>\n",
              "      <th>245</th>\n",
              "      <td>The King's Speech</td>\n",
              "      <td>2010</td>\n",
              "      <td>8.0</td>\n",
              "    </tr>\n",
              "    <tr>\n",
              "      <th>246</th>\n",
              "      <td>The Avengers</td>\n",
              "      <td>2012</td>\n",
              "      <td>8.0</td>\n",
              "    </tr>\n",
              "    <tr>\n",
              "      <th>247</th>\n",
              "      <td>Lagaan: Once Upon a Time in India</td>\n",
              "      <td>2001</td>\n",
              "      <td>8.0</td>\n",
              "    </tr>\n",
              "    <tr>\n",
              "      <th>248</th>\n",
              "      <td>Beauty and the Beast</td>\n",
              "      <td>1991</td>\n",
              "      <td>8.0</td>\n",
              "    </tr>\n",
              "    <tr>\n",
              "      <th>249</th>\n",
              "      <td>Kumonosu-jô</td>\n",
              "      <td>1957</td>\n",
              "      <td>8.0</td>\n",
              "    </tr>\n",
              "  </tbody>\n",
              "</table>\n",
              "<p>250 rows × 3 columns</p>\n",
              "</div>"
            ],
            "text/plain": [
              "                                nombre  anho  calificacion\n",
              "0             The Shawshank Redemption  1994           9.2\n",
              "1                        The Godfather  1972           9.2\n",
              "2               The Godfather: Part II  1974           9.0\n",
              "3                      The Dark Knight  2008           8.9\n",
              "4                         12 Angry Men  1957           8.9\n",
              "..                                 ...   ...           ...\n",
              "245                  The King's Speech  2010           8.0\n",
              "246                       The Avengers  2012           8.0\n",
              "247  Lagaan: Once Upon a Time in India  2001           8.0\n",
              "248               Beauty and the Beast  1991           8.0\n",
              "249                        Kumonosu-jô  1957           8.0\n",
              "\n",
              "[250 rows x 3 columns]"
            ]
          },
          "metadata": {},
          "execution_count": 4
        }
      ]
    },
    {
      "cell_type": "markdown",
      "metadata": {
        "id": "3jebBz5VWWPr"
      },
      "source": [
        "Ahora, debe diseñar las consultas que resuelvan las siguientes preguntas usando los operadores vistos en clases.\n",
        "\n",
        "# SQL \n",
        "\n",
        "## Pregunta 1\n",
        "Las películas de los 80s, ordenadas por calificación de mayor a menor."
      ]
    },
    {
      "cell_type": "code",
      "metadata": {
        "colab": {
          "base_uri": "https://localhost:8080/",
          "height": 996
        },
        "id": "-dmw_2es6Lq-",
        "outputId": "85d8c52c-fe86-413f-e6a0-2edf44f5445a"
      },
      "source": [
        "%%sql\n",
        "SELECT * FROM pelicula\n",
        "WHERE anho BETWEEN 1980 AND 1989\n",
        "ORDER BY calificacion DESC;\n"
      ],
      "execution_count": null,
      "outputs": [
        {
          "output_type": "stream",
          "name": "stdout",
          "text": [
            " * postgresql+psycopg2://@/postgres\n"
          ]
        },
        {
          "output_type": "execute_result",
          "data": {
            "text/html": [
              "<div>\n",
              "<style scoped>\n",
              "    .dataframe tbody tr th:only-of-type {\n",
              "        vertical-align: middle;\n",
              "    }\n",
              "\n",
              "    .dataframe tbody tr th {\n",
              "        vertical-align: top;\n",
              "    }\n",
              "\n",
              "    .dataframe thead th {\n",
              "        text-align: right;\n",
              "    }\n",
              "</style>\n",
              "<table border=\"1\" class=\"dataframe\">\n",
              "  <thead>\n",
              "    <tr style=\"text-align: right;\">\n",
              "      <th></th>\n",
              "      <th>nombre</th>\n",
              "      <th>anho</th>\n",
              "      <th>calificacion</th>\n",
              "    </tr>\n",
              "  </thead>\n",
              "  <tbody>\n",
              "    <tr>\n",
              "      <th>0</th>\n",
              "      <td>Star Wars: Episode V - The Empire Strikes Back</td>\n",
              "      <td>1980</td>\n",
              "      <td>8.7</td>\n",
              "    </tr>\n",
              "    <tr>\n",
              "      <th>1</th>\n",
              "      <td>Raiders of the Lost Ark</td>\n",
              "      <td>1981</td>\n",
              "      <td>8.5</td>\n",
              "    </tr>\n",
              "    <tr>\n",
              "      <th>2</th>\n",
              "      <td>Back to the Future</td>\n",
              "      <td>1985</td>\n",
              "      <td>8.5</td>\n",
              "    </tr>\n",
              "    <tr>\n",
              "      <th>3</th>\n",
              "      <td>Nuovo Cinema Paradiso</td>\n",
              "      <td>1988</td>\n",
              "      <td>8.4</td>\n",
              "    </tr>\n",
              "    <tr>\n",
              "      <th>4</th>\n",
              "      <td>The Shining</td>\n",
              "      <td>1980</td>\n",
              "      <td>8.4</td>\n",
              "    </tr>\n",
              "    <tr>\n",
              "      <th>5</th>\n",
              "      <td>Hotaru no haka</td>\n",
              "      <td>1988</td>\n",
              "      <td>8.4</td>\n",
              "    </tr>\n",
              "    <tr>\n",
              "      <th>6</th>\n",
              "      <td>Aliens</td>\n",
              "      <td>1986</td>\n",
              "      <td>8.4</td>\n",
              "    </tr>\n",
              "    <tr>\n",
              "      <th>7</th>\n",
              "      <td>Once Upon a Time in America</td>\n",
              "      <td>1984</td>\n",
              "      <td>8.4</td>\n",
              "    </tr>\n",
              "    <tr>\n",
              "      <th>8</th>\n",
              "      <td>Das Boot</td>\n",
              "      <td>1981</td>\n",
              "      <td>8.3</td>\n",
              "    </tr>\n",
              "    <tr>\n",
              "      <th>9</th>\n",
              "      <td>Star Wars: Episode VI - Return of the Jedi</td>\n",
              "      <td>1983</td>\n",
              "      <td>8.3</td>\n",
              "    </tr>\n",
              "    <tr>\n",
              "      <th>10</th>\n",
              "      <td>Amadeus</td>\n",
              "      <td>1984</td>\n",
              "      <td>8.3</td>\n",
              "    </tr>\n",
              "    <tr>\n",
              "      <th>11</th>\n",
              "      <td>Full Metal Jacket</td>\n",
              "      <td>1987</td>\n",
              "      <td>8.3</td>\n",
              "    </tr>\n",
              "    <tr>\n",
              "      <th>12</th>\n",
              "      <td>Scarface</td>\n",
              "      <td>1983</td>\n",
              "      <td>8.3</td>\n",
              "    </tr>\n",
              "    <tr>\n",
              "      <th>13</th>\n",
              "      <td>Indiana Jones and the Last Crusade</td>\n",
              "      <td>1989</td>\n",
              "      <td>8.3</td>\n",
              "    </tr>\n",
              "    <tr>\n",
              "      <th>14</th>\n",
              "      <td>Raging Bull</td>\n",
              "      <td>1980</td>\n",
              "      <td>8.2</td>\n",
              "    </tr>\n",
              "    <tr>\n",
              "      <th>15</th>\n",
              "      <td>Die Hard</td>\n",
              "      <td>1988</td>\n",
              "      <td>8.2</td>\n",
              "    </tr>\n",
              "    <tr>\n",
              "      <th>16</th>\n",
              "      <td>Tonari no Totoro</td>\n",
              "      <td>1988</td>\n",
              "      <td>8.2</td>\n",
              "    </tr>\n",
              "    <tr>\n",
              "      <th>17</th>\n",
              "      <td>Ran</td>\n",
              "      <td>1985</td>\n",
              "      <td>8.2</td>\n",
              "    </tr>\n",
              "    <tr>\n",
              "      <th>18</th>\n",
              "      <td>Blade Runner</td>\n",
              "      <td>1982</td>\n",
              "      <td>8.2</td>\n",
              "    </tr>\n",
              "    <tr>\n",
              "      <th>19</th>\n",
              "      <td>The Elephant Man</td>\n",
              "      <td>1980</td>\n",
              "      <td>8.2</td>\n",
              "    </tr>\n",
              "    <tr>\n",
              "      <th>20</th>\n",
              "      <td>The Thing</td>\n",
              "      <td>1982</td>\n",
              "      <td>8.1</td>\n",
              "    </tr>\n",
              "    <tr>\n",
              "      <th>21</th>\n",
              "      <td>Idi i smotri</td>\n",
              "      <td>1985</td>\n",
              "      <td>8.1</td>\n",
              "    </tr>\n",
              "    <tr>\n",
              "      <th>22</th>\n",
              "      <td>Platoon</td>\n",
              "      <td>1986</td>\n",
              "      <td>8.1</td>\n",
              "    </tr>\n",
              "    <tr>\n",
              "      <th>23</th>\n",
              "      <td>Stand by Me</td>\n",
              "      <td>1986</td>\n",
              "      <td>8.1</td>\n",
              "    </tr>\n",
              "    <tr>\n",
              "      <th>24</th>\n",
              "      <td>The Princess Bride</td>\n",
              "      <td>1987</td>\n",
              "      <td>8.1</td>\n",
              "    </tr>\n",
              "    <tr>\n",
              "      <th>25</th>\n",
              "      <td>Kaze no tani no Naushika</td>\n",
              "      <td>1984</td>\n",
              "      <td>8.1</td>\n",
              "    </tr>\n",
              "    <tr>\n",
              "      <th>26</th>\n",
              "      <td>Gandhi</td>\n",
              "      <td>1982</td>\n",
              "      <td>8.0</td>\n",
              "    </tr>\n",
              "    <tr>\n",
              "      <th>27</th>\n",
              "      <td>The Terminator</td>\n",
              "      <td>1984</td>\n",
              "      <td>8.0</td>\n",
              "    </tr>\n",
              "    <tr>\n",
              "      <th>28</th>\n",
              "      <td>Tenkû no shiro Rapyuta</td>\n",
              "      <td>1986</td>\n",
              "      <td>8.0</td>\n",
              "    </tr>\n",
              "    <tr>\n",
              "      <th>29</th>\n",
              "      <td>Fanny och Alexander</td>\n",
              "      <td>1982</td>\n",
              "      <td>8.0</td>\n",
              "    </tr>\n",
              "  </tbody>\n",
              "</table>\n",
              "</div>"
            ],
            "text/plain": [
              "                                            nombre  anho  calificacion\n",
              "0   Star Wars: Episode V - The Empire Strikes Back  1980           8.7\n",
              "1                          Raiders of the Lost Ark  1981           8.5\n",
              "2                               Back to the Future  1985           8.5\n",
              "3                            Nuovo Cinema Paradiso  1988           8.4\n",
              "4                                      The Shining  1980           8.4\n",
              "5                                   Hotaru no haka  1988           8.4\n",
              "6                                           Aliens  1986           8.4\n",
              "7                      Once Upon a Time in America  1984           8.4\n",
              "8                                         Das Boot  1981           8.3\n",
              "9       Star Wars: Episode VI - Return of the Jedi  1983           8.3\n",
              "10                                         Amadeus  1984           8.3\n",
              "11                               Full Metal Jacket  1987           8.3\n",
              "12                                        Scarface  1983           8.3\n",
              "13              Indiana Jones and the Last Crusade  1989           8.3\n",
              "14                                     Raging Bull  1980           8.2\n",
              "15                                        Die Hard  1988           8.2\n",
              "16                                Tonari no Totoro  1988           8.2\n",
              "17                                             Ran  1985           8.2\n",
              "18                                    Blade Runner  1982           8.2\n",
              "19                                The Elephant Man  1980           8.2\n",
              "20                                       The Thing  1982           8.1\n",
              "21                                    Idi i smotri  1985           8.1\n",
              "22                                         Platoon  1986           8.1\n",
              "23                                     Stand by Me  1986           8.1\n",
              "24                              The Princess Bride  1987           8.1\n",
              "25                        Kaze no tani no Naushika  1984           8.1\n",
              "26                                          Gandhi  1982           8.0\n",
              "27                                  The Terminator  1984           8.0\n",
              "28                          Tenkû no shiro Rapyuta  1986           8.0\n",
              "29                             Fanny och Alexander  1982           8.0"
            ]
          },
          "metadata": {},
          "execution_count": 5
        }
      ]
    },
    {
      "cell_type": "markdown",
      "metadata": {
        "id": "bXx5ydBH6LDW"
      },
      "source": [
        "## Pregunta 2\n",
        "Los nombres de los personajes que ha interpretado su actriz/actor favorito en los datos, ordenados por año."
      ]
    },
    {
      "cell_type": "code",
      "metadata": {
        "id": "i7eXykyM6e7b",
        "colab": {
          "base_uri": "https://localhost:8080/",
          "height": 128
        },
        "outputId": "da53096d-d546-47b7-d448-c612d415689a"
      },
      "source": [
        "%%sql\n",
        "SELECT personaje FROM personaje\n",
        "WHERE a_nombre = 'Waltz, Christoph'\n",
        "ORDER BY p_anho;"
      ],
      "execution_count": null,
      "outputs": [
        {
          "output_type": "stream",
          "name": "stdout",
          "text": [
            " * postgresql+psycopg2://@/postgres\n"
          ]
        },
        {
          "output_type": "execute_result",
          "data": {
            "text/html": [
              "<div>\n",
              "<style scoped>\n",
              "    .dataframe tbody tr th:only-of-type {\n",
              "        vertical-align: middle;\n",
              "    }\n",
              "\n",
              "    .dataframe tbody tr th {\n",
              "        vertical-align: top;\n",
              "    }\n",
              "\n",
              "    .dataframe thead th {\n",
              "        text-align: right;\n",
              "    }\n",
              "</style>\n",
              "<table border=\"1\" class=\"dataframe\">\n",
              "  <thead>\n",
              "    <tr style=\"text-align: right;\">\n",
              "      <th></th>\n",
              "      <th>personaje</th>\n",
              "    </tr>\n",
              "  </thead>\n",
              "  <tbody>\n",
              "    <tr>\n",
              "      <th>0</th>\n",
              "      <td>Col. Hans Landa</td>\n",
              "    </tr>\n",
              "    <tr>\n",
              "      <th>1</th>\n",
              "      <td>Dr. King Schultz</td>\n",
              "    </tr>\n",
              "  </tbody>\n",
              "</table>\n",
              "</div>"
            ],
            "text/plain": [
              "          personaje\n",
              "0   Col. Hans Landa\n",
              "1  Dr. King Schultz"
            ]
          },
          "metadata": {},
          "execution_count": 6
        }
      ]
    },
    {
      "cell_type": "markdown",
      "metadata": {
        "id": "VBzPnV1u7MKd"
      },
      "source": [
        "# Pregunta 3\n",
        "Las películas en las que participó su actriz/actor favorito en los datos, ordenadas por calificación de mayor a menor."
      ]
    },
    {
      "cell_type": "code",
      "metadata": {
        "id": "A_NE2bZC7Mcj",
        "colab": {
          "base_uri": "https://localhost:8080/",
          "height": 128
        },
        "outputId": "e03d76e2-58d4-4829-8bea-e028ef38123a"
      },
      "source": [
        "%%sql\n",
        "SELECT p_nombre, p_anho, calificacion\n",
        "FROM pelicula P, personaje J\n",
        "WHERE P.nombre = p_nombre\n",
        "  AND P.anho = p_anho\n",
        "  AND a_nombre='Waltz, Christoph'\n",
        "  ORDER BY P.calificacion DESC;"
      ],
      "execution_count": null,
      "outputs": [
        {
          "output_type": "stream",
          "name": "stdout",
          "text": [
            " * postgresql+psycopg2://@/postgres\n"
          ]
        },
        {
          "output_type": "execute_result",
          "data": {
            "text/html": [
              "<div>\n",
              "<style scoped>\n",
              "    .dataframe tbody tr th:only-of-type {\n",
              "        vertical-align: middle;\n",
              "    }\n",
              "\n",
              "    .dataframe tbody tr th {\n",
              "        vertical-align: top;\n",
              "    }\n",
              "\n",
              "    .dataframe thead th {\n",
              "        text-align: right;\n",
              "    }\n",
              "</style>\n",
              "<table border=\"1\" class=\"dataframe\">\n",
              "  <thead>\n",
              "    <tr style=\"text-align: right;\">\n",
              "      <th></th>\n",
              "      <th>p_nombre</th>\n",
              "      <th>p_anho</th>\n",
              "      <th>calificacion</th>\n",
              "    </tr>\n",
              "  </thead>\n",
              "  <tbody>\n",
              "    <tr>\n",
              "      <th>0</th>\n",
              "      <td>Django Unchained</td>\n",
              "      <td>2012</td>\n",
              "      <td>8.4</td>\n",
              "    </tr>\n",
              "    <tr>\n",
              "      <th>1</th>\n",
              "      <td>Inglourious Basterds</td>\n",
              "      <td>2009</td>\n",
              "      <td>8.3</td>\n",
              "    </tr>\n",
              "  </tbody>\n",
              "</table>\n",
              "</div>"
            ],
            "text/plain": [
              "               p_nombre  p_anho  calificacion\n",
              "0      Django Unchained    2012           8.4\n",
              "1  Inglourious Basterds    2009           8.3"
            ]
          },
          "metadata": {},
          "execution_count": 7
        }
      ]
    },
    {
      "cell_type": "markdown",
      "metadata": {
        "id": "AHqOm3zw6fR2"
      },
      "source": [
        "## Pregunta 4\n",
        "Los nombres de los personajes interpretados por mujeres, en películas de los 90s, con calificación mayor a 8,7."
      ]
    },
    {
      "cell_type": "code",
      "metadata": {
        "id": "VXaANhCX6foK",
        "colab": {
          "base_uri": "https://localhost:8080/",
          "height": 436
        },
        "outputId": "de38afc1-8833-409e-b6ec-e0c38675bac1"
      },
      "source": [
        "%%sql\n",
        "SELECT personaje\n",
        "FROM pelicula P, actor A, personaje J\n",
        "WHERE a_nombre=A.nombre\n",
        "  AND P.nombre = p_nombre\n",
        "  AND P.anho = p_anho\n",
        "  AND p_anho > 1990 AND p_anho < 2000\n",
        "  AND P.calificacion > 8.7\n",
        "  AND A.genero = 'F';"
      ],
      "execution_count": null,
      "outputs": [
        {
          "output_type": "stream",
          "name": "stdout",
          "text": [
            " * postgresql+psycopg2://@/postgres\n"
          ]
        },
        {
          "output_type": "execute_result",
          "data": {
            "text/html": [
              "<div>\n",
              "<style scoped>\n",
              "    .dataframe tbody tr th:only-of-type {\n",
              "        vertical-align: middle;\n",
              "    }\n",
              "\n",
              "    .dataframe tbody tr th {\n",
              "        vertical-align: top;\n",
              "    }\n",
              "\n",
              "    .dataframe thead th {\n",
              "        text-align: right;\n",
              "    }\n",
              "</style>\n",
              "<table border=\"1\" class=\"dataframe\">\n",
              "  <thead>\n",
              "    <tr style=\"text-align: right;\">\n",
              "      <th></th>\n",
              "      <th>personaje</th>\n",
              "    </tr>\n",
              "  </thead>\n",
              "  <tbody>\n",
              "    <tr>\n",
              "      <th>0</th>\n",
              "      <td>Winston Wolfe's Girlfriend At Party</td>\n",
              "    </tr>\n",
              "    <tr>\n",
              "      <th>1</th>\n",
              "      <td>Fourth Man</td>\n",
              "    </tr>\n",
              "    <tr>\n",
              "      <th>2</th>\n",
              "      <td>Jody</td>\n",
              "    </tr>\n",
              "    <tr>\n",
              "      <th>3</th>\n",
              "      <td>Herself - Schindler Mourner</td>\n",
              "    </tr>\n",
              "    <tr>\n",
              "      <th>4</th>\n",
              "      <td>Ghetto Girl</td>\n",
              "    </tr>\n",
              "    <tr>\n",
              "      <th>...</th>\n",
              "      <td>...</td>\n",
              "    </tr>\n",
              "    <tr>\n",
              "      <th>79</th>\n",
              "      <td>Bonnie Dimmick</td>\n",
              "    </tr>\n",
              "    <tr>\n",
              "      <th>80</th>\n",
              "      <td>Brinnlitz Girl</td>\n",
              "    </tr>\n",
              "    <tr>\n",
              "      <th>81</th>\n",
              "      <td>Clara Sternberg</td>\n",
              "    </tr>\n",
              "    <tr>\n",
              "      <th>82</th>\n",
              "      <td>Plaszow Jewish Girl</td>\n",
              "    </tr>\n",
              "    <tr>\n",
              "      <th>83</th>\n",
              "      <td>Ghetto Woman</td>\n",
              "    </tr>\n",
              "  </tbody>\n",
              "</table>\n",
              "<p>84 rows × 1 columns</p>\n",
              "</div>"
            ],
            "text/plain": [
              "                              personaje\n",
              "0   Winston Wolfe's Girlfriend At Party\n",
              "1                            Fourth Man\n",
              "2                                  Jody\n",
              "3           Herself - Schindler Mourner\n",
              "4                           Ghetto Girl\n",
              "..                                  ...\n",
              "79                       Bonnie Dimmick\n",
              "80                       Brinnlitz Girl\n",
              "81                      Clara Sternberg\n",
              "82                  Plaszow Jewish Girl\n",
              "83                         Ghetto Woman\n",
              "\n",
              "[84 rows x 1 columns]"
            ]
          },
          "metadata": {},
          "execution_count": 8
        }
      ]
    },
    {
      "cell_type": "markdown",
      "metadata": {
        "id": "tXZVP8PZ6gF4"
      },
      "source": [
        "## Pregunta 5\n",
        "Las películas de la saga \"The Lord of The Rings\" (usando el prefijo de su nombre) ordenadas por calificación y por año."
      ]
    },
    {
      "cell_type": "code",
      "metadata": {
        "id": "0OssDcFm6gYJ",
        "colab": {
          "base_uri": "https://localhost:8080/",
          "height": 159
        },
        "outputId": "34c5e99d-01e9-4d30-b478-3b4a3d948833"
      },
      "source": [
        "%%sql\n",
        "SELECT * FROM pelicula\n",
        "WHERE nombre LIKE 'The Lord of the Rings%'\n",
        "ORDER BY calificacion, anho;"
      ],
      "execution_count": null,
      "outputs": [
        {
          "output_type": "stream",
          "name": "stdout",
          "text": [
            " * postgresql+psycopg2://@/postgres\n"
          ]
        },
        {
          "output_type": "execute_result",
          "data": {
            "text/html": [
              "<div>\n",
              "<style scoped>\n",
              "    .dataframe tbody tr th:only-of-type {\n",
              "        vertical-align: middle;\n",
              "    }\n",
              "\n",
              "    .dataframe tbody tr th {\n",
              "        vertical-align: top;\n",
              "    }\n",
              "\n",
              "    .dataframe thead th {\n",
              "        text-align: right;\n",
              "    }\n",
              "</style>\n",
              "<table border=\"1\" class=\"dataframe\">\n",
              "  <thead>\n",
              "    <tr style=\"text-align: right;\">\n",
              "      <th></th>\n",
              "      <th>nombre</th>\n",
              "      <th>anho</th>\n",
              "      <th>calificacion</th>\n",
              "    </tr>\n",
              "  </thead>\n",
              "  <tbody>\n",
              "    <tr>\n",
              "      <th>0</th>\n",
              "      <td>The Lord of the Rings: The Two Towers</td>\n",
              "      <td>2002</td>\n",
              "      <td>8.7</td>\n",
              "    </tr>\n",
              "    <tr>\n",
              "      <th>1</th>\n",
              "      <td>The Lord of the Rings: The Fellowship of the Ring</td>\n",
              "      <td>2001</td>\n",
              "      <td>8.8</td>\n",
              "    </tr>\n",
              "    <tr>\n",
              "      <th>2</th>\n",
              "      <td>The Lord of the Rings: The Return of the King</td>\n",
              "      <td>2003</td>\n",
              "      <td>8.9</td>\n",
              "    </tr>\n",
              "  </tbody>\n",
              "</table>\n",
              "</div>"
            ],
            "text/plain": [
              "                                              nombre  anho  calificacion\n",
              "0              The Lord of the Rings: The Two Towers  2002           8.7\n",
              "1  The Lord of the Rings: The Fellowship of the Ring  2001           8.8\n",
              "2      The Lord of the Rings: The Return of the King  2003           8.9"
            ]
          },
          "metadata": {},
          "execution_count": 9
        }
      ]
    },
    {
      "cell_type": "markdown",
      "metadata": {
        "id": "Nw-zj04q6glX"
      },
      "source": [
        "## Pregunta 6\n",
        "Los nombres de los actores que interpretan más de un personaje en la misma película."
      ]
    },
    {
      "cell_type": "code",
      "metadata": {
        "id": "WRWEHceB6g7h",
        "colab": {
          "base_uri": "https://localhost:8080/",
          "height": 436
        },
        "outputId": "01af49d8-b49d-4cb3-a11e-c1d848bd4725"
      },
      "source": [
        "%%sql\n",
        "SELECT DISTINCT P1.a_nombre\n",
        "FROM personaje P1, personaje P2\n",
        "WHERE P1.a_nombre = P2.a_nombre\n",
        "  AND P1.p_nombre = P2.p_nombre\n",
        "  AND P1.p_anho=P2.p_anho\n",
        "  AND P1.personaje <> P2.personaje;"
      ],
      "execution_count": null,
      "outputs": [
        {
          "output_type": "stream",
          "name": "stdout",
          "text": [
            " * postgresql+psycopg2://@/postgres\n"
          ]
        },
        {
          "output_type": "execute_result",
          "data": {
            "text/html": [
              "<div>\n",
              "<style scoped>\n",
              "    .dataframe tbody tr th:only-of-type {\n",
              "        vertical-align: middle;\n",
              "    }\n",
              "\n",
              "    .dataframe tbody tr th {\n",
              "        vertical-align: top;\n",
              "    }\n",
              "\n",
              "    .dataframe thead th {\n",
              "        text-align: right;\n",
              "    }\n",
              "</style>\n",
              "<table border=\"1\" class=\"dataframe\">\n",
              "  <thead>\n",
              "    <tr style=\"text-align: right;\">\n",
              "      <th></th>\n",
              "      <th>a_nombre</th>\n",
              "    </tr>\n",
              "  </thead>\n",
              "  <tbody>\n",
              "    <tr>\n",
              "      <th>0</th>\n",
              "      <td>Abbott, Frankie</td>\n",
              "    </tr>\n",
              "    <tr>\n",
              "      <th>1</th>\n",
              "      <td>Abbou, Bernard</td>\n",
              "    </tr>\n",
              "    <tr>\n",
              "      <th>2</th>\n",
              "      <td>Adán, Pablo</td>\n",
              "    </tr>\n",
              "    <tr>\n",
              "      <th>3</th>\n",
              "      <td>Alazraqui, Carlos</td>\n",
              "    </tr>\n",
              "    <tr>\n",
              "      <th>4</th>\n",
              "      <td>Albertson, Jeff</td>\n",
              "    </tr>\n",
              "    <tr>\n",
              "      <th>...</th>\n",
              "      <td>...</td>\n",
              "    </tr>\n",
              "    <tr>\n",
              "      <th>321</th>\n",
              "      <td>Wisher Jr., William</td>\n",
              "    </tr>\n",
              "    <tr>\n",
              "      <th>322</th>\n",
              "      <td>Worsham, John</td>\n",
              "    </tr>\n",
              "    <tr>\n",
              "      <th>323</th>\n",
              "      <td>Yee, Mitchell (I)</td>\n",
              "    </tr>\n",
              "    <tr>\n",
              "      <th>324</th>\n",
              "      <td>Yoshida, Rihoko</td>\n",
              "    </tr>\n",
              "    <tr>\n",
              "      <th>325</th>\n",
              "      <td>Young, John (I)</td>\n",
              "    </tr>\n",
              "  </tbody>\n",
              "</table>\n",
              "<p>326 rows × 1 columns</p>\n",
              "</div>"
            ],
            "text/plain": [
              "                a_nombre\n",
              "0        Abbott, Frankie\n",
              "1         Abbou, Bernard\n",
              "2            Adán, Pablo\n",
              "3      Alazraqui, Carlos\n",
              "4        Albertson, Jeff\n",
              "..                   ...\n",
              "321  Wisher Jr., William\n",
              "322        Worsham, John\n",
              "323    Yee, Mitchell (I)\n",
              "324      Yoshida, Rihoko\n",
              "325      Young, John (I)\n",
              "\n",
              "[326 rows x 1 columns]"
            ]
          },
          "metadata": {},
          "execution_count": 10
        }
      ]
    },
    {
      "cell_type": "markdown",
      "metadata": {
        "id": "S_ENc-C36iNZ"
      },
      "source": [
        "## Pregunta 7\n",
        "Las películas en que actúan juntos Uma Thurman y Samuel L. Jackson."
      ]
    },
    {
      "cell_type": "code",
      "metadata": {
        "id": "myoT76rT6igC",
        "colab": {
          "base_uri": "https://localhost:8080/",
          "height": 97
        },
        "outputId": "ed78f126-bd3c-4f0d-edbc-b9275bfeffeb"
      },
      "source": [
        "%%sql\n",
        "SELECT p_nombre, p_anho FROM personaje\n",
        "WHERE a_nombre='Thurman, Uma'\n",
        "INTERSECT\n",
        "SELECT p_nombre, p_anho FROM personaje\n",
        "WHERE a_nombre='Jackson, Samuel L.';"
      ],
      "execution_count": null,
      "outputs": [
        {
          "output_type": "stream",
          "name": "stdout",
          "text": [
            " * postgresql+psycopg2://@/postgres\n"
          ]
        },
        {
          "output_type": "execute_result",
          "data": {
            "text/html": [
              "<div>\n",
              "<style scoped>\n",
              "    .dataframe tbody tr th:only-of-type {\n",
              "        vertical-align: middle;\n",
              "    }\n",
              "\n",
              "    .dataframe tbody tr th {\n",
              "        vertical-align: top;\n",
              "    }\n",
              "\n",
              "    .dataframe thead th {\n",
              "        text-align: right;\n",
              "    }\n",
              "</style>\n",
              "<table border=\"1\" class=\"dataframe\">\n",
              "  <thead>\n",
              "    <tr style=\"text-align: right;\">\n",
              "      <th></th>\n",
              "      <th>p_nombre</th>\n",
              "      <th>p_anho</th>\n",
              "    </tr>\n",
              "  </thead>\n",
              "  <tbody>\n",
              "    <tr>\n",
              "      <th>0</th>\n",
              "      <td>Pulp Fiction</td>\n",
              "      <td>1994</td>\n",
              "    </tr>\n",
              "  </tbody>\n",
              "</table>\n",
              "</div>"
            ],
            "text/plain": [
              "       p_nombre  p_anho\n",
              "0  Pulp Fiction    1994"
            ]
          },
          "metadata": {},
          "execution_count": 11
        }
      ]
    },
    {
      "cell_type": "markdown",
      "metadata": {
        "id": "I1Y2G_UC6i69"
      },
      "source": [
        "## Pregunta 8\n",
        "Las películas en que actúa Uma Thurman y **no** Samuel L. Jackson."
      ]
    },
    {
      "cell_type": "code",
      "metadata": {
        "id": "Lmi0vKF-6jPr",
        "colab": {
          "base_uri": "https://localhost:8080/",
          "height": 128
        },
        "outputId": "3d53666e-e59c-4df3-a758-e4ac5d8ab44d"
      },
      "source": [
        "%%sql\n",
        "SELECT p_nombre, p_anho FROM personaje\n",
        "WHERE a_nombre='Thurman, Uma'\n",
        "EXCEPT\n",
        "SELECT p_nombre, p_anho FROM personaje\n",
        "WHERE a_nombre='Jackson, Samuel L.';"
      ],
      "execution_count": null,
      "outputs": [
        {
          "output_type": "stream",
          "name": "stdout",
          "text": [
            " * postgresql+psycopg2://@/postgres\n"
          ]
        },
        {
          "output_type": "execute_result",
          "data": {
            "text/html": [
              "<div>\n",
              "<style scoped>\n",
              "    .dataframe tbody tr th:only-of-type {\n",
              "        vertical-align: middle;\n",
              "    }\n",
              "\n",
              "    .dataframe tbody tr th {\n",
              "        vertical-align: top;\n",
              "    }\n",
              "\n",
              "    .dataframe thead th {\n",
              "        text-align: right;\n",
              "    }\n",
              "</style>\n",
              "<table border=\"1\" class=\"dataframe\">\n",
              "  <thead>\n",
              "    <tr style=\"text-align: right;\">\n",
              "      <th></th>\n",
              "      <th>p_nombre</th>\n",
              "      <th>p_anho</th>\n",
              "    </tr>\n",
              "  </thead>\n",
              "  <tbody>\n",
              "    <tr>\n",
              "      <th>0</th>\n",
              "      <td>Kaze no tani no Naushika</td>\n",
              "      <td>1984</td>\n",
              "    </tr>\n",
              "    <tr>\n",
              "      <th>1</th>\n",
              "      <td>Kill Bill: Vol. 1</td>\n",
              "      <td>2003</td>\n",
              "    </tr>\n",
              "  </tbody>\n",
              "</table>\n",
              "</div>"
            ],
            "text/plain": [
              "                   p_nombre  p_anho\n",
              "0  Kaze no tani no Naushika    1984\n",
              "1         Kill Bill: Vol. 1    2003"
            ]
          },
          "metadata": {},
          "execution_count": 12
        }
      ]
    },
    {
      "cell_type": "markdown",
      "metadata": {
        "id": "v1dev-7A6jpV"
      },
      "source": [
        "## Pregunta 9\n",
        "Los pares de actores que aparecen juntos en más de una película. Cada par debe aparecer una sola vez, es decir, si $(A,B)$ aparece, no debe aparecer $(B,A)$, pues es el mismo par. Tampoco se deben incluir pares de la forma $(A,A)$."
      ]
    },
    {
      "cell_type": "code",
      "metadata": {
        "id": "4qPtyZBU6j7z",
        "colab": {
          "base_uri": "https://localhost:8080/",
          "height": 436
        },
        "outputId": "e2588a2b-03f1-4a65-b954-486df82266a9"
      },
      "source": [
        "%%sql\n",
        "SELECT DISTINCT p1.a_nombre,p2.a_nombre\n",
        "FROM personaje p1,personaje p2,personaje p3,personaje p4\n",
        "WHERE p1.p_nombre = p2.p_nombre\n",
        "  AND p1.a_nombre < p2.a_nombre\n",
        "  AND p3.p_nombre = p4.p_nombre\n",
        "  AND p1.a_nombre = p3.a_nombre\n",
        "  AND p2.a_nombre = p4.a_nombre\n",
        "  AND p1.p_nombre <> p3.p_nombre;"
      ],
      "execution_count": null,
      "outputs": [
        {
          "output_type": "stream",
          "name": "stdout",
          "text": [
            " * postgresql+psycopg2://@/postgres\n"
          ]
        },
        {
          "output_type": "execute_result",
          "data": {
            "text/html": [
              "<div>\n",
              "<style scoped>\n",
              "    .dataframe tbody tr th:only-of-type {\n",
              "        vertical-align: middle;\n",
              "    }\n",
              "\n",
              "    .dataframe tbody tr th {\n",
              "        vertical-align: top;\n",
              "    }\n",
              "\n",
              "    .dataframe thead th {\n",
              "        text-align: right;\n",
              "    }\n",
              "</style>\n",
              "<table border=\"1\" class=\"dataframe\">\n",
              "  <thead>\n",
              "    <tr style=\"text-align: right;\">\n",
              "      <th></th>\n",
              "      <th>a_nombre</th>\n",
              "      <th>a_nombre</th>\n",
              "    </tr>\n",
              "  </thead>\n",
              "  <tbody>\n",
              "    <tr>\n",
              "      <th>0</th>\n",
              "      <td>Abbink, Marc</td>\n",
              "      <td>McCabe, Orion</td>\n",
              "    </tr>\n",
              "    <tr>\n",
              "      <th>1</th>\n",
              "      <td>Acevedo, Gino (I)</td>\n",
              "      <td>Appleby, Noel</td>\n",
              "    </tr>\n",
              "    <tr>\n",
              "      <th>2</th>\n",
              "      <td>Acevedo, Gino (I)</td>\n",
              "      <td>Astin, Sean</td>\n",
              "    </tr>\n",
              "    <tr>\n",
              "      <th>3</th>\n",
              "      <td>Acevedo, Gino (I)</td>\n",
              "      <td>Baker, Sala</td>\n",
              "    </tr>\n",
              "    <tr>\n",
              "      <th>4</th>\n",
              "      <td>Acevedo, Gino (I)</td>\n",
              "      <td>Bean, Sean</td>\n",
              "    </tr>\n",
              "    <tr>\n",
              "      <th>...</th>\n",
              "      <td>...</td>\n",
              "      <td>...</td>\n",
              "    </tr>\n",
              "    <tr>\n",
              "      <th>5515</th>\n",
              "      <td>Weaving, Hugo</td>\n",
              "      <td>Wood, Elijah (I)</td>\n",
              "    </tr>\n",
              "    <tr>\n",
              "      <th>5516</th>\n",
              "      <td>Wenham, David</td>\n",
              "      <td>Wood, Elijah (I)</td>\n",
              "    </tr>\n",
              "    <tr>\n",
              "      <th>5517</th>\n",
              "      <td>White, Dan (I)</td>\n",
              "      <td>Wilkerson, Guy</td>\n",
              "    </tr>\n",
              "    <tr>\n",
              "      <th>5518</th>\n",
              "      <td>Williams, Robert (I)</td>\n",
              "      <td>Wood, Wilson</td>\n",
              "    </tr>\n",
              "    <tr>\n",
              "      <th>5519</th>\n",
              "      <td>Wyler, Catherine (I)</td>\n",
              "      <td>Wyler, Judy</td>\n",
              "    </tr>\n",
              "  </tbody>\n",
              "</table>\n",
              "<p>5520 rows × 2 columns</p>\n",
              "</div>"
            ],
            "text/plain": [
              "                  a_nombre          a_nombre\n",
              "0             Abbink, Marc     McCabe, Orion\n",
              "1        Acevedo, Gino (I)     Appleby, Noel\n",
              "2        Acevedo, Gino (I)       Astin, Sean\n",
              "3        Acevedo, Gino (I)       Baker, Sala\n",
              "4        Acevedo, Gino (I)        Bean, Sean\n",
              "...                    ...               ...\n",
              "5515         Weaving, Hugo  Wood, Elijah (I)\n",
              "5516         Wenham, David  Wood, Elijah (I)\n",
              "5517        White, Dan (I)    Wilkerson, Guy\n",
              "5518  Williams, Robert (I)      Wood, Wilson\n",
              "5519  Wyler, Catherine (I)       Wyler, Judy\n",
              "\n",
              "[5520 rows x 2 columns]"
            ]
          },
          "metadata": {},
          "execution_count": 13
        }
      ]
    },
    {
      "cell_type": "markdown",
      "metadata": {
        "id": "xPxloTWK6kOb"
      },
      "source": [
        "## Pregunta 10\n",
        "La película con calificación más alta."
      ]
    },
    {
      "cell_type": "code",
      "metadata": {
        "id": "Xuvi8hCO6kpU",
        "colab": {
          "base_uri": "https://localhost:8080/",
          "height": 128
        },
        "outputId": "2354eeb5-b42a-47e5-8daa-84060960c0ce"
      },
      "source": [
        "%%sql \n",
        "SELECT nombre, anho FROM pelicula\n",
        "EXCEPT\n",
        "SELECT p1.nombre, p1.anho\n",
        "FROM pelicula p1, pelicula p2\n",
        "WHERE p1.calificacion < p2.calificacion;"
      ],
      "execution_count": null,
      "outputs": [
        {
          "output_type": "stream",
          "name": "stdout",
          "text": [
            " * postgresql+psycopg2://@/postgres\n"
          ]
        },
        {
          "output_type": "execute_result",
          "data": {
            "text/html": [
              "<div>\n",
              "<style scoped>\n",
              "    .dataframe tbody tr th:only-of-type {\n",
              "        vertical-align: middle;\n",
              "    }\n",
              "\n",
              "    .dataframe tbody tr th {\n",
              "        vertical-align: top;\n",
              "    }\n",
              "\n",
              "    .dataframe thead th {\n",
              "        text-align: right;\n",
              "    }\n",
              "</style>\n",
              "<table border=\"1\" class=\"dataframe\">\n",
              "  <thead>\n",
              "    <tr style=\"text-align: right;\">\n",
              "      <th></th>\n",
              "      <th>nombre</th>\n",
              "      <th>anho</th>\n",
              "    </tr>\n",
              "  </thead>\n",
              "  <tbody>\n",
              "    <tr>\n",
              "      <th>0</th>\n",
              "      <td>The Shawshank Redemption</td>\n",
              "      <td>1994</td>\n",
              "    </tr>\n",
              "    <tr>\n",
              "      <th>1</th>\n",
              "      <td>The Godfather</td>\n",
              "      <td>1972</td>\n",
              "    </tr>\n",
              "  </tbody>\n",
              "</table>\n",
              "</div>"
            ],
            "text/plain": [
              "                     nombre  anho\n",
              "0  The Shawshank Redemption  1994\n",
              "1             The Godfather  1972"
            ]
          },
          "metadata": {},
          "execution_count": 14
        }
      ]
    },
    {
      "cell_type": "markdown",
      "metadata": {
        "id": "EZxBPkTgreSP"
      },
      "source": [
        "# SQL Avanzado\n",
        "\n",
        "## Pregunta 1\n",
        "La cantidad de películas"
      ]
    },
    {
      "cell_type": "code",
      "metadata": {
        "colab": {
          "base_uri": "https://localhost:8080/",
          "height": 97
        },
        "id": "ryvA4xMMsH_S",
        "outputId": "1e252e66-7d95-41c8-d4be-553505f9980a"
      },
      "source": [
        "%%sql\n",
        "SELECT COUNT(*) AS conteo \n",
        "FROM pelicula;"
      ],
      "execution_count": null,
      "outputs": [
        {
          "output_type": "stream",
          "name": "stdout",
          "text": [
            " * postgresql+psycopg2://@/postgres\n"
          ]
        },
        {
          "output_type": "execute_result",
          "data": {
            "text/html": [
              "<div>\n",
              "<style scoped>\n",
              "    .dataframe tbody tr th:only-of-type {\n",
              "        vertical-align: middle;\n",
              "    }\n",
              "\n",
              "    .dataframe tbody tr th {\n",
              "        vertical-align: top;\n",
              "    }\n",
              "\n",
              "    .dataframe thead th {\n",
              "        text-align: right;\n",
              "    }\n",
              "</style>\n",
              "<table border=\"1\" class=\"dataframe\">\n",
              "  <thead>\n",
              "    <tr style=\"text-align: right;\">\n",
              "      <th></th>\n",
              "      <th>conteo</th>\n",
              "    </tr>\n",
              "  </thead>\n",
              "  <tbody>\n",
              "    <tr>\n",
              "      <th>0</th>\n",
              "      <td>250</td>\n",
              "    </tr>\n",
              "  </tbody>\n",
              "</table>\n",
              "</div>"
            ],
            "text/plain": [
              "   conteo\n",
              "0     250"
            ]
          },
          "metadata": {},
          "execution_count": 16
        }
      ]
    },
    {
      "cell_type": "markdown",
      "metadata": {
        "id": "4IR-ZsW5tNrD"
      },
      "source": [
        "##Pregunta 2\n",
        "La cantidad de años distintos de estreno de las películas"
      ]
    },
    {
      "cell_type": "code",
      "metadata": {
        "colab": {
          "base_uri": "https://localhost:8080/",
          "height": 97
        },
        "id": "tfVEai2wtOhq",
        "outputId": "0bde4b1d-fad9-4550-8676-502c3609be7a"
      },
      "source": [
        "%%sql\n",
        "SELECT COUNT(DISTINCT anho) AS conteo \n",
        "FROM pelicula;"
      ],
      "execution_count": null,
      "outputs": [
        {
          "output_type": "stream",
          "name": "stdout",
          "text": [
            " * postgresql+psycopg2://@/postgres\n"
          ]
        },
        {
          "output_type": "execute_result",
          "data": {
            "text/html": [
              "<div>\n",
              "<style scoped>\n",
              "    .dataframe tbody tr th:only-of-type {\n",
              "        vertical-align: middle;\n",
              "    }\n",
              "\n",
              "    .dataframe tbody tr th {\n",
              "        vertical-align: top;\n",
              "    }\n",
              "\n",
              "    .dataframe thead th {\n",
              "        text-align: right;\n",
              "    }\n",
              "</style>\n",
              "<table border=\"1\" class=\"dataframe\">\n",
              "  <thead>\n",
              "    <tr style=\"text-align: right;\">\n",
              "      <th></th>\n",
              "      <th>conteo</th>\n",
              "    </tr>\n",
              "  </thead>\n",
              "  <tbody>\n",
              "    <tr>\n",
              "      <th>0</th>\n",
              "      <td>81</td>\n",
              "    </tr>\n",
              "  </tbody>\n",
              "</table>\n",
              "</div>"
            ],
            "text/plain": [
              "   conteo\n",
              "0      81"
            ]
          },
          "metadata": {},
          "execution_count": 17
        }
      ]
    },
    {
      "cell_type": "markdown",
      "metadata": {
        "id": "RESea3mFtO1j"
      },
      "source": [
        "##Pregunta 3\n",
        "Los nombres, años y calificaciones de las 10 películas mejor calificadas, ordenadas por calificación descendente, luego por nombre ascendente y luego por año ascendente (solo hay que devolver 10 tuplas, incluso si hay empates de calificación)."
      ]
    },
    {
      "cell_type": "code",
      "metadata": {
        "colab": {
          "base_uri": "https://localhost:8080/",
          "height": 376
        },
        "id": "uvH4efsHtPLZ",
        "outputId": "48278fa6-1114-4603-9ece-9c004d2284ef"
      },
      "source": [
        "%%sql\n",
        "SELECT nombre, anho, calificacion \n",
        "FROM pelicula \n",
        "ORDER BY calificacion DESC, nombre, anho \n",
        "LIMIT 10;"
      ],
      "execution_count": null,
      "outputs": [
        {
          "output_type": "stream",
          "name": "stdout",
          "text": [
            " * postgresql+psycopg2://@/postgres\n"
          ]
        },
        {
          "output_type": "execute_result",
          "data": {
            "text/html": [
              "<div>\n",
              "<style scoped>\n",
              "    .dataframe tbody tr th:only-of-type {\n",
              "        vertical-align: middle;\n",
              "    }\n",
              "\n",
              "    .dataframe tbody tr th {\n",
              "        vertical-align: top;\n",
              "    }\n",
              "\n",
              "    .dataframe thead th {\n",
              "        text-align: right;\n",
              "    }\n",
              "</style>\n",
              "<table border=\"1\" class=\"dataframe\">\n",
              "  <thead>\n",
              "    <tr style=\"text-align: right;\">\n",
              "      <th></th>\n",
              "      <th>nombre</th>\n",
              "      <th>anho</th>\n",
              "      <th>calificacion</th>\n",
              "    </tr>\n",
              "  </thead>\n",
              "  <tbody>\n",
              "    <tr>\n",
              "      <th>0</th>\n",
              "      <td>The Godfather</td>\n",
              "      <td>1972</td>\n",
              "      <td>9.2</td>\n",
              "    </tr>\n",
              "    <tr>\n",
              "      <th>1</th>\n",
              "      <td>The Shawshank Redemption</td>\n",
              "      <td>1994</td>\n",
              "      <td>9.2</td>\n",
              "    </tr>\n",
              "    <tr>\n",
              "      <th>2</th>\n",
              "      <td>The Godfather: Part II</td>\n",
              "      <td>1974</td>\n",
              "      <td>9.0</td>\n",
              "    </tr>\n",
              "    <tr>\n",
              "      <th>3</th>\n",
              "      <td>12 Angry Men</td>\n",
              "      <td>1957</td>\n",
              "      <td>8.9</td>\n",
              "    </tr>\n",
              "    <tr>\n",
              "      <th>4</th>\n",
              "      <td>Il buono, il brutto, il cattivo</td>\n",
              "      <td>1966</td>\n",
              "      <td>8.9</td>\n",
              "    </tr>\n",
              "    <tr>\n",
              "      <th>5</th>\n",
              "      <td>Pulp Fiction</td>\n",
              "      <td>1994</td>\n",
              "      <td>8.9</td>\n",
              "    </tr>\n",
              "    <tr>\n",
              "      <th>6</th>\n",
              "      <td>Schindler's List</td>\n",
              "      <td>1993</td>\n",
              "      <td>8.9</td>\n",
              "    </tr>\n",
              "    <tr>\n",
              "      <th>7</th>\n",
              "      <td>The Dark Knight</td>\n",
              "      <td>2008</td>\n",
              "      <td>8.9</td>\n",
              "    </tr>\n",
              "    <tr>\n",
              "      <th>8</th>\n",
              "      <td>The Lord of the Rings: The Return of the King</td>\n",
              "      <td>2003</td>\n",
              "      <td>8.9</td>\n",
              "    </tr>\n",
              "    <tr>\n",
              "      <th>9</th>\n",
              "      <td>Fight Club</td>\n",
              "      <td>1999</td>\n",
              "      <td>8.8</td>\n",
              "    </tr>\n",
              "  </tbody>\n",
              "</table>\n",
              "</div>"
            ],
            "text/plain": [
              "                                          nombre  anho  calificacion\n",
              "0                                  The Godfather  1972           9.2\n",
              "1                       The Shawshank Redemption  1994           9.2\n",
              "2                         The Godfather: Part II  1974           9.0\n",
              "3                                   12 Angry Men  1957           8.9\n",
              "4                Il buono, il brutto, il cattivo  1966           8.9\n",
              "5                                   Pulp Fiction  1994           8.9\n",
              "6                               Schindler's List  1993           8.9\n",
              "7                                The Dark Knight  2008           8.9\n",
              "8  The Lord of the Rings: The Return of the King  2003           8.9\n",
              "9                                     Fight Club  1999           8.8"
            ]
          },
          "metadata": {},
          "execution_count": 18
        }
      ]
    },
    {
      "cell_type": "markdown",
      "metadata": {
        "id": "E5FBzLQNtPot"
      },
      "source": [
        "##Pregunta 4\n",
        "Los nombres de los actores y las actrices que aparecen en las películas de la Pregunta 3. Cada actor/actriz solo debe aparecer en los resultados una vez.\n"
      ]
    },
    {
      "cell_type": "code",
      "metadata": {
        "colab": {
          "base_uri": "https://localhost:8080/",
          "height": 436
        },
        "id": "FuUKejSatP-A",
        "outputId": "2aa86233-6fbc-477e-b73a-e4c1bfe9f247"
      },
      "source": [
        "%%sql\n",
        "SELECT DISTINCT a_nombre \n",
        "FROM personaje\n",
        "  WHERE (p_nombre,p_anho) IN (\n",
        "    SELECT nombre, anho \n",
        "    FROM pelicula \n",
        "    ORDER BY calificacion DESC, nombre, anho \n",
        "    LIMIT 10 \n",
        "  );"
      ],
      "execution_count": null,
      "outputs": [
        {
          "output_type": "stream",
          "name": "stdout",
          "text": [
            " * postgresql+psycopg2://@/postgres\n"
          ]
        },
        {
          "output_type": "execute_result",
          "data": {
            "text/html": [
              "<div>\n",
              "<style scoped>\n",
              "    .dataframe tbody tr th:only-of-type {\n",
              "        vertical-align: middle;\n",
              "    }\n",
              "\n",
              "    .dataframe tbody tr th {\n",
              "        vertical-align: top;\n",
              "    }\n",
              "\n",
              "    .dataframe thead th {\n",
              "        text-align: right;\n",
              "    }\n",
              "</style>\n",
              "<table border=\"1\" class=\"dataframe\">\n",
              "  <thead>\n",
              "    <tr style=\"text-align: right;\">\n",
              "      <th></th>\n",
              "      <th>a_nombre</th>\n",
              "    </tr>\n",
              "  </thead>\n",
              "  <tbody>\n",
              "    <tr>\n",
              "      <th>0</th>\n",
              "      <td>Abbott, Jane (II)</td>\n",
              "    </tr>\n",
              "    <tr>\n",
              "      <th>1</th>\n",
              "      <td>Acevedo, Gino (I)</td>\n",
              "    </tr>\n",
              "    <tr>\n",
              "      <th>2</th>\n",
              "      <td>Aiello, Danny</td>\n",
              "    </tr>\n",
              "    <tr>\n",
              "      <th>3</th>\n",
              "      <td>Ajala, David</td>\n",
              "    </tr>\n",
              "    <tr>\n",
              "      <th>4</th>\n",
              "      <td>Alagich, Richard</td>\n",
              "    </tr>\n",
              "    <tr>\n",
              "      <th>...</th>\n",
              "      <td>...</td>\n",
              "    </tr>\n",
              "    <tr>\n",
              "      <th>867</th>\n",
              "      <td>Zahir, Essa</td>\n",
              "    </tr>\n",
              "    <tr>\n",
              "      <th>868</th>\n",
              "      <td>Zahrn, Will</td>\n",
              "    </tr>\n",
              "    <tr>\n",
              "      <th>869</th>\n",
              "      <td>Zaideman, Kevin</td>\n",
              "    </tr>\n",
              "    <tr>\n",
              "      <th>870</th>\n",
              "      <td>Ziehm, Rainer</td>\n",
              "    </tr>\n",
              "    <tr>\n",
              "      <th>871</th>\n",
              "      <td>Zinn, Donald</td>\n",
              "    </tr>\n",
              "  </tbody>\n",
              "</table>\n",
              "<p>872 rows × 1 columns</p>\n",
              "</div>"
            ],
            "text/plain": [
              "              a_nombre\n",
              "0    Abbott, Jane (II)\n",
              "1    Acevedo, Gino (I)\n",
              "2        Aiello, Danny\n",
              "3         Ajala, David\n",
              "4     Alagich, Richard\n",
              "..                 ...\n",
              "867        Zahir, Essa\n",
              "868        Zahrn, Will\n",
              "869    Zaideman, Kevin\n",
              "870      Ziehm, Rainer\n",
              "871       Zinn, Donald\n",
              "\n",
              "[872 rows x 1 columns]"
            ]
          },
          "metadata": {},
          "execution_count": 20
        }
      ]
    },
    {
      "cell_type": "markdown",
      "metadata": {
        "id": "FfJiq0kKtQYY"
      },
      "source": [
        "##Pregunta 5\n",
        "Los nombres de solo las actrices de las películas de la Pregunta 4. Cada actriz debe aparecer en los resultados solo una vez. "
      ]
    },
    {
      "cell_type": "code",
      "metadata": {
        "colab": {
          "base_uri": "https://localhost:8080/",
          "height": 436
        },
        "id": "lLphEz1UtQuj",
        "outputId": "0fd4ef38-cfd1-4854-afda-6d9ce73d439e"
      },
      "source": [
        "%%sql\n",
        "SELECT DISTINCT a_nombre FROM personaje\n",
        "  WHERE (p_nombre,p_anho) IN (\n",
        "    SELECT nombre,anho \n",
        "    FROM pelicula \n",
        "    ORDER BY calificacion DESC, nombre, anho \n",
        "    LIMIT 10 \n",
        "  ) AND a_nombre IN (\n",
        "\tSELECT nombre \n",
        "\tFROM actor \n",
        "\tWHERE genero='F'\n",
        "  );"
      ],
      "execution_count": null,
      "outputs": [
        {
          "output_type": "stream",
          "name": "stdout",
          "text": [
            " * postgresql+psycopg2://@/postgres\n"
          ]
        },
        {
          "output_type": "execute_result",
          "data": {
            "text/html": [
              "<div>\n",
              "<style scoped>\n",
              "    .dataframe tbody tr th:only-of-type {\n",
              "        vertical-align: middle;\n",
              "    }\n",
              "\n",
              "    .dataframe tbody tr th {\n",
              "        vertical-align: top;\n",
              "    }\n",
              "\n",
              "    .dataframe thead th {\n",
              "        text-align: right;\n",
              "    }\n",
              "</style>\n",
              "<table border=\"1\" class=\"dataframe\">\n",
              "  <thead>\n",
              "    <tr style=\"text-align: right;\">\n",
              "      <th></th>\n",
              "      <th>a_nombre</th>\n",
              "    </tr>\n",
              "  </thead>\n",
              "  <tbody>\n",
              "    <tr>\n",
              "      <th>0</th>\n",
              "      <td>Abbott, Jane (II)</td>\n",
              "    </tr>\n",
              "    <tr>\n",
              "      <th>1</th>\n",
              "      <td>Aldaz, Tracy L.</td>\n",
              "    </tr>\n",
              "    <tr>\n",
              "      <th>2</th>\n",
              "      <td>Allman, Cie</td>\n",
              "    </tr>\n",
              "    <tr>\n",
              "      <th>3</th>\n",
              "      <td>Alonso, Chelo</td>\n",
              "    </tr>\n",
              "    <tr>\n",
              "      <th>4</th>\n",
              "      <td>Arquette, Alexis</td>\n",
              "    </tr>\n",
              "    <tr>\n",
              "      <th>...</th>\n",
              "      <td>...</td>\n",
              "    </tr>\n",
              "    <tr>\n",
              "      <th>160</th>\n",
              "      <td>Wolf, Lisa (IV)</td>\n",
              "    </tr>\n",
              "    <tr>\n",
              "      <th>161</th>\n",
              "      <td>Wyrobiec-Bank, Lidia</td>\n",
              "    </tr>\n",
              "    <tr>\n",
              "      <th>162</th>\n",
              "      <td>Yerushalmi, Esti</td>\n",
              "    </tr>\n",
              "    <tr>\n",
              "      <th>163</th>\n",
              "      <td>Yohn, Erica</td>\n",
              "    </tr>\n",
              "    <tr>\n",
              "      <th>164</th>\n",
              "      <td>Zabawa, Lucyna</td>\n",
              "    </tr>\n",
              "  </tbody>\n",
              "</table>\n",
              "<p>165 rows × 1 columns</p>\n",
              "</div>"
            ],
            "text/plain": [
              "                 a_nombre\n",
              "0       Abbott, Jane (II)\n",
              "1         Aldaz, Tracy L.\n",
              "2             Allman, Cie\n",
              "3           Alonso, Chelo\n",
              "4        Arquette, Alexis\n",
              "..                    ...\n",
              "160       Wolf, Lisa (IV)\n",
              "161  Wyrobiec-Bank, Lidia\n",
              "162      Yerushalmi, Esti\n",
              "163           Yohn, Erica\n",
              "164        Zabawa, Lucyna\n",
              "\n",
              "[165 rows x 1 columns]"
            ]
          },
          "metadata": {},
          "execution_count": 22
        }
      ]
    },
    {
      "cell_type": "markdown",
      "metadata": {
        "id": "mOSWOrd6tQ-V"
      },
      "source": [
        "##Pregunta 6\n",
        "Las distintas décadas de las películas en las cuales apareció Clint Eastwood. (Tiene tres resultados; uno es 1960.)"
      ]
    },
    {
      "cell_type": "code",
      "metadata": {
        "colab": {
          "base_uri": "https://localhost:8080/",
          "height": 159
        },
        "id": "QSc_K2istRPu",
        "outputId": "e5ee7dfc-eafd-4070-e9c0-9f8d32c8cc34"
      },
      "source": [
        "%%sql\n",
        "SELECT DISTINCT p_anho - p_anho%10 AS decada\n",
        "FROM personaje \n",
        "WHERE a_nombre='Eastwood, Clint';"
      ],
      "execution_count": null,
      "outputs": [
        {
          "output_type": "stream",
          "name": "stdout",
          "text": [
            " * postgresql+psycopg2://@/postgres\n"
          ]
        },
        {
          "output_type": "execute_result",
          "data": {
            "text/html": [
              "<div>\n",
              "<style scoped>\n",
              "    .dataframe tbody tr th:only-of-type {\n",
              "        vertical-align: middle;\n",
              "    }\n",
              "\n",
              "    .dataframe tbody tr th {\n",
              "        vertical-align: top;\n",
              "    }\n",
              "\n",
              "    .dataframe thead th {\n",
              "        text-align: right;\n",
              "    }\n",
              "</style>\n",
              "<table border=\"1\" class=\"dataframe\">\n",
              "  <thead>\n",
              "    <tr style=\"text-align: right;\">\n",
              "      <th></th>\n",
              "      <th>decada</th>\n",
              "    </tr>\n",
              "  </thead>\n",
              "  <tbody>\n",
              "    <tr>\n",
              "      <th>0</th>\n",
              "      <td>1960</td>\n",
              "    </tr>\n",
              "    <tr>\n",
              "      <th>1</th>\n",
              "      <td>1990</td>\n",
              "    </tr>\n",
              "    <tr>\n",
              "      <th>2</th>\n",
              "      <td>2000</td>\n",
              "    </tr>\n",
              "  </tbody>\n",
              "</table>\n",
              "</div>"
            ],
            "text/plain": [
              "   decada\n",
              "0    1960\n",
              "1    1990\n",
              "2    2000"
            ]
          },
          "metadata": {},
          "execution_count": 26
        }
      ]
    },
    {
      "cell_type": "markdown",
      "metadata": {
        "id": "hV90KW_rtRpZ"
      },
      "source": [
        "##Pregunta 7\n",
        "El conteo de películas distintas por año (para cada año en la tabla pelicula, devolver su conteo de películas)."
      ]
    },
    {
      "cell_type": "code",
      "metadata": {
        "colab": {
          "base_uri": "https://localhost:8080/",
          "height": 436
        },
        "id": "m55CNAwItR6o",
        "outputId": "cdc7e98e-daeb-4c84-ee53-c13ba7931948"
      },
      "source": [
        "%%sql\n",
        "SELECT anho, COUNT(DISTINCT (nombre, anho)) AS conteo -- DISTINCT no es necesario, pero está bien\n",
        "FROM pelicula \n",
        "GROUP BY anho;"
      ],
      "execution_count": null,
      "outputs": [
        {
          "output_type": "stream",
          "name": "stdout",
          "text": [
            " * postgresql+psycopg2://@/postgres\n"
          ]
        },
        {
          "output_type": "execute_result",
          "data": {
            "text/html": [
              "<div>\n",
              "<style scoped>\n",
              "    .dataframe tbody tr th:only-of-type {\n",
              "        vertical-align: middle;\n",
              "    }\n",
              "\n",
              "    .dataframe tbody tr th {\n",
              "        vertical-align: top;\n",
              "    }\n",
              "\n",
              "    .dataframe thead th {\n",
              "        text-align: right;\n",
              "    }\n",
              "</style>\n",
              "<table border=\"1\" class=\"dataframe\">\n",
              "  <thead>\n",
              "    <tr style=\"text-align: right;\">\n",
              "      <th></th>\n",
              "      <th>anho</th>\n",
              "      <th>conteo</th>\n",
              "    </tr>\n",
              "  </thead>\n",
              "  <tbody>\n",
              "    <tr>\n",
              "      <th>0</th>\n",
              "      <td>1921</td>\n",
              "      <td>1</td>\n",
              "    </tr>\n",
              "    <tr>\n",
              "      <th>1</th>\n",
              "      <td>1925</td>\n",
              "      <td>1</td>\n",
              "    </tr>\n",
              "    <tr>\n",
              "      <th>2</th>\n",
              "      <td>1926</td>\n",
              "      <td>1</td>\n",
              "    </tr>\n",
              "    <tr>\n",
              "      <th>3</th>\n",
              "      <td>1927</td>\n",
              "      <td>2</td>\n",
              "    </tr>\n",
              "    <tr>\n",
              "      <th>4</th>\n",
              "      <td>1928</td>\n",
              "      <td>1</td>\n",
              "    </tr>\n",
              "    <tr>\n",
              "      <th>...</th>\n",
              "      <td>...</td>\n",
              "      <td>...</td>\n",
              "    </tr>\n",
              "    <tr>\n",
              "      <th>76</th>\n",
              "      <td>2012</td>\n",
              "      <td>5</td>\n",
              "    </tr>\n",
              "    <tr>\n",
              "      <th>77</th>\n",
              "      <td>2013</td>\n",
              "      <td>4</td>\n",
              "    </tr>\n",
              "    <tr>\n",
              "      <th>78</th>\n",
              "      <td>2014</td>\n",
              "      <td>8</td>\n",
              "    </tr>\n",
              "    <tr>\n",
              "      <th>79</th>\n",
              "      <td>2015</td>\n",
              "      <td>7</td>\n",
              "    </tr>\n",
              "    <tr>\n",
              "      <th>80</th>\n",
              "      <td>2016</td>\n",
              "      <td>2</td>\n",
              "    </tr>\n",
              "  </tbody>\n",
              "</table>\n",
              "<p>81 rows × 2 columns</p>\n",
              "</div>"
            ],
            "text/plain": [
              "    anho  conteo\n",
              "0   1921       1\n",
              "1   1925       1\n",
              "2   1926       1\n",
              "3   1927       2\n",
              "4   1928       1\n",
              "..   ...     ...\n",
              "76  2012       5\n",
              "77  2013       4\n",
              "78  2014       8\n",
              "79  2015       7\n",
              "80  2016       2\n",
              "\n",
              "[81 rows x 2 columns]"
            ]
          },
          "metadata": {},
          "execution_count": 27
        }
      ]
    },
    {
      "cell_type": "markdown",
      "metadata": {
        "id": "OmQpMpcmtSMA"
      },
      "source": [
        "##Pregunta 8\n",
        "Devuelva los mismos resultados como en la Pregunta 7, pero ordenados por conteo descendente y borrando los años cuyo conteo sea menor que 2."
      ]
    },
    {
      "cell_type": "code",
      "metadata": {
        "colab": {
          "base_uri": "https://localhost:8080/",
          "height": 436
        },
        "id": "22VZ7E5ZtSdF",
        "outputId": "692cf9cb-43b4-4bd3-b971-7da0e2edb0af"
      },
      "source": [
        "%%sql\n",
        "SELECT anho, COUNT(DISTINCT(nombre,anho)) AS conteo\n",
        "FROM pelicula \n",
        "GROUP BY anho \n",
        "HAVING COUNT(nombre) >1 \n",
        "ORDER BY conteo DESC;"
      ],
      "execution_count": null,
      "outputs": [
        {
          "output_type": "stream",
          "name": "stdout",
          "text": [
            " * postgresql+psycopg2://@/postgres\n"
          ]
        },
        {
          "output_type": "execute_result",
          "data": {
            "text/html": [
              "<div>\n",
              "<style scoped>\n",
              "    .dataframe tbody tr th:only-of-type {\n",
              "        vertical-align: middle;\n",
              "    }\n",
              "\n",
              "    .dataframe tbody tr th {\n",
              "        vertical-align: top;\n",
              "    }\n",
              "\n",
              "    .dataframe thead th {\n",
              "        text-align: right;\n",
              "    }\n",
              "</style>\n",
              "<table border=\"1\" class=\"dataframe\">\n",
              "  <thead>\n",
              "    <tr style=\"text-align: right;\">\n",
              "      <th></th>\n",
              "      <th>anho</th>\n",
              "      <th>conteo</th>\n",
              "    </tr>\n",
              "  </thead>\n",
              "  <tbody>\n",
              "    <tr>\n",
              "      <th>0</th>\n",
              "      <td>1995</td>\n",
              "      <td>9</td>\n",
              "    </tr>\n",
              "    <tr>\n",
              "      <th>1</th>\n",
              "      <td>1957</td>\n",
              "      <td>8</td>\n",
              "    </tr>\n",
              "    <tr>\n",
              "      <th>2</th>\n",
              "      <td>2014</td>\n",
              "      <td>8</td>\n",
              "    </tr>\n",
              "    <tr>\n",
              "      <th>3</th>\n",
              "      <td>2001</td>\n",
              "      <td>7</td>\n",
              "    </tr>\n",
              "    <tr>\n",
              "      <th>4</th>\n",
              "      <td>2015</td>\n",
              "      <td>7</td>\n",
              "    </tr>\n",
              "    <tr>\n",
              "      <th>...</th>\n",
              "      <td>...</td>\n",
              "      <td>...</td>\n",
              "    </tr>\n",
              "    <tr>\n",
              "      <th>57</th>\n",
              "      <td>1992</td>\n",
              "      <td>2</td>\n",
              "    </tr>\n",
              "    <tr>\n",
              "      <th>58</th>\n",
              "      <td>1927</td>\n",
              "      <td>2</td>\n",
              "    </tr>\n",
              "    <tr>\n",
              "      <th>59</th>\n",
              "      <td>1964</td>\n",
              "      <td>2</td>\n",
              "    </tr>\n",
              "    <tr>\n",
              "      <th>60</th>\n",
              "      <td>1963</td>\n",
              "      <td>2</td>\n",
              "    </tr>\n",
              "    <tr>\n",
              "      <th>61</th>\n",
              "      <td>1996</td>\n",
              "      <td>2</td>\n",
              "    </tr>\n",
              "  </tbody>\n",
              "</table>\n",
              "<p>62 rows × 2 columns</p>\n",
              "</div>"
            ],
            "text/plain": [
              "    anho  conteo\n",
              "0   1995       9\n",
              "1   1957       8\n",
              "2   2014       8\n",
              "3   2001       7\n",
              "4   2015       7\n",
              "..   ...     ...\n",
              "57  1992       2\n",
              "58  1927       2\n",
              "59  1964       2\n",
              "60  1963       2\n",
              "61  1996       2\n",
              "\n",
              "[62 rows x 2 columns]"
            ]
          },
          "metadata": {},
          "execution_count": 28
        }
      ]
    },
    {
      "cell_type": "markdown",
      "metadata": {
        "id": "E5vEqMQRtSq_"
      },
      "source": [
        "##Pregunta 9\n",
        "Sea una buena película una película con una calificación $\\geq 8{,}6$. Para cada actor/actriz, cuente sus distintas buenas películas. Si un actor/una actriz no tiene una buena película, se puede omitirlo/la de los resultados. Ordene los resultados por conteo descendente."
      ]
    },
    {
      "cell_type": "code",
      "metadata": {
        "colab": {
          "base_uri": "https://localhost:8080/",
          "height": 436
        },
        "id": "KPpZxofKtS_l",
        "outputId": "25943e2d-594a-4f04-9157-0fa783c8893a"
      },
      "source": [
        "%%sql\n",
        "SELECT a_nombre, COUNT(DISTINCT(nombre,anho)) AS conteo\n",
        "FROM personaje\n",
        "JOIN pelicula\n",
        "  ON nombre = p_nombre \n",
        "    AND anho = p_anho\n",
        "    AND calificacion > 8.5\n",
        "GROUP BY a_nombre\n",
        "ORDER BY conteo DESC;"
      ],
      "execution_count": null,
      "outputs": [
        {
          "output_type": "stream",
          "name": "stdout",
          "text": [
            " * postgresql+psycopg2://@/postgres\n"
          ]
        },
        {
          "output_type": "execute_result",
          "data": {
            "text/html": [
              "<div>\n",
              "<style scoped>\n",
              "    .dataframe tbody tr th:only-of-type {\n",
              "        vertical-align: middle;\n",
              "    }\n",
              "\n",
              "    .dataframe tbody tr th {\n",
              "        vertical-align: top;\n",
              "    }\n",
              "\n",
              "    .dataframe thead th {\n",
              "        text-align: right;\n",
              "    }\n",
              "</style>\n",
              "<table border=\"1\" class=\"dataframe\">\n",
              "  <thead>\n",
              "    <tr style=\"text-align: right;\">\n",
              "      <th></th>\n",
              "      <th>a_nombre</th>\n",
              "      <th>conteo</th>\n",
              "    </tr>\n",
              "  </thead>\n",
              "  <tbody>\n",
              "    <tr>\n",
              "      <th>0</th>\n",
              "      <td>Weaving, Hugo</td>\n",
              "      <td>4</td>\n",
              "    </tr>\n",
              "    <tr>\n",
              "      <th>1</th>\n",
              "      <td>Astin, Sean</td>\n",
              "      <td>3</td>\n",
              "    </tr>\n",
              "    <tr>\n",
              "      <th>2</th>\n",
              "      <td>Monaghan, Dominic</td>\n",
              "      <td>3</td>\n",
              "    </tr>\n",
              "    <tr>\n",
              "      <th>3</th>\n",
              "      <td>Lee, Christopher (I)</td>\n",
              "      <td>3</td>\n",
              "    </tr>\n",
              "    <tr>\n",
              "      <th>4</th>\n",
              "      <td>Boyd, Billy (I)</td>\n",
              "      <td>3</td>\n",
              "    </tr>\n",
              "    <tr>\n",
              "      <th>...</th>\n",
              "      <td>...</td>\n",
              "      <td>...</td>\n",
              "    </tr>\n",
              "    <tr>\n",
              "      <th>2132</th>\n",
              "      <td>Bates, Billy (I)</td>\n",
              "      <td>1</td>\n",
              "    </tr>\n",
              "    <tr>\n",
              "      <th>2133</th>\n",
              "      <td>Batista, Diego</td>\n",
              "      <td>1</td>\n",
              "    </tr>\n",
              "    <tr>\n",
              "      <th>2134</th>\n",
              "      <td>Batista, Leandro Dias</td>\n",
              "      <td>1</td>\n",
              "    </tr>\n",
              "    <tr>\n",
              "      <th>2135</th>\n",
              "      <td>Bau, Joseph</td>\n",
              "      <td>1</td>\n",
              "    </tr>\n",
              "    <tr>\n",
              "      <th>2136</th>\n",
              "      <td>Bau, Rebeka</td>\n",
              "      <td>1</td>\n",
              "    </tr>\n",
              "  </tbody>\n",
              "</table>\n",
              "<p>2137 rows × 2 columns</p>\n",
              "</div>"
            ],
            "text/plain": [
              "                   a_nombre  conteo\n",
              "0             Weaving, Hugo       4\n",
              "1               Astin, Sean       3\n",
              "2         Monaghan, Dominic       3\n",
              "3      Lee, Christopher (I)       3\n",
              "4           Boyd, Billy (I)       3\n",
              "...                     ...     ...\n",
              "2132       Bates, Billy (I)       1\n",
              "2133         Batista, Diego       1\n",
              "2134  Batista, Leandro Dias       1\n",
              "2135            Bau, Joseph       1\n",
              "2136            Bau, Rebeka       1\n",
              "\n",
              "[2137 rows x 2 columns]"
            ]
          },
          "metadata": {},
          "execution_count": 29
        }
      ]
    },
    {
      "cell_type": "markdown",
      "metadata": {
        "id": "mOvCe9W9ugXp"
      },
      "source": [
        "##Pregunta 10\n",
        "Cuente el número de actrices distintas por película. De haber una película sin actrices, deje un conteo de 0 (en vez de omitir la película)."
      ]
    },
    {
      "cell_type": "code",
      "metadata": {
        "colab": {
          "base_uri": "https://localhost:8080/",
          "height": 436
        },
        "id": "v9pV2Di1uf14",
        "outputId": "8d6d025b-0a58-45ef-b646-d96da3e115b9"
      },
      "source": [
        "%%sql \n",
        "SELECT p_nombre, COUNT(DISTINCT(nombre)) AS conteo\n",
        "FROM personaje\n",
        "  LEFT JOIN actor\n",
        "    ON a_nombre = nombre AND genero = 'F'\n",
        "GROUP BY p_nombre\n",
        "ORDER BY conteo DESC;"
      ],
      "execution_count": null,
      "outputs": [
        {
          "output_type": "stream",
          "name": "stdout",
          "text": [
            " * postgresql+psycopg2://@/postgres\n"
          ]
        },
        {
          "output_type": "execute_result",
          "data": {
            "text/html": [
              "<div>\n",
              "<style scoped>\n",
              "    .dataframe tbody tr th:only-of-type {\n",
              "        vertical-align: middle;\n",
              "    }\n",
              "\n",
              "    .dataframe tbody tr th {\n",
              "        vertical-align: top;\n",
              "    }\n",
              "\n",
              "    .dataframe thead th {\n",
              "        text-align: right;\n",
              "    }\n",
              "</style>\n",
              "<table border=\"1\" class=\"dataframe\">\n",
              "  <thead>\n",
              "    <tr style=\"text-align: right;\">\n",
              "      <th></th>\n",
              "      <th>p_nombre</th>\n",
              "      <th>conteo</th>\n",
              "    </tr>\n",
              "  </thead>\n",
              "  <tbody>\n",
              "    <tr>\n",
              "      <th>0</th>\n",
              "      <td>The Wolf of Wall Street</td>\n",
              "      <td>94</td>\n",
              "    </tr>\n",
              "    <tr>\n",
              "      <th>1</th>\n",
              "      <td>Catch Me If You Can</td>\n",
              "      <td>66</td>\n",
              "    </tr>\n",
              "    <tr>\n",
              "      <th>2</th>\n",
              "      <td>Singin' in the Rain</td>\n",
              "      <td>65</td>\n",
              "    </tr>\n",
              "    <tr>\n",
              "      <th>3</th>\n",
              "      <td>Harry Potter and the Deathly Hallows: Part 2</td>\n",
              "      <td>55</td>\n",
              "    </tr>\n",
              "    <tr>\n",
              "      <th>4</th>\n",
              "      <td>The Dark Knight Rises</td>\n",
              "      <td>55</td>\n",
              "    </tr>\n",
              "    <tr>\n",
              "      <th>...</th>\n",
              "      <td>...</td>\n",
              "      <td>...</td>\n",
              "    </tr>\n",
              "    <tr>\n",
              "      <th>245</th>\n",
              "      <td>Paths of Glory</td>\n",
              "      <td>1</td>\n",
              "    </tr>\n",
              "    <tr>\n",
              "      <th>246</th>\n",
              "      <td>Lawrence of Arabia</td>\n",
              "      <td>1</td>\n",
              "    </tr>\n",
              "    <tr>\n",
              "      <th>247</th>\n",
              "      <td>The Thing</td>\n",
              "      <td>1</td>\n",
              "    </tr>\n",
              "    <tr>\n",
              "      <th>248</th>\n",
              "      <td>The Great Escape</td>\n",
              "      <td>0</td>\n",
              "    </tr>\n",
              "    <tr>\n",
              "      <th>249</th>\n",
              "      <td>12 Angry Men</td>\n",
              "      <td>0</td>\n",
              "    </tr>\n",
              "  </tbody>\n",
              "</table>\n",
              "<p>250 rows × 2 columns</p>\n",
              "</div>"
            ],
            "text/plain": [
              "                                         p_nombre  conteo\n",
              "0                         The Wolf of Wall Street      94\n",
              "1                             Catch Me If You Can      66\n",
              "2                             Singin' in the Rain      65\n",
              "3    Harry Potter and the Deathly Hallows: Part 2      55\n",
              "4                           The Dark Knight Rises      55\n",
              "..                                            ...     ...\n",
              "245                                Paths of Glory       1\n",
              "246                            Lawrence of Arabia       1\n",
              "247                                     The Thing       1\n",
              "248                              The Great Escape       0\n",
              "249                                  12 Angry Men       0\n",
              "\n",
              "[250 rows x 2 columns]"
            ]
          },
          "metadata": {},
          "execution_count": 31
        }
      ]
    }
  ]
}