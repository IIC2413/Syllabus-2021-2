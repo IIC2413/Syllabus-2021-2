{
  "nbformat": 4,
  "nbformat_minor": 0,
  "metadata": {
    "colab": {
      "name": "Guía 6",
      "provenance": [],
      "collapsed_sections": []
    },
    "kernelspec": {
      "display_name": "Python 3",
      "name": "python3"
    }
  },
  "cells": [
    {
      "cell_type": "markdown",
      "metadata": {
        "id": "vMe_cruNz0t3"
      },
      "source": [
        "#Guía 5: Índices\n",
        "\n",
        "Se cuenta con varias tablas que son instancias del siguiente esquema abstracto:\n",
        "\n",
        "* $\\color{green}{\\textbf{pelicula}}(\\color{blue}{\\underline{\\text{nombre}}}, \\color{blue}{\\underline{\\text{anho}}}, \\color{blue}{\\text{calificacion}}, \\color{blue}{\\text{votos}})$ \n",
        "* $\\color{green}{\\textbf{actor}}(\\color{blue}{\\underline{\\text{nombre}}}, \\color{blue}{\\text{genero}})$\n",
        "* $\\color{green}{\\textbf{personaje}}(\\color{blue}{\\underline{\\text{p_nombre}}}, \\color{blue}{\\underline{\\text{p_anho}}},  \\color{blue}{\\underline{\\text{a_nombre}}}, \\color{blue}{\\text{personaje}})$\n",
        "* $\\color{green}{\\textbf{eval}}(\\color{blue}{\\underline{\\text{usuario}}}, \n",
        "\\color{blue}{\\underline{\\text{p_nombre}}}, \\color{blue}{\\underline{\\text{p_anho}}},  \\color{blue}{\\text{opinion}},  \\color{blue}{\\text{eval}})$\n",
        "\n",
        "\n",
        "\n",
        "Para iniciar el servidor virtual, instalar la base de datos postgres, y descargar los datos e importarlos, debe correr el siguiente bloque:\n",
        "\n"
      ]
    },
    {
      "cell_type": "code",
      "metadata": {
        "colab": {
          "base_uri": "https://localhost:8080/",
          "height": 1000
        },
        "id": "xN9MrCqDyMym",
        "outputId": "ef183135-6ae6-49d4-e5b6-3e3e54cc0916"
      },
      "source": [
        "# install\n",
        "!apt update\n",
        "!apt install postgresql postgresql-contrib &>log\n",
        "!service postgresql start\n",
        "!sudo -u postgres psql -c \"CREATE USER root WITH SUPERUSER\"\n",
        "# set connection\n",
        "%load_ext sql\n",
        "%config SqlMagic.feedback=False \n",
        "%config SqlMagic.autopandas=True\n",
        "%sql postgresql+psycopg2://@/postgres\n",
        "!pip install gdown\n",
        "!gdown https://drive.google.com/uc?id=1g7UsolqIt5CatIUiWKQNiQ4sT6zsCZnk\n",
        "!sudo -u postgres psql -c \"CREATE SCHEMA guia\"\n",
        "!psql postgres < /content/guia2.sql\n",
        "!sudo -u postgres psql -c \"CREATE table guia.eval(usuario character varying(255) NOT NULL, p_nombre character varying(255) NOT NULL, p_anho smallint not null, opinion text not null, eval integer not null, PRIMARY KEY (usuario, p_nombre, p_anho));\"\n",
        "!sudo -u postgres psql -c \"ALTER TABLE ONLY guia.eval \\\n",
        "    ADD CONSTRAINT eval_fkey FOREIGN KEY (p_nombre, p_anho) REFERENCES guia.pelicula(nombre, anho);\"\n",
        "%sql set search_path to guia;"
      ],
      "execution_count": null,
      "outputs": [
        {
          "output_type": "stream",
          "name": "stdout",
          "text": [
            "\u001b[33m\r0% [Working]\u001b[0m\r            \rIgn:1 https://developer.download.nvidia.com/compute/cuda/repos/ubuntu1804/x86_64  InRelease\n",
            "Ign:2 https://developer.download.nvidia.com/compute/machine-learning/repos/ubuntu1804/x86_64  InRelease\n",
            "Hit:3 https://developer.download.nvidia.com/compute/cuda/repos/ubuntu1804/x86_64  Release\n",
            "Get:4 https://cloud.r-project.org/bin/linux/ubuntu bionic-cran40/ InRelease [3,626 B]\n",
            "Hit:5 https://developer.download.nvidia.com/compute/machine-learning/repos/ubuntu1804/x86_64  Release\n",
            "Get:6 http://security.ubuntu.com/ubuntu bionic-security InRelease [88.7 kB]\n",
            "Hit:7 http://ppa.launchpad.net/c2d4u.team/c2d4u4.0+/ubuntu bionic InRelease\n",
            "Hit:8 http://archive.ubuntu.com/ubuntu bionic InRelease\n",
            "Get:10 http://archive.ubuntu.com/ubuntu bionic-updates InRelease [88.7 kB]\n",
            "Hit:11 http://ppa.launchpad.net/cran/libgit2/ubuntu bionic InRelease\n",
            "Hit:13 http://ppa.launchpad.net/deadsnakes/ppa/ubuntu bionic InRelease\n",
            "Get:14 http://archive.ubuntu.com/ubuntu bionic-backports InRelease [74.6 kB]\n",
            "Hit:15 http://ppa.launchpad.net/graphics-drivers/ppa/ubuntu bionic InRelease\n",
            "Get:16 http://security.ubuntu.com/ubuntu bionic-security/restricted amd64 Packages [607 kB]\n",
            "Get:17 http://security.ubuntu.com/ubuntu bionic-security/main amd64 Packages [2,367 kB]\n",
            "Get:18 http://security.ubuntu.com/ubuntu bionic-security/universe amd64 Packages [1,431 kB]\n",
            "Get:19 http://archive.ubuntu.com/ubuntu bionic-updates/restricted amd64 Packages [640 kB]\n",
            "Get:20 http://archive.ubuntu.com/ubuntu bionic-updates/universe amd64 Packages [2,210 kB]\n",
            "Get:21 http://archive.ubuntu.com/ubuntu bionic-updates/main amd64 Packages [2,803 kB]\n",
            "Fetched 10.3 MB in 3s (3,151 kB/s)\n",
            "Reading package lists... Done\n",
            "Building dependency tree       \n",
            "Reading state information... Done\n",
            "37 packages can be upgraded. Run 'apt list --upgradable' to see them.\n",
            " * Starting PostgreSQL 10 database server\n",
            "   ...done.\n",
            "CREATE ROLE\n"
          ]
        },
        {
          "output_type": "stream",
          "name": "stderr",
          "text": [
            "/usr/local/lib/python3.7/dist-packages/psycopg2/__init__.py:144: UserWarning: The psycopg2 wheel package will be renamed from release 2.8; in order to keep installing from binary please use \"pip install psycopg2-binary\" instead. For details see: <http://initd.org/psycopg/docs/install.html#binary-install-from-pypi>.\n",
            "  \"\"\")\n"
          ]
        },
        {
          "output_type": "stream",
          "name": "stdout",
          "text": [
            "Requirement already satisfied: gdown in /usr/local/lib/python3.7/dist-packages (3.6.4)\n",
            "Requirement already satisfied: tqdm in /usr/local/lib/python3.7/dist-packages (from gdown) (4.62.3)\n",
            "Requirement already satisfied: six in /usr/local/lib/python3.7/dist-packages (from gdown) (1.15.0)\n",
            "Requirement already satisfied: requests in /usr/local/lib/python3.7/dist-packages (from gdown) (2.23.0)\n",
            "Requirement already satisfied: certifi>=2017.4.17 in /usr/local/lib/python3.7/dist-packages (from requests->gdown) (2021.5.30)\n",
            "Requirement already satisfied: idna<3,>=2.5 in /usr/local/lib/python3.7/dist-packages (from requests->gdown) (2.10)\n",
            "Requirement already satisfied: chardet<4,>=3.0.2 in /usr/local/lib/python3.7/dist-packages (from requests->gdown) (3.0.4)\n",
            "Requirement already satisfied: urllib3!=1.25.0,!=1.25.1,<1.26,>=1.21.1 in /usr/local/lib/python3.7/dist-packages (from requests->gdown) (1.24.3)\n",
            "Downloading...\n",
            "From: https://drive.google.com/uc?id=1g7UsolqIt5CatIUiWKQNiQ4sT6zsCZnk\n",
            "To: /content/guia2.sql\n",
            "100% 1.22M/1.22M [00:00<00:00, 5.70MB/s]\n",
            "CREATE SCHEMA\n",
            "SET\n",
            "SET\n",
            "SET\n",
            "SET\n",
            "SET\n",
            " set_config \n",
            "------------\n",
            " \n",
            "(1 row)\n",
            "\n",
            "SET\n",
            "SET\n",
            "SET\n",
            "SET\n",
            "ERROR:  schema \"guia\" already exists\n",
            "SET\n",
            "SET\n",
            "CREATE TABLE\n",
            "ALTER TABLE\n",
            "CREATE TABLE\n",
            "ALTER TABLE\n",
            "CREATE TABLE\n",
            "ALTER TABLE\n",
            "COPY 14676\n",
            "COPY 250\n",
            "COPY 17229\n",
            "ALTER TABLE\n",
            "ALTER TABLE\n",
            "ALTER TABLE\n",
            "ALTER TABLE\n",
            "ALTER TABLE\n",
            "GRANT\n",
            "GRANT\n",
            "GRANT\n",
            "GRANT\n",
            "ALTER DEFAULT PRIVILEGES\n",
            "ALTER DEFAULT PRIVILEGES\n",
            "CREATE TABLE\n",
            "ALTER TABLE\n",
            " * postgresql+psycopg2://@/postgres\n"
          ]
        },
        {
          "output_type": "execute_result",
          "data": {
            "text/html": [
              "<div>\n",
              "<style scoped>\n",
              "    .dataframe tbody tr th:only-of-type {\n",
              "        vertical-align: middle;\n",
              "    }\n",
              "\n",
              "    .dataframe tbody tr th {\n",
              "        vertical-align: top;\n",
              "    }\n",
              "\n",
              "    .dataframe thead th {\n",
              "        text-align: right;\n",
              "    }\n",
              "</style>\n",
              "<table border=\"1\" class=\"dataframe\">\n",
              "  <thead>\n",
              "    <tr style=\"text-align: right;\">\n",
              "      <th></th>\n",
              "    </tr>\n",
              "  </thead>\n",
              "  <tbody>\n",
              "  </tbody>\n",
              "</table>\n",
              "</div>"
            ],
            "text/plain": [
              "Empty DataFrame\n",
              "Columns: []\n",
              "Index: []"
            ]
          },
          "metadata": {},
          "execution_count": 1
        }
      ]
    },
    {
      "cell_type": "markdown",
      "metadata": {
        "id": "ydn64zTV5o9m"
      },
      "source": [
        "Ejecute la siguiente consulta para probar que todo ande bien:"
      ]
    },
    {
      "cell_type": "code",
      "metadata": {
        "colab": {
          "base_uri": "https://localhost:8080/",
          "height": 436
        },
        "id": "YswMeCEv2NKP",
        "outputId": "d47b85f9-d86c-48fd-d8d0-63271e0e1876"
      },
      "source": [
        "%sql SELECT * FROM pelicula;"
      ],
      "execution_count": null,
      "outputs": [
        {
          "output_type": "stream",
          "name": "stdout",
          "text": [
            " * postgresql+psycopg2://@/postgres\n"
          ]
        },
        {
          "output_type": "execute_result",
          "data": {
            "text/html": [
              "<div>\n",
              "<style scoped>\n",
              "    .dataframe tbody tr th:only-of-type {\n",
              "        vertical-align: middle;\n",
              "    }\n",
              "\n",
              "    .dataframe tbody tr th {\n",
              "        vertical-align: top;\n",
              "    }\n",
              "\n",
              "    .dataframe thead th {\n",
              "        text-align: right;\n",
              "    }\n",
              "</style>\n",
              "<table border=\"1\" class=\"dataframe\">\n",
              "  <thead>\n",
              "    <tr style=\"text-align: right;\">\n",
              "      <th></th>\n",
              "      <th>nombre</th>\n",
              "      <th>anho</th>\n",
              "      <th>calificacion</th>\n",
              "    </tr>\n",
              "  </thead>\n",
              "  <tbody>\n",
              "    <tr>\n",
              "      <th>0</th>\n",
              "      <td>The Shawshank Redemption</td>\n",
              "      <td>1994</td>\n",
              "      <td>9.2</td>\n",
              "    </tr>\n",
              "    <tr>\n",
              "      <th>1</th>\n",
              "      <td>The Godfather</td>\n",
              "      <td>1972</td>\n",
              "      <td>9.2</td>\n",
              "    </tr>\n",
              "    <tr>\n",
              "      <th>2</th>\n",
              "      <td>The Godfather: Part II</td>\n",
              "      <td>1974</td>\n",
              "      <td>9.0</td>\n",
              "    </tr>\n",
              "    <tr>\n",
              "      <th>3</th>\n",
              "      <td>The Dark Knight</td>\n",
              "      <td>2008</td>\n",
              "      <td>8.9</td>\n",
              "    </tr>\n",
              "    <tr>\n",
              "      <th>4</th>\n",
              "      <td>12 Angry Men</td>\n",
              "      <td>1957</td>\n",
              "      <td>8.9</td>\n",
              "    </tr>\n",
              "    <tr>\n",
              "      <th>...</th>\n",
              "      <td>...</td>\n",
              "      <td>...</td>\n",
              "      <td>...</td>\n",
              "    </tr>\n",
              "    <tr>\n",
              "      <th>245</th>\n",
              "      <td>The King's Speech</td>\n",
              "      <td>2010</td>\n",
              "      <td>8.0</td>\n",
              "    </tr>\n",
              "    <tr>\n",
              "      <th>246</th>\n",
              "      <td>The Avengers</td>\n",
              "      <td>2012</td>\n",
              "      <td>8.0</td>\n",
              "    </tr>\n",
              "    <tr>\n",
              "      <th>247</th>\n",
              "      <td>Lagaan: Once Upon a Time in India</td>\n",
              "      <td>2001</td>\n",
              "      <td>8.0</td>\n",
              "    </tr>\n",
              "    <tr>\n",
              "      <th>248</th>\n",
              "      <td>Beauty and the Beast</td>\n",
              "      <td>1991</td>\n",
              "      <td>8.0</td>\n",
              "    </tr>\n",
              "    <tr>\n",
              "      <th>249</th>\n",
              "      <td>Kumonosu-jô</td>\n",
              "      <td>1957</td>\n",
              "      <td>8.0</td>\n",
              "    </tr>\n",
              "  </tbody>\n",
              "</table>\n",
              "<p>250 rows × 3 columns</p>\n",
              "</div>"
            ],
            "text/plain": [
              "                                nombre  anho  calificacion\n",
              "0             The Shawshank Redemption  1994           9.2\n",
              "1                        The Godfather  1972           9.2\n",
              "2               The Godfather: Part II  1974           9.0\n",
              "3                      The Dark Knight  2008           8.9\n",
              "4                         12 Angry Men  1957           8.9\n",
              "..                                 ...   ...           ...\n",
              "245                  The King's Speech  2010           8.0\n",
              "246                       The Avengers  2012           8.0\n",
              "247  Lagaan: Once Upon a Time in India  2001           8.0\n",
              "248               Beauty and the Beast  1991           8.0\n",
              "249                        Kumonosu-jô  1957           8.0\n",
              "\n",
              "[250 rows x 3 columns]"
            ]
          },
          "metadata": {},
          "execution_count": 2
        }
      ]
    },
    {
      "cell_type": "markdown",
      "metadata": {
        "id": "ETAuRqPi5vxa"
      },
      "source": [
        "Para ejecutar consultas multi-lineas use el tag %%sql:"
      ]
    },
    {
      "cell_type": "code",
      "metadata": {
        "colab": {
          "base_uri": "https://localhost:8080/",
          "height": 436
        },
        "id": "LvtXc3xx50Cc",
        "outputId": "b3d31a67-0dcc-4b7c-f6ac-a91d04f2d4cc"
      },
      "source": [
        "%%sql\n",
        "SELECT * FROM actor;"
      ],
      "execution_count": null,
      "outputs": [
        {
          "output_type": "stream",
          "name": "stdout",
          "text": [
            " * postgresql+psycopg2://@/postgres\n"
          ]
        },
        {
          "output_type": "execute_result",
          "data": {
            "text/html": [
              "<div>\n",
              "<style scoped>\n",
              "    .dataframe tbody tr th:only-of-type {\n",
              "        vertical-align: middle;\n",
              "    }\n",
              "\n",
              "    .dataframe tbody tr th {\n",
              "        vertical-align: top;\n",
              "    }\n",
              "\n",
              "    .dataframe thead th {\n",
              "        text-align: right;\n",
              "    }\n",
              "</style>\n",
              "<table border=\"1\" class=\"dataframe\">\n",
              "  <thead>\n",
              "    <tr style=\"text-align: right;\">\n",
              "      <th></th>\n",
              "      <th>nombre</th>\n",
              "      <th>genero</th>\n",
              "    </tr>\n",
              "  </thead>\n",
              "  <tbody>\n",
              "    <tr>\n",
              "      <th>0</th>\n",
              "      <td>Aames, Angela</td>\n",
              "      <td>F</td>\n",
              "    </tr>\n",
              "    <tr>\n",
              "      <th>1</th>\n",
              "      <td>Aames, Marlene</td>\n",
              "      <td>F</td>\n",
              "    </tr>\n",
              "    <tr>\n",
              "      <th>2</th>\n",
              "      <td>Abad, Regina</td>\n",
              "      <td>F</td>\n",
              "    </tr>\n",
              "    <tr>\n",
              "      <th>3</th>\n",
              "      <td>Abbott, Diahnne</td>\n",
              "      <td>F</td>\n",
              "    </tr>\n",
              "    <tr>\n",
              "      <th>4</th>\n",
              "      <td>Abbott, Dorothy</td>\n",
              "      <td>F</td>\n",
              "    </tr>\n",
              "    <tr>\n",
              "      <th>...</th>\n",
              "      <td>...</td>\n",
              "      <td>...</td>\n",
              "    </tr>\n",
              "    <tr>\n",
              "      <th>14671</th>\n",
              "      <td>Ôtomo, Shin</td>\n",
              "      <td>M</td>\n",
              "    </tr>\n",
              "    <tr>\n",
              "      <th>14672</th>\n",
              "      <td>Ôtsuka, Akio</td>\n",
              "      <td>M</td>\n",
              "    </tr>\n",
              "    <tr>\n",
              "      <th>14673</th>\n",
              "      <td>Ôtsuka, Hideo</td>\n",
              "      <td>M</td>\n",
              "    </tr>\n",
              "    <tr>\n",
              "      <th>14674</th>\n",
              "      <td>Ôtsuka, Hôchû</td>\n",
              "      <td>M</td>\n",
              "    </tr>\n",
              "    <tr>\n",
              "      <th>14675</th>\n",
              "      <td>Öncel, Gökhan</td>\n",
              "      <td>M</td>\n",
              "    </tr>\n",
              "  </tbody>\n",
              "</table>\n",
              "<p>14676 rows × 2 columns</p>\n",
              "</div>"
            ],
            "text/plain": [
              "                nombre genero\n",
              "0        Aames, Angela      F\n",
              "1       Aames, Marlene      F\n",
              "2         Abad, Regina      F\n",
              "3      Abbott, Diahnne      F\n",
              "4      Abbott, Dorothy      F\n",
              "...                ...    ...\n",
              "14671      Ôtomo, Shin      M\n",
              "14672     Ôtsuka, Akio      M\n",
              "14673    Ôtsuka, Hideo      M\n",
              "14674    Ôtsuka, Hôchû      M\n",
              "14675    Öncel, Gökhan      M\n",
              "\n",
              "[14676 rows x 2 columns]"
            ]
          },
          "metadata": {},
          "execution_count": 3
        }
      ]
    },
    {
      "cell_type": "markdown",
      "metadata": {
        "id": "3jebBz5VWWPr"
      },
      "source": [
        "Ahora, debe diseñar las consultas que resuelvan las siguientes preguntas usando los operadores vistos en clases.\n",
        "\n",
        "# Vistas y Disparadores\n",
        "\n",
        "## Pregunta 1\n",
        "En esta pregunta se desea obtener (sin pares reflexivos $[a,a]$ y sin repeticiones simétricas, es decir, si aparece $[a, b]$ no debe aparecer $[b, a]$) todas las parejas de coactores/coactrices de la base de datos que han aparecido juntos en al menos una película y la cantidad de películas en que han participado juntos. Para esto:\n",
        "\n",
        "1. Escriba una consulta en SQL que obtenga lo pedido; obtenga el tiempo de ejecución.\n",
        "\n"
      ]
    },
    {
      "cell_type": "code",
      "metadata": {
        "id": "T7i26SK6iNXp"
      },
      "source": [
        ""
      ],
      "execution_count": null,
      "outputs": []
    },
    {
      "cell_type": "markdown",
      "metadata": {
        "id": "EanhggSb39bj"
      },
      "source": [
        "2. Cree una vista que sirva para obtener lo pedido (la vista debe tener un nombre único en el esquema; la vista no puede tener dos columnas con el mismo nombre pero se puede usar $\\texttt{AS}$ en la consulta para cambiar los nombres) y luego ejecute la consulta:\n",
        "$\\texttt{SELECT * FROM vista}$\n",
        "sobre ella, obteniendo el tiempo de ejecución.\n",
        "\n"
      ]
    },
    {
      "cell_type": "code",
      "metadata": {
        "id": "A25O8l4wnf5g"
      },
      "source": [
        ""
      ],
      "execution_count": null,
      "outputs": []
    },
    {
      "cell_type": "markdown",
      "metadata": {
        "id": "A9JIENMp3_RV"
      },
      "source": [
        "3. Cree una vista materializada que obtenga lo pedido y ejecute la consulta $\\texttt{SELECT * FROM vista_materializada}$\n",
        "sobre ella, obteniendo el tiempo de ejecución.\n",
        "\n"
      ]
    },
    {
      "cell_type": "code",
      "metadata": {
        "id": "QOHRo2QN4BE2"
      },
      "source": [
        ""
      ],
      "execution_count": null,
      "outputs": []
    },
    {
      "cell_type": "markdown",
      "metadata": {
        "id": "bXx5ydBH6LDW"
      },
      "source": [
        "## Pregunta 2\n",
        "En esta pregunta, se desea obtener todos los coactores/coactrices de \"$\\texttt{Pesci, Joe}$\" ordenados de mayor a menor cantidad de películas en que aparezcan juntos. Para esto:\n",
        "\n",
        "1. Escriba una consulta en SQL que obtenga la respuesta directamente de las tablas bases y registre el tiempo de ejecución. \n"
      ]
    },
    {
      "cell_type": "code",
      "metadata": {
        "id": "HKh3De3y76R4"
      },
      "source": [
        ""
      ],
      "execution_count": null,
      "outputs": []
    },
    {
      "cell_type": "markdown",
      "metadata": {
        "id": "c8JHBreBji51"
      },
      "source": [
        "2. Escribe una consulta que obtenga los mismos resultados que la P21 pero esta vez usando (solo) la vista creada en la P12; registre el tiempo de ejecución."
      ]
    },
    {
      "cell_type": "code",
      "metadata": {
        "id": "x_1Fl4NmnmG5"
      },
      "source": [
        ""
      ],
      "execution_count": null,
      "outputs": []
    },
    {
      "cell_type": "markdown",
      "metadata": {
        "id": "vjSnjJcojlov"
      },
      "source": [
        "3. Escribe una consulta que obtenga los mismos resultados que la P2.1 pero esta vez usando (solo) la vista materializada creada en la P1.3; registre el tiempo de ejecución. ¿Es este tiempo mejor que el obtenido con las otras alternativas? Cree los índices que crea necesarios en la vista materializada para mejorar el tiempo de ejecución y registre el tiempo de ejecución con los índices nuevos."
      ]
    },
    {
      "cell_type": "code",
      "metadata": {
        "id": "m8QcDluDnoT6"
      },
      "source": [
        ""
      ],
      "execution_count": null,
      "outputs": []
    },
    {
      "cell_type": "markdown",
      "metadata": {
        "id": "VBzPnV1u7MKd"
      },
      "source": [
        "# Pregunta 3\n",
        "En esta pregunta, usted debe agregar evaluaciones en la tabla $\\texttt{eval}$: los atributos $\\texttt{p_nombre}$ y $\\texttt{p_anho}$ se refieren a la llave de la película a evaluar, $\\texttt{usuario}$ es el nombre del usuario que hace la evaluación y $\\texttt{eval}$ la calificación (entre 0 y 10). Se le pide que:\n",
        "\n",
        "1.   Agregue dos evaluaciones a dos películas distintas de su elección.\n",
        "\n"
      ]
    },
    {
      "cell_type": "code",
      "metadata": {
        "id": "0-FQLzHTnppf"
      },
      "source": [
        ""
      ],
      "execution_count": null,
      "outputs": []
    },
    {
      "cell_type": "markdown",
      "metadata": {
        "id": "Q_CAUtM0mQE8"
      },
      "source": [
        "2. Cree una vista virtual de todas las evaluaciones que se han hecho en las mismas películas que evaluó usted usando el campo $\\texttt{usuario}$. Debe proyectar todos los atributos de la tabla $\\texttt{eval}$. Cree la vista materializada equivalente."
      ]
    },
    {
      "cell_type": "code",
      "metadata": {
        "id": "uTfkHp7tnq_x"
      },
      "source": [
        ""
      ],
      "execution_count": null,
      "outputs": []
    },
    {
      "cell_type": "code",
      "metadata": {
        "id": "sU8SlCM0nrQW"
      },
      "source": [
        ""
      ],
      "execution_count": null,
      "outputs": []
    },
    {
      "cell_type": "markdown",
      "metadata": {
        "id": "XqugY7YnmzVM"
      },
      "source": [
        "3. Agregue dos evaluaciones nuevas en otras dos películas."
      ]
    },
    {
      "cell_type": "code",
      "metadata": {
        "id": "ibNPMGa3nse2"
      },
      "source": [
        ""
      ],
      "execution_count": null,
      "outputs": []
    },
    {
      "cell_type": "markdown",
      "metadata": {
        "id": "EtzrYouum1Ma"
      },
      "source": [
        "4. Consulte por las evaluaciones tanto en la vista virtual como en la materializada ¿Son iguales? ¿Por qué?"
      ]
    },
    {
      "cell_type": "code",
      "metadata": {
        "id": "zMiNtW0snuOq"
      },
      "source": [
        ""
      ],
      "execution_count": null,
      "outputs": []
    },
    {
      "cell_type": "code",
      "metadata": {
        "id": "iq6J2G50nudF"
      },
      "source": [
        ""
      ],
      "execution_count": null,
      "outputs": []
    },
    {
      "cell_type": "markdown",
      "metadata": {
        "id": "FhPkfafxm4F_"
      },
      "source": [
        "5. Refresque la vista materializada y vuelva a ejecutar las consultas ¿Son iguales? ¿Por qué?"
      ]
    },
    {
      "cell_type": "code",
      "metadata": {
        "id": "-IEyKXgEnw0E"
      },
      "source": [
        ""
      ],
      "execution_count": null,
      "outputs": []
    },
    {
      "cell_type": "markdown",
      "metadata": {
        "id": "6vbcuEUAm5KS"
      },
      "source": [
        "6. Cree un disparador y su correspondiente *stored procedure* para refrescar su vista materializada *solo* cuando haya una actualización o inserción *relevante* para la vista en la tabla $\\texttt{eval}$, es decir, una actualización o inserción que involucre las evaluaciones de usted o las evaluaciones de las mismas películas hechas por otros usuarios. \n",
        "\n",
        "Hint:\n",
        "Puede usar el la syntaxis $\\texttt{IF EXISTS ... THEN .... END IF}$ para chequear si una consulta devuelve al menos 1 tupla. Por ejemplo\n",
        "```\n",
        "...\n",
        "BEGIN\n",
        "   IF EXISTS (SELECT FROM orders) \n",
        "   THEN\n",
        "      DELETE FROM orders;\n",
        "   ELSE\n",
        "      INSERT INTO orders VALUES (1,2,3);\n",
        "   END IF;\n",
        "   ...\n",
        "END\n",
        "...\n",
        "```\n",
        "Si existen tuplas en una tabla $\\texttt{orders}$, entonces elimina todas las tuplas; en caso contrario, inserta una nueva."
      ]
    },
    {
      "cell_type": "code",
      "metadata": {
        "id": "vozrVgV_nzY_"
      },
      "source": [
        ""
      ],
      "execution_count": null,
      "outputs": []
    },
    {
      "cell_type": "code",
      "metadata": {
        "id": "4-8kuYmHnzrT"
      },
      "source": [
        ""
      ],
      "execution_count": null,
      "outputs": []
    },
    {
      "cell_type": "markdown",
      "metadata": {
        "id": "p_ROUoAzmAmN"
      },
      "source": [
        "7. Agregue una evaluación nueva hecha por usted y otra por otro usuario y verifique que su disparador y store procedure funcionan correctamente sobre la vista materializada."
      ]
    },
    {
      "cell_type": "code",
      "metadata": {
        "id": "kchrerfTn1Mc"
      },
      "source": [
        ""
      ],
      "execution_count": null,
      "outputs": []
    },
    {
      "cell_type": "code",
      "metadata": {
        "id": "lRDehLHQn1Zn"
      },
      "source": [
        ""
      ],
      "execution_count": null,
      "outputs": []
    }
  ]
}